{
 "cells": [
  {
   "cell_type": "markdown",
   "metadata": {
    "toc": true
   },
   "source": [
    "<h1>Table of Contents<span class=\"tocSkip\"></span></h1>\n",
    "<div class=\"toc\"><ul class=\"toc-item\"></ul></div>"
   ]
  },
  {
   "cell_type": "code",
   "execution_count": 130,
   "metadata": {},
   "outputs": [],
   "source": [
    "import numpy as np\n",
    "import sys\n",
    "import heapq\n",
    "sys.setrecursionlimit(1000000)"
   ]
  },
  {
   "cell_type": "code",
   "execution_count": 131,
   "metadata": {},
   "outputs": [],
   "source": [
    "Vs = np.array([[-1,0], [1,0], [0,-1], [0,1]])"
   ]
  },
  {
   "cell_type": "code",
   "execution_count": 132,
   "metadata": {},
   "outputs": [
    {
     "data": {
      "text/plain": [
       "'112515335221413545143126313163342254542323473516714755675771426135573376356345211326153347725226233733645632223253642241635145515252554145124'"
      ]
     },
     "execution_count": 132,
     "metadata": {},
     "output_type": "execute_result"
    }
   ],
   "source": [
    "with open(\"input.txt\") as f:\n",
    "    dataraw = f.read().split(\"\\n\")[:-1]\n",
    "dataraw[-1]"
   ]
  },
  {
   "cell_type": "code",
   "execution_count": 97,
   "metadata": {},
   "outputs": [
    {
     "data": {
      "text/plain": [
       "'2413432311323'"
      ]
     },
     "execution_count": 97,
     "metadata": {},
     "output_type": "execute_result"
    }
   ],
   "source": [
    "dataraw = \"\"\"\\\n",
    "2413432311323\n",
    "3215453535623\n",
    "3255245654254\n",
    "3446585845452\n",
    "4546657867536\n",
    "1438598798454\n",
    "4457876987766\n",
    "3637877979653\n",
    "4654967986887\n",
    "4564679986453\n",
    "1224686865563\n",
    "2546548887735\n",
    "4322674655533\"\"\".split(\"\\n\")\n",
    "dataraw[0]"
   ]
  },
  {
   "cell_type": "code",
   "execution_count": 133,
   "metadata": {},
   "outputs": [
    {
     "data": {
      "text/plain": [
       "((141, 141),\n",
       " array([[4, 4, 4, ..., 2, 4, 3],\n",
       "        [4, 2, 1, ..., 1, 3, 3],\n",
       "        [1, 2, 2, ..., 5, 5, 3],\n",
       "        ...,\n",
       "        [3, 2, 1, ..., 1, 2, 2],\n",
       "        [4, 2, 3, ..., 2, 5, 3],\n",
       "        [1, 1, 2, ..., 1, 2, 4]]))"
      ]
     },
     "execution_count": 133,
     "metadata": {},
     "output_type": "execute_result"
    }
   ],
   "source": [
    "data = np.array([list(dat) for dat in dataraw], dtype=int)\n",
    "data.shape, data"
   ]
  },
  {
   "cell_type": "code",
   "execution_count": 134,
   "metadata": {},
   "outputs": [
    {
     "name": "stdout",
     "output_type": "stream",
     "text": [
      "141 141\n"
     ]
    }
   ],
   "source": [
    "nrow, ncol = data.shape\n",
    "print(nrow, ncol)\n",
    "mindist, maxdist = 0, 3 # for part 1\n",
    "#mindist, maxdist = 4, 10 # for part 2\n",
    "def get_distance(irow, icol):\n",
    "    return nrow-irow-1 + ncol-icol-1"
   ]
  },
  {
   "cell_type": "code",
   "execution_count": 144,
   "metadata": {},
   "outputs": [
    {
     "name": "stdout",
     "output_type": "stream",
     "text": [
      "reached goal\n",
      "reached goal\n"
     ]
    }
   ],
   "source": [
    "irow, icol = 0, 0\n",
    "vt = -1 #there is no direction at start\n",
    "seen = set()\n",
    "costs = {}\n",
    "queue = [(0,irow, icol, vt)]\n",
    "\n",
    "# nit=0\n",
    "# maxit = 1000000\n",
    "while queue:\n",
    "    cost, x, y, vt = heapq.heappop(queue)\n",
    "    d = get_distance(x, y)\n",
    "\n",
    "    if node in seen:\n",
    "        continue\n",
    "    if d==0:\n",
    "        print(\"reached goal\")\n",
    "\n",
    "    seen.add((x, y, vt))\n",
    "    \n",
    "    for vi in range(4):\n",
    "        if vi == vt or np.array_equal(Vs[vi],-Vs[vt]): # can't go these ways\n",
    "            continue\n",
    "        \n",
    "        costincrease = 0\n",
    "        for distance in range(1, maxdist + 1):\n",
    "            xnew = x + distance * Vs[vi][0]\n",
    "            ynew = y + distance * Vs[vi][1]\n",
    "            if xnew<0 or ynew<0 or xnew>=ncol or ynew>=nrow:\n",
    "                continue\n",
    "                \n",
    "            costincrease += data[ynew, xnew]\n",
    "            if distance < mindist:\n",
    "                continue\n",
    "            if cost + costincrease >= costs.get((xnew, ynew, vi), sys.maxsize):\n",
    "                continue\n",
    "            costs[(xnew, ynew, vi)] = cost + costincrease\n",
    "            heapq.heappush(queue, (cost+costincrease, xnew, ynew, vi))\n",
    "\n",
    "    if nit>=maxit:\n",
    "        print(\"reached max_it\")\n",
    "        break\n",
    "    nit += 1"
   ]
  },
  {
   "cell_type": "code",
   "execution_count": 141,
   "metadata": {},
   "outputs": [
    {
     "data": {
      "text/plain": [
       "845"
      ]
     },
     "execution_count": 141,
     "metadata": {},
     "output_type": "execute_result"
    }
   ],
   "source": [
    "# we should arrive from going to the right or down.\n",
    "min(costs[(nrow-1,ncol-1,3)], costs[(nrow-1,ncol-1,1)])"
   ]
  },
  {
   "cell_type": "code",
   "execution_count": null,
   "metadata": {},
   "outputs": [],
   "source": []
  }
 ],
 "metadata": {
  "kernelspec": {
   "display_name": "Python 3",
   "language": "python",
   "name": "python3"
  },
  "language_info": {
   "codemirror_mode": {
    "name": "ipython",
    "version": 3
   },
   "file_extension": ".py",
   "mimetype": "text/x-python",
   "name": "python",
   "nbconvert_exporter": "python",
   "pygments_lexer": "ipython3",
   "version": "3.7.6"
  },
  "toc": {
   "base_numbering": 1,
   "nav_menu": {},
   "number_sections": true,
   "sideBar": true,
   "skip_h1_title": false,
   "title_cell": "Table of Contents",
   "title_sidebar": "Contents",
   "toc_cell": true,
   "toc_position": {},
   "toc_section_display": true,
   "toc_window_display": false
  }
 },
 "nbformat": 4,
 "nbformat_minor": 4
}
