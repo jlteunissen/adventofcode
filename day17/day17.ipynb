{
 "cells": [
  {
   "cell_type": "markdown",
   "metadata": {
    "toc": true
   },
   "source": [
    "<h1>Table of Contents<span class=\"tocSkip\"></span></h1>\n",
    "<div class=\"toc\"><ul class=\"toc-item\"></ul></div>"
   ]
  },
  {
   "cell_type": "code",
   "execution_count": 6,
   "metadata": {},
   "outputs": [],
   "source": [
    "import numpy as np\n",
    "from functools import lru_cache\n",
    "from collections import Counter, defaultdict\n",
    "import sys\n",
    "import resource\n",
    "sys.setrecursionlimit(1000000)"
   ]
  },
  {
   "cell_type": "code",
   "execution_count": 23,
   "metadata": {},
   "outputs": [],
   "source": [
    "import heapq"
   ]
  },
  {
   "cell_type": "code",
   "execution_count": 15,
   "metadata": {},
   "outputs": [],
   "source": [
    "from enum import Enum\n",
    "\n",
    "class V(Enum):\n",
    "    UP = (-1, 0)    # Move up (decrement row)\n",
    "    DOWN = (1, 0)   # Move down (increment row)\n",
    "    LEFT = (0, -1)  # Move left (decrement column)\n",
    "    RIGHT = (0, 1)  # Move right (increment column)"
   ]
  },
  {
   "cell_type": "code",
   "execution_count": 4,
   "metadata": {},
   "outputs": [
    {
     "data": {
      "text/plain": [
       "(13, 13)"
      ]
     },
     "execution_count": 4,
     "metadata": {},
     "output_type": "execute_result"
    }
   ],
   "source": [
    "dataraw = \"\"\"\\\n",
    "2413432311323\n",
    "3215453535623\n",
    "3255245654254\n",
    "3446585845452\n",
    "4546657867536\n",
    "1438598798454\n",
    "4457876987766\n",
    "3637877979653\n",
    "4654967986887\n",
    "4564679986453\n",
    "1224686865563\n",
    "2546548887735\n",
    "4322674655533\"\"\".split(\"\\n\")\n",
    "data = np.array([list(dat) for dat in dataraw], dtype=int)\n",
    "data.shape"
   ]
  },
  {
   "cell_type": "code",
   "execution_count": 5,
   "metadata": {},
   "outputs": [
    {
     "data": {
      "text/plain": [
       "array([[2, 4, 1, 3, 4, 3, 2, 3, 1, 1, 3, 2, 3],\n",
       "       [3, 2, 1, 5, 4, 5, 3, 5, 3, 5, 6, 2, 3],\n",
       "       [3, 2, 5, 5, 2, 4, 5, 6, 5, 4, 2, 5, 4],\n",
       "       [3, 4, 4, 6, 5, 8, 5, 8, 4, 5, 4, 5, 2],\n",
       "       [4, 5, 4, 6, 6, 5, 7, 8, 6, 7, 5, 3, 6],\n",
       "       [1, 4, 3, 8, 5, 9, 8, 7, 9, 8, 4, 5, 4],\n",
       "       [4, 4, 5, 7, 8, 7, 6, 9, 8, 7, 7, 6, 6],\n",
       "       [3, 6, 3, 7, 8, 7, 7, 9, 7, 9, 6, 5, 3],\n",
       "       [4, 6, 5, 4, 9, 6, 7, 9, 8, 6, 8, 8, 7],\n",
       "       [4, 5, 6, 4, 6, 7, 9, 9, 8, 6, 4, 5, 3],\n",
       "       [1, 2, 2, 4, 6, 8, 6, 8, 6, 5, 5, 6, 3],\n",
       "       [2, 5, 4, 6, 5, 4, 8, 8, 8, 7, 7, 3, 5],\n",
       "       [4, 3, 2, 2, 6, 7, 4, 6, 5, 5, 5, 3, 3]])"
      ]
     },
     "execution_count": 5,
     "metadata": {},
     "output_type": "execute_result"
    }
   ],
   "source": [
    "data"
   ]
  },
  {
   "cell_type": "code",
   "execution_count": 14,
   "metadata": {},
   "outputs": [
    {
     "name": "stdout",
     "output_type": "stream",
     "text": [
      "13 13\n"
     ]
    }
   ],
   "source": [
    "nrow, ncol = data.shape\n",
    "print(nrow, ncol)\n",
    "def distance(irow, icol):\n",
    "    return nrow-irow + ncol-icol"
   ]
  },
  {
   "cell_type": "code",
   "execution_count": 28,
   "metadata": {},
   "outputs": [
    {
     "name": "stdout",
     "output_type": "stream",
     "text": [
      "node (26, (0, 0))\n"
     ]
    }
   ],
   "source": [
    "irow, icol = 0, 0\n",
    "nstraight = 0\n",
    "que = [(distance(irow, icol),(irow, icol))]\n",
    "\n",
    "nit=0\n",
    "maxit = 10\n",
    "while que:\n",
    "    d, node = heapq.heappop(que)\n",
    "    print(\"node\", node)\n",
    "    \n",
    "    # reached goal\n",
    "    if d==0:\n",
    "        break\n",
    "    \n",
    "    for v in V:\n",
    "        pass\n",
    "    \n",
    "\n",
    "    if nit>=maxit:\n",
    "        break\n",
    "    nit += 1"
   ]
  },
  {
   "cell_type": "code",
   "execution_count": 29,
   "metadata": {},
   "outputs": [
    {
     "name": "stdout",
     "output_type": "stream",
     "text": [
      "V.UP\n",
      "V.DOWN\n",
      "V.LEFT\n",
      "V.RIGHT\n"
     ]
    }
   ],
   "source": [
    "for v in V:\n",
    "    print(v"
   ]
  },
  {
   "cell_type": "code",
   "execution_count": null,
   "metadata": {},
   "outputs": [],
   "source": []
  },
  {
   "cell_type": "code",
   "execution_count": null,
   "metadata": {},
   "outputs": [],
   "source": []
  },
  {
   "cell_type": "code",
   "execution_count": null,
   "metadata": {},
   "outputs": [],
   "source": [
    "def best_first_search(graph, start, goal, heuristic):\n",
    "    \"\"\"\n",
    "    graph: Dict having Tree Structure.\n",
    "    start: Starting Node of the Tree.\n",
    "    goal: Node to Search.\n",
    "    heuristic: List of heuristic cost.\n",
    "    \"\"\"\n",
    "    que = [(heuristic[start], start)]\n",
    "    came_from = {}\n",
    "    came_from[start] = None\n",
    "    \n",
    "    while que:\n",
    "        _, peak_node = heapq.heappop(que)\n",
    "        \n",
    "        if peak_node == goal:\n",
    "            break\n",
    "            \n",
    "        for neighbor in graph[peak_node]:\n",
    "            if neighbor not in came_from:\n",
    "                heapq.heappush(que, (heuristic[neighbor], neighbor))\n",
    "                came_from[neighbor] = peak_node\n",
    "    \n",
    "    return came_from"
   ]
  }
 ],
 "metadata": {
  "kernelspec": {
   "display_name": "Python 3",
   "language": "python",
   "name": "python3"
  },
  "language_info": {
   "codemirror_mode": {
    "name": "ipython",
    "version": 3
   },
   "file_extension": ".py",
   "mimetype": "text/x-python",
   "name": "python",
   "nbconvert_exporter": "python",
   "pygments_lexer": "ipython3",
   "version": "3.7.6"
  },
  "toc": {
   "base_numbering": 1,
   "nav_menu": {},
   "number_sections": true,
   "sideBar": true,
   "skip_h1_title": false,
   "title_cell": "Table of Contents",
   "title_sidebar": "Contents",
   "toc_cell": true,
   "toc_position": {},
   "toc_section_display": true,
   "toc_window_display": false
  }
 },
 "nbformat": 4,
 "nbformat_minor": 4
}
