{
 "cells": [
  {
   "cell_type": "markdown",
   "metadata": {
    "toc": true
   },
   "source": [
    "<h1>Table of Contents<span class=\"tocSkip\"></span></h1>\n",
    "<div class=\"toc\"><ul class=\"toc-item\"><li><span><a href=\"#question-1\" data-toc-modified-id=\"question-1-1\"><span class=\"toc-item-num\">1&nbsp;&nbsp;</span>question 1</a></span></li><li><span><a href=\"#question-2\" data-toc-modified-id=\"question-2-2\"><span class=\"toc-item-num\">2&nbsp;&nbsp;</span>question 2</a></span></li></ul></div>"
   ]
  },
  {
   "cell_type": "code",
   "execution_count": null,
   "metadata": {},
   "outputs": [],
   "source": [
    "digits = '0123456789'"
   ]
  },
  {
   "cell_type": "code",
   "execution_count": null,
   "metadata": {},
   "outputs": [],
   "source": [
    "def get_n(line):\n",
    "    for c in line:\n",
    "        if c in digits:\n",
    "            return c\n",
    "        \n",
    "def get_nn(line):\n",
    "    n1 = get_n(line)\n",
    "    n2 = get_n(reversed(line))\n",
    "    nn = int(f\"{n1}{n2}\")\n",
    "    return nn"
   ]
  },
  {
   "cell_type": "code",
   "execution_count": null,
   "metadata": {},
   "outputs": [],
   "source": [
    "with open(\"input.txt\") as f:\n",
    "    data = f.readlines()\n",
    "print(data[0])"
   ]
  },
  {
   "cell_type": "markdown",
   "metadata": {},
   "source": [
    "## question 1"
   ]
  },
  {
   "cell_type": "code",
   "execution_count": null,
   "metadata": {},
   "outputs": [],
   "source": [
    "sum(get_nn(line) for line in data)"
   ]
  },
  {
   "cell_type": "markdown",
   "metadata": {},
   "source": [
    "## question 2"
   ]
  },
  {
   "cell_type": "code",
   "execution_count": null,
   "metadata": {},
   "outputs": [],
   "source": [
    "digitsS = {'one':1, 'two':2, 'three':3, 'four':4, 'five':5, 'six':6, 'seven':7, 'eight':8, 'nine':9, 'zero':0}"
   ]
  },
  {
   "cell_type": "code",
   "execution_count": null,
   "metadata": {},
   "outputs": [],
   "source": [
    "def get_n1(line, l, reversed=False):\n",
    "    i = 0\n",
    "    while i < l:\n",
    "        if line[i] in digits:\n",
    "            return line[i]\n",
    "        for key, value in digitsS.items():\n",
    "            if reversed:\n",
    "                r = -1\n",
    "            else:\n",
    "                r = 1\n",
    "            #print(reversed, key, i, line, line[i:i+len(key)][::r])\n",
    "            if key in line[i:i+len(key)][::r]:\n",
    "                #print(key, line[i:i+len(key)+1:r])\n",
    "                return value\n",
    "        i+=1\n",
    "        if i>100:\n",
    "            break\n",
    "    raise ValueError('not found')\n",
    "\n",
    "def get_nn(line):\n",
    "    l = len(line)\n",
    "    n1 = get_n1(line, l)\n",
    "    n2 = get_n1(line[::-1], l, reversed=True)\n",
    "    nn = int(f\"{n1}{n2}\")\n",
    "    return nn"
   ]
  },
  {
   "cell_type": "code",
   "execution_count": null,
   "metadata": {},
   "outputs": [],
   "source": [
    "data[11]"
   ]
  },
  {
   "cell_type": "code",
   "execution_count": null,
   "metadata": {},
   "outputs": [],
   "source": [
    "get_nn('jtpmfoureightvtjmlshbfour6nvjkqnddp3\\n')"
   ]
  },
  {
   "cell_type": "code",
   "execution_count": null,
   "metadata": {},
   "outputs": [],
   "source": [
    "sum(get_nn(line) for line in data)"
   ]
  },
  {
   "cell_type": "code",
   "execution_count": null,
   "metadata": {},
   "outputs": [],
   "source": [
    "for i in range(11, 20):\n",
    "    print(i, get_nn(data[i].strip()), data[i].strip())"
   ]
  },
  {
   "cell_type": "code",
   "execution_count": null,
   "metadata": {},
   "outputs": [],
   "source": []
  },
  {
   "cell_type": "code",
   "execution_count": null,
   "metadata": {},
   "outputs": [],
   "source": []
  }
 ],
 "metadata": {
  "kernelspec": {
   "display_name": "Python 3",
   "language": "python",
   "name": "python3"
  },
  "language_info": {
   "codemirror_mode": {
    "name": "ipython",
    "version": 3
   },
   "file_extension": ".py",
   "mimetype": "text/x-python",
   "name": "python",
   "nbconvert_exporter": "python",
   "pygments_lexer": "ipython3",
   "version": "3.8.1"
  },
  "toc": {
   "base_numbering": 1,
   "nav_menu": {},
   "number_sections": true,
   "sideBar": true,
   "skip_h1_title": false,
   "title_cell": "Table of Contents",
   "title_sidebar": "Contents",
   "toc_cell": true,
   "toc_position": {},
   "toc_section_display": true,
   "toc_window_display": false
  }
 },
 "nbformat": 4,
 "nbformat_minor": 4
}
