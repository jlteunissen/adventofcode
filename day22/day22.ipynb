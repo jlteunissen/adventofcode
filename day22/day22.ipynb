{
 "cells": [
  {
   "cell_type": "code",
   "execution_count": null,
   "id": "a52b5eb5-18e0-4dea-ae48-d269d8ce4b25",
   "metadata": {
    "execution": {
     "iopub.execute_input": "2023-12-22T15:14:52.970150Z",
     "iopub.status.busy": "2023-12-22T15:14:52.969689Z",
     "iopub.status.idle": "2023-12-22T15:14:52.976861Z",
     "shell.execute_reply": "2023-12-22T15:14:52.975827Z",
     "shell.execute_reply.started": "2023-12-22T15:14:52.970106Z"
    }
   },
   "outputs": [],
   "source": [
    "import numpy as np"
   ]
  },
  {
   "cell_type": "code",
   "execution_count": null,
   "id": "855f025a-c0d9-4177-ba82-77e8dc7d5271",
   "metadata": {
    "execution": {
     "iopub.execute_input": "2023-12-22T16:22:57.454426Z",
     "iopub.status.busy": "2023-12-22T16:22:57.453968Z",
     "iopub.status.idle": "2023-12-22T16:22:57.459913Z",
     "shell.execute_reply": "2023-12-22T16:22:57.459328Z",
     "shell.execute_reply.started": "2023-12-22T16:22:57.454396Z"
    }
   },
   "outputs": [],
   "source": [
    "with open(\"input.txt\") as f:\n",
    "    dataraw = f.read()\n",
    "dataraw[-5:]"
   ]
  },
  {
   "cell_type": "code",
   "execution_count": null,
   "id": "4001a2b6-54c6-408b-b95f-107327b7de31",
   "metadata": {},
   "outputs": [],
   "source": [
    "dataraw = \"\"\"\\\n",
    "1,0,1~1,2,1\n",
    "0,0,2~2,0,2\n",
    "0,2,3~2,2,3\n",
    "0,0,4~0,2,4\n",
    "2,0,5~2,2,5\n",
    "0,1,6~2,1,6\n",
    "1,1,8~1,1,9\"\"\""
   ]
  },
  {
   "cell_type": "code",
   "execution_count": null,
   "id": "f3566454-46e9-4ecf-a9f6-8248cd299a05",
   "metadata": {
    "execution": {
     "iopub.execute_input": "2023-12-22T16:23:23.299611Z",
     "iopub.status.busy": "2023-12-22T16:23:23.299176Z",
     "iopub.status.idle": "2023-12-22T16:23:23.365014Z",
     "shell.execute_reply": "2023-12-22T16:23:23.364664Z",
     "shell.execute_reply.started": "2023-12-22T16:23:23.299584Z"
    }
   },
   "outputs": [],
   "source": [
    "data = np.array([ list(map(lambda x:list(map(int, x.split(','))), dat.split('~'))) for dat in dataraw[:-1].split('\\n') ])\n",
    "nblocks = len(data)\n",
    "data, nblocks"
   ]
  },
  {
   "cell_type": "code",
   "execution_count": null,
   "id": "240e3d92-4607-4f1e-8b89-5722e3ed19d5",
   "metadata": {
    "execution": {
     "iopub.execute_input": "2023-12-22T15:28:33.232715Z",
     "iopub.status.busy": "2023-12-22T15:28:33.232289Z",
     "iopub.status.idle": "2023-12-22T15:28:33.238690Z",
     "shell.execute_reply": "2023-12-22T15:28:33.237989Z",
     "shell.execute_reply.started": "2023-12-22T15:28:33.232683Z"
    }
   },
   "outputs": [],
   "source": [
    "def get_world(data):\n",
    "    world = np.zeros(np.max(data, axis=(0,1))+1)\n",
    "    print(world.shape)\n",
    "    for i in range(len(data)):\n",
    "        block = data[i]\n",
    "        x1, y1, z1 = block[0]\n",
    "        x2, y2, z2 = block[1]\n",
    "        world[x1:x2+1, y1:y2+1, z1:z2+1] = i+1\n",
    "    return world"
   ]
  },
  {
   "cell_type": "code",
   "execution_count": null,
   "id": "83d7a457-d4ff-4341-8da8-912198782639",
   "metadata": {
    "execution": {
     "iopub.execute_input": "2023-12-22T16:24:36.431929Z",
     "iopub.status.busy": "2023-12-22T16:24:36.431492Z",
     "iopub.status.idle": "2023-12-22T16:24:36.437774Z",
     "shell.execute_reply": "2023-12-22T16:24:36.436935Z",
     "shell.execute_reply.started": "2023-12-22T16:24:36.431902Z"
    }
   },
   "outputs": [],
   "source": [
    "def fall_down(world, nblocks):\n",
    "    new_world = world.copy()\n",
    "    fell = 0\n",
    "    for i in np.arange(1, nblocks+1):\n",
    "        Bx, By, Bz = np.where(world==i)\n",
    "        #print(i, Bx, By, Bz)\n",
    "        if 0 in Bz:\n",
    "            continue\n",
    "        if np.all(new_world[(Bx, By, Bz-1)]==0) or np.all(np.isin(new_world[(Bx, By, Bz-1)], [0,i])): # block can fall down or is its own.\n",
    "            #print(f\"block {i} can fall down\")\n",
    "            fell += 1\n",
    "            new_world[(Bx, By, Bz)] = 0\n",
    "            new_world[(Bx, By, Bz-1)] = i\n",
    "    return new_world, fell"
   ]
  },
  {
   "cell_type": "code",
   "execution_count": null,
   "id": "8f2efd31-c780-41d9-9735-9f3a3e2be2cc",
   "metadata": {
    "execution": {
     "iopub.execute_input": "2023-12-22T16:25:19.666116Z",
     "iopub.status.busy": "2023-12-22T16:25:19.665651Z",
     "iopub.status.idle": "2023-12-22T16:25:19.670919Z",
     "shell.execute_reply": "2023-12-22T16:25:19.670367Z",
     "shell.execute_reply.started": "2023-12-22T16:25:19.666089Z"
    }
   },
   "outputs": [],
   "source": [
    "def fall_all_down(world, nblocks):\n",
    "    maxit = 1000\n",
    "    it = 0\n",
    "    while True:\n",
    "        new_world, fell = fall_down(world, nblocks)\n",
    "        if not fell:\n",
    "            print(\"no block fell down anymore\")\n",
    "            break\n",
    "        else:\n",
    "            #print(\"new:\", new_world)\n",
    "            world = new_world.copy()\n",
    "        it += 1\n",
    "        if it >= maxit:\n",
    "            print(\"reached max it\")\n",
    "            break\n",
    "    return new_world"
   ]
  },
  {
   "cell_type": "code",
   "execution_count": null,
   "id": "3b407102-758a-4a31-9621-5449b8d8a023",
   "metadata": {
    "execution": {
     "iopub.execute_input": "2023-12-22T16:22:09.447022Z",
     "iopub.status.busy": "2023-12-22T16:22:09.446581Z",
     "iopub.status.idle": "2023-12-22T16:22:09.453294Z",
     "shell.execute_reply": "2023-12-22T16:22:09.452420Z",
     "shell.execute_reply.started": "2023-12-22T16:22:09.446995Z"
    }
   },
   "outputs": [],
   "source": [
    "def is_disintegrateble(fallen_world, i):\n",
    "    Bx, By, Bz = np.where(fallen_world==i)\n",
    "    above = fallen_world[(Bx, By, np.max(Bz)+1)]\n",
    "    above = above[above!=0]\n",
    "    above = np.unique(above)\n",
    "    #print(above)\n",
    "    if len(above)==0:\n",
    "        return True\n",
    "    for iblock in above:\n",
    "        Cx, Cy, Cz = np.where(fallen_world==iblock)\n",
    "        below = fallen_world[(Cx, Cy, np.min(Cz)-1)]\n",
    "        below = below[below != 0]\n",
    "        below = below[below != i]\n",
    "        #print(iblock, below)\n",
    "        if len(below): # if there is an index below that is not the current block index, it is still supported\n",
    "            return True\n",
    "    else:\n",
    "        return False"
   ]
  },
  {
   "cell_type": "code",
   "execution_count": null,
   "id": "68fa7c8b-c907-4008-a248-4c84c6655d58",
   "metadata": {
    "execution": {
     "iopub.execute_input": "2023-12-22T16:23:33.936386Z",
     "iopub.status.busy": "2023-12-22T16:23:33.935832Z",
     "iopub.status.idle": "2023-12-22T16:23:33.954388Z",
     "shell.execute_reply": "2023-12-22T16:23:33.953799Z",
     "shell.execute_reply.started": "2023-12-22T16:23:33.936354Z"
    }
   },
   "outputs": [],
   "source": [
    "world = get_world(data)\n",
    "world"
   ]
  },
  {
   "cell_type": "code",
   "execution_count": null,
   "id": "29689a61-5e31-4239-b673-6d441b2a74fb",
   "metadata": {
    "execution": {
     "iopub.execute_input": "2023-12-22T16:24:40.802877Z",
     "iopub.status.busy": "2023-12-22T16:24:40.802429Z",
     "iopub.status.idle": "2023-12-22T16:24:40.969288Z",
     "shell.execute_reply": "2023-12-22T16:24:40.969028Z",
     "shell.execute_reply.started": "2023-12-22T16:24:40.802848Z"
    }
   },
   "outputs": [],
   "source": [
    "new_world, fell = fall_down(world, nblocks)\n",
    "new_world"
   ]
  },
  {
   "cell_type": "code",
   "execution_count": null,
   "id": "7fd06f39-4b2b-49fc-903b-b53f13ef20d0",
   "metadata": {
    "execution": {
     "iopub.execute_input": "2023-12-22T16:25:25.823406Z",
     "iopub.status.busy": "2023-12-22T16:25:25.822952Z",
     "iopub.status.idle": "2023-12-22T16:25:50.508758Z",
     "shell.execute_reply": "2023-12-22T16:25:50.508487Z",
     "shell.execute_reply.started": "2023-12-22T16:25:25.823378Z"
    }
   },
   "outputs": [],
   "source": [
    "fallen_world = fall_all_down(world, nblocks)"
   ]
  },
  {
   "cell_type": "code",
   "execution_count": null,
   "id": "228f5c52-304f-4419-82a7-46360b76de29",
   "metadata": {
    "execution": {
     "iopub.execute_input": "2023-12-22T16:26:17.695665Z",
     "iopub.status.busy": "2023-12-22T16:26:17.695215Z",
     "iopub.status.idle": "2023-12-22T16:26:17.988973Z",
     "shell.execute_reply": "2023-12-22T16:26:17.988707Z",
     "shell.execute_reply.started": "2023-12-22T16:26:17.695638Z"
    }
   },
   "outputs": [],
   "source": [
    "nD = 0\n",
    "for i in np.arange(1, nblocks+1):\n",
    "    isD = is_disintegrateble(fallen_world, i)\n",
    "    if isD:\n",
    "        nD += 1\n",
    "nD"
   ]
  },
  {
   "cell_type": "code",
   "execution_count": null,
   "id": "69d9fb07-e7d9-4e45-b41a-13c60fb30221",
   "metadata": {},
   "outputs": [],
   "source": [
    "# 568 is too high."
   ]
  },
  {
   "cell_type": "code",
   "execution_count": null,
   "id": "020f3315-b485-40fe-bfc3-3d9c4282e9f4",
   "metadata": {},
   "outputs": [],
   "source": []
  }
 ],
 "metadata": {
  "kernelspec": {
   "display_name": "Python 3 (ipykernel)",
   "language": "python",
   "name": "python3"
  },
  "language_info": {
   "codemirror_mode": {
    "name": "ipython",
    "version": 3
   },
   "file_extension": ".py",
   "mimetype": "text/x-python",
   "name": "python",
   "nbconvert_exporter": "python",
   "pygments_lexer": "ipython3",
   "version": "3.11.5"
  }
 },
 "nbformat": 4,
 "nbformat_minor": 5
}
