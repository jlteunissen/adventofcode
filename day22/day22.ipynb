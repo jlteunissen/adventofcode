{
 "cells": [
  {
   "cell_type": "code",
   "execution_count": 11,
   "metadata": {
    "execution": {
     "iopub.execute_input": "2023-12-22T15:14:52.970150Z",
     "iopub.status.busy": "2023-12-22T15:14:52.969689Z",
     "iopub.status.idle": "2023-12-22T15:14:52.976861Z",
     "shell.execute_reply": "2023-12-22T15:14:52.975827Z",
     "shell.execute_reply.started": "2023-12-22T15:14:52.970106Z"
    }
   },
   "outputs": [],
   "source": [
    "import numpy as np"
   ]
  },
  {
   "cell_type": "code",
   "execution_count": 12,
   "metadata": {
    "execution": {
     "iopub.execute_input": "2023-12-22T16:22:57.454426Z",
     "iopub.status.busy": "2023-12-22T16:22:57.453968Z",
     "iopub.status.idle": "2023-12-22T16:22:57.459913Z",
     "shell.execute_reply": "2023-12-22T16:22:57.459328Z",
     "shell.execute_reply.started": "2023-12-22T16:22:57.454396Z"
    }
   },
   "outputs": [
    {
     "data": {
      "text/plain": [
       "',115\\n'"
      ]
     },
     "execution_count": 12,
     "metadata": {},
     "output_type": "execute_result"
    }
   ],
   "source": [
    "with open(\"input.txt\") as f:\n",
    "    dataraw = f.read()\n",
    "dataraw[-5:]"
   ]
  },
  {
   "cell_type": "code",
   "execution_count": 2,
   "metadata": {},
   "outputs": [],
   "source": [
    "dataraw = \"\"\"\\\n",
    "1,0,1~1,2,1\n",
    "0,0,2~2,0,2\n",
    "0,2,3~2,2,3\n",
    "0,0,4~0,2,4\n",
    "2,0,5~2,2,5\n",
    "0,1,6~2,1,6\n",
    "1,1,8~1,1,9\n",
    "\"\"\""
   ]
  },
  {
   "cell_type": "code",
   "execution_count": 13,
   "metadata": {
    "execution": {
     "iopub.execute_input": "2023-12-22T16:23:23.299611Z",
     "iopub.status.busy": "2023-12-22T16:23:23.299176Z",
     "iopub.status.idle": "2023-12-22T16:23:23.365014Z",
     "shell.execute_reply": "2023-12-22T16:23:23.364664Z",
     "shell.execute_reply.started": "2023-12-22T16:23:23.299584Z"
    }
   },
   "outputs": [
    {
     "data": {
      "text/plain": [
       "(array([[[  8,   7, 300],\n",
       "         [  8,   8, 300]],\n",
       " \n",
       "        [[  5,   1,  54],\n",
       "         [  5,   2,  54]],\n",
       " \n",
       "        [[  7,   9,  28],\n",
       "         [  8,   9,  28]],\n",
       " \n",
       "        ...,\n",
       " \n",
       "        [[  6,   9, 117],\n",
       "         [  9,   9, 117]],\n",
       " \n",
       "        [[  9,   0,   6],\n",
       "         [  9,   3,   6]],\n",
       " \n",
       "        [[  0,   3, 115],\n",
       "         [  0,   5, 115]]]),\n",
       " 1493)"
      ]
     },
     "execution_count": 13,
     "metadata": {},
     "output_type": "execute_result"
    }
   ],
   "source": [
    "data = np.array([ list(map(lambda x:list(map(int, x.split(','))), dat.split('~'))) for dat in dataraw[:-1].split('\\n') ])\n",
    "nblocks = len(data)\n",
    "data, nblocks"
   ]
  },
  {
   "cell_type": "code",
   "execution_count": 4,
   "metadata": {
    "execution": {
     "iopub.execute_input": "2023-12-22T15:28:33.232715Z",
     "iopub.status.busy": "2023-12-22T15:28:33.232289Z",
     "iopub.status.idle": "2023-12-22T15:28:33.238690Z",
     "shell.execute_reply": "2023-12-22T15:28:33.237989Z",
     "shell.execute_reply.started": "2023-12-22T15:28:33.232683Z"
    }
   },
   "outputs": [],
   "source": [
    "def get_world(data):\n",
    "    world = np.zeros(np.max(data, axis=(0,1))+1)\n",
    "    print(world.shape)\n",
    "    for i in range(len(data)):\n",
    "        block = data[i]\n",
    "        x1, y1, z1 = block[0]\n",
    "        x2, y2, z2 = block[1]\n",
    "        world[x1:x2+1, y1:y2+1, z1:z2+1] = i+1\n",
    "    return world"
   ]
  },
  {
   "cell_type": "code",
   "execution_count": 31,
   "metadata": {
    "execution": {
     "iopub.execute_input": "2023-12-22T16:24:36.431929Z",
     "iopub.status.busy": "2023-12-22T16:24:36.431492Z",
     "iopub.status.idle": "2023-12-22T16:24:36.437774Z",
     "shell.execute_reply": "2023-12-22T16:24:36.436935Z",
     "shell.execute_reply.started": "2023-12-22T16:24:36.431902Z"
    }
   },
   "outputs": [],
   "source": [
    "def fall_down(world, nblocks):\n",
    "    new_world = world.copy()\n",
    "    fell = 0\n",
    "    for i in np.arange(1, nblocks+1):\n",
    "        Bx, By, Bz = np.where(world==i)\n",
    "        #print(i, Bx, By, Bz)\n",
    "        if 0 in Bz:\n",
    "            continue\n",
    "        if np.all(np.isin(new_world[(Bx, By, Bz-1)], [0,i])): # block can fall down or is its own.\n",
    "            #print(f\"block {i} can fall down\")\n",
    "            fell += 1\n",
    "            new_world[(Bx, By, Bz)] = 0\n",
    "            new_world[(Bx, By, Bz-1)] = i\n",
    "    return new_world, fell"
   ]
  },
  {
   "cell_type": "code",
   "execution_count": 32,
   "metadata": {
    "execution": {
     "iopub.execute_input": "2023-12-22T16:25:19.666116Z",
     "iopub.status.busy": "2023-12-22T16:25:19.665651Z",
     "iopub.status.idle": "2023-12-22T16:25:19.670919Z",
     "shell.execute_reply": "2023-12-22T16:25:19.670367Z",
     "shell.execute_reply.started": "2023-12-22T16:25:19.666089Z"
    }
   },
   "outputs": [],
   "source": [
    "def fall_all_down(world, nblocks):\n",
    "    maxit = 1000\n",
    "    it = 0\n",
    "    while True:\n",
    "        new_world, fell = fall_down(world, nblocks)\n",
    "        if not fell:\n",
    "            print(\"no block fell down anymore\")\n",
    "            break\n",
    "        else:\n",
    "            #print(\"new:\", new_world)\n",
    "            world = new_world.copy()\n",
    "        it += 1\n",
    "        if it >= maxit:\n",
    "            print(\"reached max it\")\n",
    "            break\n",
    "        else:\n",
    "            print(f\"{it:4d}\", end=[\"|\",\"\\n\"][it%25==0])\n",
    "    return new_world"
   ]
  },
  {
   "cell_type": "code",
   "execution_count": 52,
   "metadata": {
    "execution": {
     "iopub.execute_input": "2023-12-22T16:22:09.447022Z",
     "iopub.status.busy": "2023-12-22T16:22:09.446581Z",
     "iopub.status.idle": "2023-12-22T16:22:09.453294Z",
     "shell.execute_reply": "2023-12-22T16:22:09.452420Z",
     "shell.execute_reply.started": "2023-12-22T16:22:09.446995Z"
    }
   },
   "outputs": [],
   "source": [
    "def is_disintegrateble(fallen_world, i):\n",
    "    Bx, By, Bz = np.where(fallen_world==i)\n",
    "    above = fallen_world[(Bx, By, np.max(Bz)+1)]\n",
    "    above = above[above!=0]\n",
    "    above = np.unique(above)\n",
    "    #print(above)\n",
    "    if len(above)==0:\n",
    "        return True\n",
    "    for iblock in above:\n",
    "        Cx, Cy, Cz = np.where(fallen_world==iblock)\n",
    "        below = fallen_world[(Cx, Cy, np.min(Cz)-1)]\n",
    "        below = below[~np.isin(below,[0,i,-1])]\n",
    "        #print(iblock, below)\n",
    "        if len(below) >= 1: # if there is an index below that is not the current block index, it is still supported\n",
    "            return True\n",
    "    return False"
   ]
  },
  {
   "cell_type": "code",
   "execution_count": 50,
   "metadata": {
    "execution": {
     "iopub.execute_input": "2023-12-22T16:23:33.936386Z",
     "iopub.status.busy": "2023-12-22T16:23:33.935832Z",
     "iopub.status.idle": "2023-12-22T16:23:33.954388Z",
     "shell.execute_reply": "2023-12-22T16:23:33.953799Z",
     "shell.execute_reply.started": "2023-12-22T16:23:33.936354Z"
    }
   },
   "outputs": [
    {
     "name": "stdout",
     "output_type": "stream",
     "text": [
      "(10, 10, 375)\n"
     ]
    },
    {
     "data": {
      "text/plain": [
       "(10, 10, 375)"
      ]
     },
     "execution_count": 50,
     "metadata": {},
     "output_type": "execute_result"
    }
   ],
   "source": [
    "world = get_world(data)\n",
    "world.shape"
   ]
  },
  {
   "cell_type": "code",
   "execution_count": 35,
   "metadata": {
    "execution": {
     "iopub.execute_input": "2023-12-22T16:25:25.823406Z",
     "iopub.status.busy": "2023-12-22T16:25:25.822952Z",
     "iopub.status.idle": "2023-12-22T16:25:50.508758Z",
     "shell.execute_reply": "2023-12-22T16:25:50.508487Z",
     "shell.execute_reply.started": "2023-12-22T16:25:25.823378Z"
    }
   },
   "outputs": [
    {
     "name": "stdout",
     "output_type": "stream",
     "text": [
      "   1|   2|   3|   4|   5|   6|   7|   8|   9|  10|  11|  12|  13|  14|  15|  16|  17|  18|  19|  20|  21|  22|  23|  24|  25\n",
      "  26|  27|  28|  29|  30|  31|  32|  33|  34|  35|  36|  37|  38|  39|  40|  41|  42|  43|  44|  45|  46|  47|  48|  49|  50\n",
      "  51|  52|  53|  54|  55|  56|  57|  58|  59|  60|  61|  62|  63|  64|  65|  66|  67|  68|  69|  70|  71|  72|  73|  74|  75\n",
      "  76|  77|  78|  79|  80|  81|  82|  83|  84|  85|  86|  87|  88|  89|  90|  91|  92|  93|  94|  95|  96|  97|  98|  99| 100\n",
      " 101| 102| 103| 104| 105| 106| 107| 108| 109| 110| 111| 112| 113| 114| 115| 116| 117| 118| 119| 120| 121| 122| 123| 124| 125\n",
      " 126| 127| 128| 129| 130| 131| 132| 133| 134| 135| 136| 137| 138| 139| 140| 141| 142| 143| 144| 145| 146| 147| 148| 149| 150\n",
      " 151| 152| 153| 154| 155| 156| 157| 158| 159| 160| 161| 162| 163| 164| 165| 166| 167| 168| 169| 170| 171| 172| 173| 174| 175\n",
      " 176| 177| 178| 179| 180| 181| 182| 183| 184| 185|no block fell down anymore\n"
     ]
    }
   ],
   "source": [
    "fallen_world = fall_all_down(world, nblocks) # goes until 185"
   ]
  },
  {
   "cell_type": "code",
   "execution_count": 53,
   "metadata": {
    "execution": {
     "iopub.execute_input": "2023-12-22T16:26:17.695665Z",
     "iopub.status.busy": "2023-12-22T16:26:17.695215Z",
     "iopub.status.idle": "2023-12-22T16:26:17.988973Z",
     "shell.execute_reply": "2023-12-22T16:26:17.988707Z",
     "shell.execute_reply.started": "2023-12-22T16:26:17.695638Z"
    }
   },
   "outputs": [
    {
     "data": {
      "text/plain": [
       "568"
      ]
     },
     "execution_count": 53,
     "metadata": {},
     "output_type": "execute_result"
    }
   ],
   "source": [
    "nD = 0\n",
    "for i in np.arange(1, nblocks+1):\n",
    "    isD = is_disintegrateble(fallen_world, i)\n",
    "    if isD:\n",
    "        nD += 1\n",
    "nD"
   ]
  },
  {
   "cell_type": "code",
   "execution_count": 28,
   "metadata": {},
   "outputs": [
    {
     "data": {
      "text/plain": [
       "False"
      ]
     },
     "execution_count": 28,
     "metadata": {},
     "output_type": "execute_result"
    }
   ],
   "source": [
    "# 568 is too high. # 414 too low. should be 482\n",
    "is_disintegrateble(fallen_world, 1209)"
   ]
  },
  {
   "cell_type": "code",
   "execution_count": 27,
   "metadata": {},
   "outputs": [
    {
     "data": {
      "text/plain": [
       "array([[[   0.,    0.,    0.,    0.,    0.,    0.,   73.,    0.,    0.],\n",
       "        [1209.,    0.,    0.,    0.,    0., 1228.,    0.,    0.,    0.],\n",
       "        [1475., 1475., 1475., 1475., 1475., 1228.,  775.,    0.,    0.],\n",
       "        [   0.,    0.,    0.,    0.,    0.,    0.,  775.,    0.,    0.],\n",
       "        [  23.,    0.,    0.,    0.,    0.,    0.,  775.,  651.,  227.],\n",
       "        [  23.,    0.,    0.,    0.,    0.,    0.,    0.,    0.,  227.],\n",
       "        [  23.,    0.,    0.,  813.,    0.,    0.,    0.,    0.,    0.],\n",
       "        [1163., 1163.,    0.,    0.,    0.,    0.,    0.,    0.,    0.],\n",
       "        [   0.,    0.,    0.,    0.,    0.,  554., 1307.,    0.,    0.],\n",
       "        [   0.,    0.,    0.,    0.,    0.,    0.,    0.,    0.,    0.]],\n",
       "\n",
       "       [[   0.,    0.,    0.,    0.,    0.,  119.,   73.,    0.,    0.],\n",
       "        [1209.,  148.,    0.,    0.,    0.,    0., 1035., 1359.,  719.],\n",
       "        [   0.,  148.,    0.,    0.,    0.,   82.,    0.,    0.,  719.],\n",
       "        [   0.,    0.,    0.,    0.,    0.,  210.,    0.,    0.,  719.],\n",
       "        [   0.,    0.,    0.,    0.,    0.,    0.,    0.,  651.,    0.],\n",
       "        [   0.,   68.,    0.,    0.,    0.,    0., 1288.,    0.,    0.],\n",
       "        [   0.,   68., 1043.,  813.,  667.,   66., 1288.,    0., 1231.],\n",
       "        [ 430.,   68., 1043.,    0.,  667.,    0.,    0.,    0., 1231.],\n",
       "        [   0.,   68., 1043.,  105., 1096.,  554., 1307.,  369., 1231.],\n",
       "        [   0.,    0.,    0.,  105.,    0.,    0.,    0.,    0., 1231.]],\n",
       "\n",
       "       [[ 473.,  473.,  473.,  473.,  742.,  119.,   73.,    0.,    0.],\n",
       "        [   0.,    0.,    0.,    0.,  742., 1081., 1035.,    0.,    0.],\n",
       "        [   0.,    0.,    0.,    0.,    0.,   82.,    0.,    0.,    0.],\n",
       "        [   0.,    0.,    0.,    0., 1383.,  210.,    0.,    0.,    0.],\n",
       "        [   0.,    0., 1250.,    0.,    0.,    0.,    0.,  651.,  674.],\n",
       "        [   0., 1117., 1250.,    0.,    0.,    0.,    0.,    0.,  674.],\n",
       "        [   0., 1117., 1250.,  813.,    0.,   66.,    0.,    0.,    0.],\n",
       "        [ 430., 1117.,    0.,    0.,  190.,    0.,  885.,    0.,    0.],\n",
       "        [   0.,    0.,  432.,    0., 1096.,  554., 1307.,  369.,    0.],\n",
       "        [   0.,    0.,    0.,    0.,    0.,    0.,   34.,    0.,    0.]],\n",
       "\n",
       "       [[   0.,    0.,    0.,    0.,    0.,  119.,  211.,    0.,    0.],\n",
       "        [   0., 1316., 1450.,    0., 1049., 1081., 1035.,    0.,    0.],\n",
       "        [   0.,    0., 1450.,   99., 1049.,   82.,    0.,    0.,    0.],\n",
       "        [   0.,    0., 1450.,   99., 1383.,  210.,    0.,    0.,    0.],\n",
       "        [   0.,    0.,    0.,   99.,    0.,    0.,    0.,    0.,  413.],\n",
       "        [   0.,    0.,  389.,    0.,    0.,  260.,  347.,  958.,  413.],\n",
       "        [   0.,    0.,  389.,   26.,    0.,  260.,    0.,    0.,    0.],\n",
       "        [ 430.,  870.,  389.,   26.,  190.,  260.,  885.,    0.,    0.],\n",
       "        [   0.,  870.,  432.,    0., 1096.,  554.,    0.,  369.,    0.],\n",
       "        [   0.,  870.,    0.,    0.,  710., 1451.,   34.,    0.,    0.]],\n",
       "\n",
       "       [[   0.,    0.,    0.,    0.,    0.,    0.,  211.,    0.,    0.],\n",
       "        [ 798., 1316.,    0.,    0.,    0., 1081.,    0.,  764.,    0.],\n",
       "        [ 798.,    0.,    0.,    0.,    0.,    0.,    0.,    0.,    0.],\n",
       "        [   0.,    0.,    0.,  564.,    0.,    0.,    0.,    0.,   76.],\n",
       "        [   0.,    0.,    0.,  644.,    0.,    0.,    0.,    0.,    0.],\n",
       "        [   0.,  320.,    0.,    0.,    0.,    0.,  347.,  958.,    0.],\n",
       "        [ 342.,  320., 1381., 1381., 1381.,    0.,    0.,    0.,    0.],\n",
       "        [ 733.,  733.,  733.,  139.,    0.,    0.,  885.,    0.,    0.],\n",
       "        [   0.,    0.,  432.,    0., 1096.,    0.,    0.,  369.,    0.],\n",
       "        [   0.,    0.,    0.,    0.,  710.,    0.,    0.,    0.,    0.]],\n",
       "\n",
       "       [[ 459., 1258.,    0.,    0.,    0.,    0.,    0.,    0.,    0.],\n",
       "        [   0.,    0.,    0.,    0.,    0., 1081.,  475.,  764.,    0.],\n",
       "        [   0., 1135.,    0.,    0.,    0.,    0.,  475.,    0.,    0.],\n",
       "        [   0.,    0.,  203.,  564.,    0.,    0.,  475.,  652.,   76.],\n",
       "        [   0., 1484.,  203.,  644.,    0.,    0.,    0.,    0.,    0.],\n",
       "        [1003., 1484.,  203.,    0.,    0., 1405.,  347.,  958.,    0.],\n",
       "        [ 342., 1484.,    0.,    0.,    0.,    0.,    0.,    0.,    0.],\n",
       "        [   0.,    0.,    0.,  139.,    0.,    0.,    0.,    0.,    0.],\n",
       "        [   0.,    0.,  432.,    0.,    0.,    0.,  155., 1177., 1177.],\n",
       "        [ 757.,  757.,  757.,  495.,  710.,  522.,  155.,    0.,    0.]],\n",
       "\n",
       "       [[ 459., 1258.,    0.,    0.,    0.,    0.,    0.,    0.,    0.],\n",
       "        [ 578.,   90.,    0.,    0.,    0.,    0.,    0.,    0.,    0.],\n",
       "        [ 578., 1135.,    0.,    0.,    0.,    0.,    0.,    0.,    0.],\n",
       "        [ 578.,    0.,    0.,  564.,    0.,    0.,    0.,  652.,   76.],\n",
       "        [   0.,    0.,    0.,  644.,    0.,    0.,    0.,    0.,    0.],\n",
       "        [   0.,    0.,    0.,    0.,    0., 1405.,    0.,  958.,    0.],\n",
       "        [ 342.,    0.,    0.,    0., 1187.,    0.,    0.,    0.,    0.],\n",
       "        [   0.,    0.,    0.,  139., 1187.,  359., 1355.,    0.,  612.],\n",
       "        [   0., 1297.,    0.,    0., 1187.,    0., 1355.,    0.,    0.],\n",
       "        [1242.,    0.,    0.,  495.,    0.,  522.,  215.,  215.,  215.]],\n",
       "\n",
       "       [[   0., 1258.,  113.,    0.,    0.,  407., 1350.,    0.,    0.],\n",
       "        [   0.,   90.,  113.,    0.,  995.,  407., 1350.,  172.,  172.],\n",
       "        [   0.,    0.,    0.,    0.,    0.,  407.,  996.,    0.,    0.],\n",
       "        [   0.,    0.,    0.,    0.,    0.,    0.,    0.,  652., 1269.],\n",
       "        [   0.,    0.,    0.,    0.,    0.,    0.,  589.,    0.,    0.],\n",
       "        [   0., 1160.,  196.,  196.,  196., 1405.,  589., 1002., 1002.],\n",
       "        [ 212., 1160.,  316., 1076.,    0.,    0.,    0.,    0.,    0.],\n",
       "        [   0.,    0.,  316.,    0.,    0.,  359.,    0.,  814.,  612.],\n",
       "        [   0., 1297.,    0.,    0.,    0.,    0., 1453.,  814.,  805.],\n",
       "        [1242.,    0.,    0.,    0.,    0.,  522., 1453.,    0.,    0.]],\n",
       "\n",
       "       [[   0., 1258.,    0.,    0.,    0.,    0.,    0.,  863.,    0.],\n",
       "        [   0.,    0.,    0.,    0.,  995.,    0.,    0.,  863., 1403.],\n",
       "        [   0.,    0.,  126.,    0.,    0.,    0.,  996.,  863., 1403.],\n",
       "        [   0.,  425.,  126.,    0.,    0.,    0.,    0.,    0.,    0.],\n",
       "        [   0.,  425.,  126.,    0.,    0.,    0.,    0.,    0.,    0.],\n",
       "        [1188.,  425.,  748.,    0.,    0.,    0., 1060.,    0.,    0.],\n",
       "        [1188.,  425.,  748., 1076.,    0.,    0., 1060.,    0.,    0.],\n",
       "        [1188.,    0.,  748.,    0.,    0.,  359., 1060.,    0.,  612.],\n",
       "        [1188., 1297.,  748.,    0.,    0.,    0.,    0.,    0.,  805.],\n",
       "        [1242.,    0.,    0.,    0.,    0.,    0.,    0.,    0.,    0.]],\n",
       "\n",
       "       [[   0.,    0.,    0., 1492.,    0.,    0.,    0.,    0.,    0.],\n",
       "        [   0.,    0.,    0., 1492.,  995., 1044., 1044.,    0.,    0.],\n",
       "        [   0.,    0.,    0., 1492.,   44.,    0.,  996.,    0.,    0.],\n",
       "        [ 772.,  772.,  772., 1492.,   44.,   98.,   98.,   98.,    0.],\n",
       "        [   0.,    0.,    0.,    0.,   44.,    0.,    0.,    0.,    0.],\n",
       "        [   0.,    0.,    0.,    0.,    0.,    0.,    0.,    0.,    0.],\n",
       "        [   0.,    0.,    0., 1076.,  761.,  761.,  761., 1180.,    0.],\n",
       "        [   0.,    0.,    0.,    0.,    0.,    0.,    0., 1180.,  829.],\n",
       "        [   0., 1297.,    0.,    0.,    0.,    0.,    0.,    0.,  805.],\n",
       "        [1242.,    0.,    0.,    0.,    0.,    0.,    0.,    0.,    0.]]])"
      ]
     },
     "execution_count": 27,
     "metadata": {},
     "output_type": "execute_result"
    }
   ],
   "source": [
    "fallen_world[:,:,:9]"
   ]
  },
  {
   "cell_type": "code",
   "execution_count": null,
   "metadata": {},
   "outputs": [],
   "source": []
  }
 ],
 "metadata": {
  "kernelspec": {
   "display_name": "Python 3",
   "language": "python",
   "name": "python3"
  },
  "language_info": {
   "codemirror_mode": {
    "name": "ipython",
    "version": 3
   },
   "file_extension": ".py",
   "mimetype": "text/x-python",
   "name": "python",
   "nbconvert_exporter": "python",
   "pygments_lexer": "ipython3",
   "version": "3.7.6"
  }
 },
 "nbformat": 4,
 "nbformat_minor": 5
}
