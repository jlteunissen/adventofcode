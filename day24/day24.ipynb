{
 "cells": [
  {
   "cell_type": "code",
   "execution_count": 132,
   "metadata": {},
   "outputs": [],
   "source": [
    "import numpy as np\n",
    "from collections import defaultdict\n",
    "from sympy import *\n",
    "init_printing()"
   ]
  },
  {
   "cell_type": "code",
   "execution_count": 5,
   "metadata": {},
   "outputs": [],
   "source": [
    "dataraw = \"\"\"\\\n",
    "19, 13, 30 @ -2,  1, -2\n",
    "18, 19, 22 @ -1, -1, -2\n",
    "20, 25, 34 @ -2, -2, -4\n",
    "12, 31, 28 @ -1, -2, -1\n",
    "20, 19, 15 @  1, -5, -3\n",
    "\"\"\""
   ]
  },
  {
   "cell_type": "code",
   "execution_count": 42,
   "metadata": {},
   "outputs": [],
   "source": [
    "with open(\"input.txt\") as f:\n",
    "    dataraw = f.read()"
   ]
  },
  {
   "cell_type": "code",
   "execution_count": 53,
   "metadata": {},
   "outputs": [],
   "source": [
    "R, V = [], []\n",
    "for dat in dataraw.split(\"\\n\")[:-1]:\n",
    "    r, v = dat.split(' @ ')\n",
    "    r = list(map(int, r.split(',')))\n",
    "    v = list(map(int, v.split(',')))\n",
    "    R.append(r), V.append(v)\n",
    "R = np.array(R)\n",
    "V = np.array(V)\n",
    "VX, VY, VZ = V.T\n",
    "X, Y, X = R.T\n",
    "#R, V, X, Y, VX, VY"
   ]
  },
  {
   "cell_type": "markdown",
   "metadata": {},
   "source": [
    "## question 1"
   ]
  },
  {
   "cell_type": "code",
   "execution_count": 45,
   "metadata": {},
   "outputs": [],
   "source": [
    "A = V[:,1]/V[:,0]\n",
    "B = Y - A * X"
   ]
  },
  {
   "cell_type": "code",
   "execution_count": 47,
   "metadata": {},
   "outputs": [],
   "source": [
    "def in_past(indices):\n",
    "    for k in indices:\n",
    "        if intersect_x < X[k] and VX[k]>0 or intersect_x > X[k] and VX[k] < 0:\n",
    "            #print(\"in the past\")\n",
    "            return True\n",
    "    return False"
   ]
  },
  {
   "cell_type": "code",
   "execution_count": 52,
   "metadata": {},
   "outputs": [
    {
     "data": {
      "text/plain": [
       "12740"
      ]
     },
     "execution_count": 52,
     "metadata": {},
     "output_type": "execute_result"
    }
   ],
   "source": [
    "n_intersects = 0\n",
    "#l1, l2 = 7, 27\n",
    "l1, l2 = 200000000000000, 400000000000000\n",
    "for i in range(len(R)):\n",
    "    for j in range(i+1, len(R)):\n",
    "        dA = A[i]-A[j]\n",
    "        if dA==0:\n",
    "            continue\n",
    "        intersect_x = (B[j]-B[i]) / dA\n",
    "        intersect_y = A[i]*intersect_x + B[i]\n",
    "        # check in the past:\n",
    "        if in_past((i,j)):\n",
    "            continue\n",
    "\n",
    "        #print(f\"{i}, {j}, {intersect_x:6.2f}, {intersect_y:6.2f}\")\n",
    "        if l1 < intersect_x and intersect_x < l2 and l1 < intersect_y and intersect_y < l2:\n",
    "            #print(\"cross within window\", i,j, X[i], X[j])\n",
    "            n_intersects+=1\n",
    "n_intersects"
   ]
  },
  {
   "cell_type": "markdown",
   "metadata": {},
   "source": [
    "## question 2"
   ]
  },
  {
   "cell_type": "code",
   "execution_count": 114,
   "metadata": {},
   "outputs": [
    {
     "data": {
      "text/plain": [
       "[[array([184506988243064, 319979732976203,  96196226089497]),\n",
       "  array([225100803509611, 311851533614431, 264224583243849]),\n",
       "  array([ 42,  24, 677]),\n",
       "  array([-21, -12, -11])],\n",
       " [array([316185883798270, 360629781569228, 240116441670942]),\n",
       "  array([411365066171366, 192855150652535, 290624821968082]),\n",
       "  array([-116, -174,   65]),\n",
       "  array([-12, -18,  16])],\n",
       " [array([374598513905778, 232760497993333, 485849701123497]),\n",
       "  array([165481005413394, 339816397288489, 262440082454706]),\n",
       "  array([-136,   34, -343]),\n",
       "  array([ 80, -20, -64])]]"
      ]
     },
     "execution_count": 114,
     "metadata": {},
     "output_type": "execute_result"
    }
   ],
   "source": [
    "# initial try: search for parallel lines: dy/dx, dy/dz & dz/dx\n",
    "ps = defaultdict(list)\n",
    "\n",
    "for d1, d2 in ((0,1), (1,2), (0,2)):\n",
    "    A = V[:,d2]/V[:,d1]\n",
    "    for i in range(len(R)):\n",
    "        for j in range(i+1, len(R)):\n",
    "            dA = A[i]-A[j]\n",
    "            if dA==0:\n",
    "                ps[(d1,d2)].append([R[i], R[j], V[i], V[j]])\n",
    "ps[(0,1)]"
   ]
  },
  {
   "cell_type": "code",
   "execution_count": 109,
   "metadata": {},
   "outputs": [
    {
     "data": {
      "text/plain": [
       "[[array([184506988243064, 319979732976203,  96196226089497]),\n",
       "  array([225100803509611, 311851533614431, 264224583243849]),\n",
       "  array([184511188243064, 319982132976203,  96263926089497])],\n",
       " [array([316185883798270, 360629781569228, 240116441670942]),\n",
       "  array([411365066171366, 192855150652535, 290624821968082]),\n",
       "  array([184495388243064, 319962332976203,  96202726089497])]]"
      ]
     },
     "execution_count": 109,
     "metadata": {},
     "output_type": "execute_result"
    }
   ],
   "source": [
    "P = []\n",
    "for i in (0,1):\n",
    "    points = ps[(0,1)][i][2:4] # point line1, points line2, points line1+V\n",
    "    points.append(ps[(0,1)][0][2] + 100000000*ps[(0,1)][i][4])\n",
    "    P.append(points)\n",
    "P"
   ]
  },
  {
   "cell_type": "code",
   "execution_count": 110,
   "metadata": {},
   "outputs": [
    {
     "name": "stderr",
     "output_type": "stream",
     "text": [
      "/Users/teunissen/anaconda3/lib/python3.7/site-packages/ipykernel_launcher.py:31: RuntimeWarning: overflow encountered in long_scalars\n",
      "/Users/teunissen/anaconda3/lib/python3.7/site-packages/ipykernel_launcher.py:31: RuntimeWarning: divide by zero encountered in long_scalars\n"
     ]
    },
    {
     "data": {
      "text/plain": [
       "(array([-5716004388043630080, -5973018201745631232, -4107857904242179328]),\n",
       " array([inf, inf, inf]))"
      ]
     },
     "execution_count": 110,
     "metadata": {},
     "output_type": "execute_result"
    }
   ],
   "source": [
    "line_intersection(*P)"
   ]
  },
  {
   "cell_type": "code",
   "execution_count": 98,
   "metadata": {},
   "outputs": [
    {
     "data": {
      "text/plain": [
       "(array([184506988243064, 319979732976203,  96196226089497]),\n",
       " array([225100803509611, 311851533614431, 264224583243849]))"
      ]
     },
     "execution_count": 98,
     "metadata": {},
     "output_type": "execute_result"
    }
   ],
   "source": [
    "points1"
   ]
  },
  {
   "cell_type": "code",
   "execution_count": null,
   "metadata": {},
   "outputs": [],
   "source": []
  },
  {
   "cell_type": "code",
   "execution_count": null,
   "metadata": {},
   "outputs": [],
   "source": []
  },
  {
   "cell_type": "code",
   "execution_count": null,
   "metadata": {},
   "outputs": [],
   "source": []
  },
  {
   "cell_type": "code",
   "execution_count": null,
   "metadata": {},
   "outputs": [],
   "source": []
  },
  {
   "cell_type": "code",
   "execution_count": null,
   "metadata": {},
   "outputs": [],
   "source": []
  },
  {
   "cell_type": "code",
   "execution_count": null,
   "metadata": {},
   "outputs": [],
   "source": []
  },
  {
   "cell_type": "markdown",
   "metadata": {},
   "source": [
    "## question 2 other"
   ]
  },
  {
   "cell_type": "code",
   "execution_count": 140,
   "metadata": {},
   "outputs": [
    {
     "name": "stdout",
     "output_type": "stream",
     "text": [
      "[152594199160345 147562599184759 291883234654893] [229 220 -31]\n",
      "[181402578613976 206158696386036 294595238970734] [179  99 -32]\n",
      "[306345582484815 290719456201785 306246299945991] [-19 -64 -43]\n",
      "[x, y, z, vx, vy, vz, t_0, t_1, t_2]\n"
     ]
    },
    {
     "data": {
      "image/png": "[encoded data removed]",
      "text/latex": [
       "$\\displaystyle \\left[ \\left( 131633231355646, \\  371683716481156, \\  238674624073734, \\  268, \\  -197, \\  68, \\  537460712941, \\  559206148970, \\  608753836687\\right)\\right]$"
      ],
      "text/plain": [
       "[(131633231355646, 371683716481156, 238674624073734, 268, -197, 68, 5374607129\n",
       "41, 559206148970, 608753836687)]"
      ]
     },
     "execution_count": 140,
     "metadata": {},
     "output_type": "execute_result"
    }
   ],
   "source": [
    "# the new equation = v*t + r0 should equal the equations of the hailstones so:\n",
    "# vt + r0 - (vv*t + rr0)\n",
    "x,y,z,vx,vy,vz = symbols(\"x y z vx vy vz\")\n",
    "r = [x,y,z]\n",
    "v = [vx,vy,vz]\n",
    "var = [x,y,z,vx,vy,vz]\n",
    "eqs = set()\n",
    "for i, (rr, vv) in enumerate(zip(R[:3],V[:3])):\n",
    "    print(rr,vv)\n",
    "    t = Symbol(f\"t_{i}\")\n",
    "    for j in range(3):\n",
    "        eqs.add((v[j]*t + r[j]) - (vv[j]*t + rr[j]))\n",
    "    var.append(t)\n",
    "print(var)\n",
    "sol = solve_poly_system(eqs, *var)\n",
    "sol"
   ]
  },
  {
   "cell_type": "code",
   "execution_count": 141,
   "metadata": {},
   "outputs": [
    {
     "data": {
      "image/png": "[encoded data removed]",
      "text/latex": [
       "$\\displaystyle 741991571910536$"
      ],
      "text/plain": [
       "741991571910536"
      ]
     },
     "execution_count": 141,
     "metadata": {},
     "output_type": "execute_result"
    }
   ],
   "source": [
    "int(sum(sol[0][:3]))"
   ]
  },
  {
   "cell_type": "code",
   "execution_count": 136,
   "metadata": {},
   "outputs": [
    {
     "data": {
      "image/png": "[encoded data removed]",
      "text/latex": [
       "$\\displaystyle \\left\\{t_{0} vx - 229 t_{0} + x - 152594199160345, t_{0} vy - 220 t_{0} + y - 147562599184759, t_{0} vz + 31 t_{0} + z - 291883234654893, t_{1} vx - 179 t_{1} + x - 181402578613976, t_{1} vy - 99 t_{1} + y - 206158696386036, t_{1} vz + 32 t_{1} + z - 294595238970734, t_{2} vx + 19 t_{2} + x - 306345582484815, t_{2} vy + 64 t_{2} + y - 290719456201785, t_{2} vz + 43 t_{2} + z - 306246299945991\\right\\}$"
      ],
      "text/plain": [
       "{t₀⋅vx - 229⋅t₀ + x - 152594199160345, t₀⋅vy - 220⋅t₀ + y - 147562599184759, t\n",
       "₀⋅vz + 31⋅t₀ + z - 291883234654893, t₁⋅vx - 179⋅t₁ + x - 181402578613976, t₁⋅v\n",
       "y - 99⋅t₁ + y - 206158696386036, t₁⋅vz + 32⋅t₁ + z - 294595238970734, t₂⋅vx + \n",
       "19⋅t₂ + x - 306345582484815, t₂⋅vy + 64⋅t₂ + y - 290719456201785, t₂⋅vz + 43⋅t\n",
       "₂ + z - 306246299945991}"
      ]
     },
     "execution_count": 136,
     "metadata": {},
     "output_type": "execute_result"
    }
   ],
   "source": [
    "eqs"
   ]
  },
  {
   "cell_type": "code",
   "execution_count": null,
   "metadata": {},
   "outputs": [],
   "source": []
  }
 ],
 "metadata": {
  "kernelspec": {
   "display_name": "Python 3",
   "language": "python",
   "name": "python3"
  },
  "language_info": {
   "codemirror_mode": {
    "name": "ipython",
    "version": 3
   },
   "file_extension": ".py",
   "mimetype": "text/x-python",
   "name": "python",
   "nbconvert_exporter": "python",
   "pygments_lexer": "ipython3",
   "version": "3.7.6"
  }
 },
 "nbformat": 4,
 "nbformat_minor": 4
}
