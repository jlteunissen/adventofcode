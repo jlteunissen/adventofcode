{
 "cells": [
  {
   "cell_type": "markdown",
   "metadata": {
    "toc": true
   },
   "source": [
    "<h1>Table of Contents<span class=\"tocSkip\"></span></h1>\n",
    "<div class=\"toc\"><ul class=\"toc-item\"><li><span><a href=\"#question-2\" data-toc-modified-id=\"question-2-1\"><span class=\"toc-item-num\">1&nbsp;&nbsp;</span>question 2</a></span></li></ul></div>"
   ]
  },
  {
   "cell_type": "code",
   "execution_count": 48,
   "metadata": {},
   "outputs": [],
   "source": [
    "import numpy as np\n",
    "from functools import lru_cache\n",
    "from collections import Counter\n",
    "import sys\n",
    "import resource\n",
    "sys.setrecursionlimit(1000000)\n",
    "#resource.setrlimit(resource.RLIMIT_STACK, [0x1000000, resource.RLIM_INFINITY])"
   ]
  },
  {
   "cell_type": "code",
   "execution_count": 113,
   "metadata": {},
   "outputs": [
    {
     "data": {
      "text/plain": [
       "(10, 10)"
      ]
     },
     "execution_count": 113,
     "metadata": {},
     "output_type": "execute_result"
    }
   ],
   "source": [
    "dataraw = \"\"\"\\\n",
    ".|...\\....\n",
    "|.-.\\.....\n",
    ".....|-...\n",
    "........|.\n",
    "..........\n",
    ".........\\\\\n",
    "..../.\\\\\\\\..\n",
    ".-.-/..|..\n",
    ".|....-|.\\\\\n",
    "..//.|....\"\"\".split(\"\\n\")\n",
    "data = np.array([list(dat) for dat in dataraw])\n",
    "data.shape"
   ]
  },
  {
   "cell_type": "code",
   "execution_count": 137,
   "metadata": {},
   "outputs": [],
   "source": [
    "with open(\"input.txt\") as f:\n",
    "    dataraw = [line.strip() for line in f]"
   ]
  },
  {
   "cell_type": "code",
   "execution_count": 138,
   "metadata": {},
   "outputs": [
    {
     "data": {
      "text/plain": [
       "(110, 110)"
      ]
     },
     "execution_count": 138,
     "metadata": {},
     "output_type": "execute_result"
    }
   ],
   "source": [
    "data = np.array([list(dat) for dat in dataraw])\n",
    "data.shape"
   ]
  },
  {
   "cell_type": "code",
   "execution_count": 145,
   "metadata": {},
   "outputs": [],
   "source": [
    "# \\\n",
    "backslash = {(1,0):(0,1),\n",
    "             (0,-1):(-1,0),\n",
    "             (0,1):(1,0),\n",
    "             (-1,0):(0,-1)}\n",
    "# /\n",
    "slash = {(1,0):(0,-1),\n",
    "         (0,1):(-1,0),\n",
    "         (0,-1):(1,0),\n",
    "         (-1,0):(0,1)}\n",
    "\n",
    "@lru_cache(maxsize=None)\n",
    "def do_step(irow, jcol, vrow, vcol):\n",
    "    irow, jcol = irow + vrow, jcol + vcol\n",
    "\n",
    "    try:\n",
    "        char = data[irow, jcol]\n",
    "    except IndexError:\n",
    "        return\n",
    "    if irow<0 or jcol<0:\n",
    "        return\n",
    "    \n",
    "    if (irow, jcol, vrow, vcol) in seen:\n",
    "        return\n",
    "    else:\n",
    "        seen.add((irow, jcol, vrow, vcol))\n",
    "\n",
    "    if data[irow, jcol]==\"\\\\\":\n",
    "        vrow, vcol = backslash[(vrow, vcol)]\n",
    "        do_step(irow, jcol, vrow, vcol)\n",
    "    elif data[irow, jcol]==\"/\":\n",
    "        vrow, vcol = slash[(vrow, vcol)]\n",
    "        do_step(irow, jcol, vrow, vcol)\n",
    "    elif data[irow, jcol]==\"|\" and vcol:\n",
    "        do_step(irow, jcol, 1, 0)\n",
    "        do_step(irow, jcol,-1, 0)\n",
    "    elif data[irow, jcol]==\"-\" and vrow:\n",
    "        do_step(irow, jcol, 0, 1)\n",
    "        do_step(irow, jcol, 0,-1)\n",
    "    else: # if char . or v opposite to | or -\n",
    "        do_step(irow, jcol, vrow, vcol)"
   ]
  },
  {
   "cell_type": "code",
   "execution_count": 146,
   "metadata": {},
   "outputs": [
    {
     "data": {
      "text/plain": [
       "8539"
      ]
     },
     "execution_count": 146,
     "metadata": {},
     "output_type": "execute_result"
    }
   ],
   "source": [
    "irow, jcol = 0, 0\n",
    "vrow, vcol = 1, 0\n",
    "\n",
    "seen = set()\n",
    "seen.add((irow, jcol, vrow, vcol))\n",
    "\n",
    "do_step(irow, jcol, vrow, vcol)\n",
    "seenX = set(s[:2] for s in seen)\n",
    "len(seenX)"
   ]
  },
  {
   "cell_type": "markdown",
   "metadata": {},
   "source": [
    "## question 2"
   ]
  },
  {
   "cell_type": "code",
   "execution_count": 150,
   "metadata": {},
   "outputs": [],
   "source": [
    "def get_n_energized(irow, jcol, vrow, vcol):\n",
    "    global seen\n",
    "    seen = set()\n",
    "    seen.add((irow, jcol, vrow, vcol))\n",
    "    do_step.cache_clear()\n",
    "    do_step(irow, jcol, vrow, vcol)\n",
    "    seenX = set(s[:2] for s in seen)\n",
    "    return len(seenX)"
   ]
  },
  {
   "cell_type": "code",
   "execution_count": 151,
   "metadata": {},
   "outputs": [
    {
     "data": {
      "text/plain": [
       "8620"
      ]
     },
     "execution_count": 151,
     "metadata": {},
     "output_type": "execute_result"
    }
   ],
   "source": [
    "get_n_energized(0,0,0,1)"
   ]
  },
  {
   "cell_type": "code",
   "execution_count": 152,
   "metadata": {},
   "outputs": [
    {
     "data": {
      "text/plain": [
       "8674"
      ]
     },
     "execution_count": 152,
     "metadata": {},
     "output_type": "execute_result"
    }
   ],
   "source": [
    "nmax = 0\n",
    "nrow, ncol = data.shape\n",
    "for i in range(nrow):\n",
    "    n = get_n_energized(i, 0, 0, 1)\n",
    "    if n > nmax:\n",
    "        nmax = n\n",
    "for i in range(nrow):\n",
    "    n = get_n_energized(i, ncol, 0, -1)\n",
    "    if n > nmax:\n",
    "        nmax = n\n",
    "for i in range(ncol):\n",
    "    n = get_n_energized(0, i, 1, 0)\n",
    "    if n > nmax:\n",
    "        nmax = n\n",
    "for i in range(ncol):\n",
    "    n = get_n_energized(nrow, i, -1, 0)\n",
    "    if n > nmax:\n",
    "        nmax = n\n",
    "nmax"
   ]
  }
 ],
 "metadata": {
  "kernelspec": {
   "display_name": "Python 3",
   "language": "python",
   "name": "python3"
  },
  "language_info": {
   "codemirror_mode": {
    "name": "ipython",
    "version": 3
   },
   "file_extension": ".py",
   "mimetype": "text/x-python",
   "name": "python",
   "nbconvert_exporter": "python",
   "pygments_lexer": "ipython3",
   "version": "3.7.6"
  },
  "toc": {
   "base_numbering": 1,
   "nav_menu": {},
   "number_sections": true,
   "sideBar": true,
   "skip_h1_title": false,
   "title_cell": "Table of Contents",
   "title_sidebar": "Contents",
   "toc_cell": true,
   "toc_position": {},
   "toc_section_display": true,
   "toc_window_display": false
  }
 },
 "nbformat": 4,
 "nbformat_minor": 4
}
