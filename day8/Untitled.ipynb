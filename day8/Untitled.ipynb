{
 "cells": [
  {
   "cell_type": "markdown",
   "metadata": {
    "toc": true
   },
   "source": [
    "<h1>Table of Contents<span class=\"tocSkip\"></span></h1>\n",
    "<div class=\"toc\"><ul class=\"toc-item\"><li><span><a href=\"#question-2\" data-toc-modified-id=\"question-2-1\"><span class=\"toc-item-num\">1&nbsp;&nbsp;</span>question 2</a></span></li></ul></div>"
   ]
  },
  {
   "cell_type": "code",
   "execution_count": 1,
   "metadata": {},
   "outputs": [],
   "source": [
    "import numpy as np\n",
    "from itertools import cycle"
   ]
  },
  {
   "cell_type": "code",
   "execution_count": 46,
   "metadata": {},
   "outputs": [],
   "source": [
    "with open(\"input.txt\") as f:\n",
    "    turnsraw = f.readline().strip()\n",
    "    datax = f.readline()\n",
    "    nodesraw = [ line.strip().split(\"=\") for line in f.readlines() ]"
   ]
  },
  {
   "cell_type": "code",
   "execution_count": 27,
   "metadata": {},
   "outputs": [],
   "source": [
    "nodes = { n[0].strip() : n[1].replace(\"(\",\"\").replace(\")\",\"\").strip().split(\", \") for n in nodesraw }"
   ]
  },
  {
   "cell_type": "code",
   "execution_count": 64,
   "metadata": {},
   "outputs": [
    {
     "name": "stdout",
     "output_type": "stream",
     "text": [
      "@step 0: being at node AAA taking turn L from ['LRV', 'HJS']\n",
      "@step 1: being at node LRV taking turn R from ['QCD', 'RLF']\n",
      "@step 2: being at node RLF taking turn R from ['GMG', 'TDQ']\n",
      "@step 3: being at node TDQ taking turn R from ['PTP', 'KFH']\n",
      "@step 4: being at node KFH taking turn L from ['KSP', 'MKL']\n",
      "@step 5: being at node KSP taking turn R from ['LVP', 'GVM']\n",
      "@step 6: being at node GVM taking turn R from ['KDC', 'GFT']\n",
      "@step 7: being at node GFT taking turn R from ['FPL', 'MSB']\n",
      "@step 8: being at node MSB taking turn L from ['BRX', 'XQD']\n",
      "@step 9: being at node BRX taking turn R from ['BNJ', 'FGK']\n"
     ]
    },
    {
     "data": {
      "text/plain": [
       "12737"
      ]
     },
     "execution_count": 64,
     "metadata": {},
     "output_type": "execute_result"
    }
   ],
   "source": [
    "current = \"AAA\"\n",
    "nsteps = 0\n",
    "turns = cycle(turnsraw)\n",
    "while True:\n",
    "    turn = next(turns)\n",
    "    if current == \"ZZZ\":\n",
    "        break\n",
    "    if nsteps < 10:\n",
    "        print(f\"@step {nsteps}: being at node {current} taking turn {turn} from {nodes[current]}\")\n",
    "    if turn==\"L\":\n",
    "        current = nodes[current][0]\n",
    "    elif turn==\"R\":\n",
    "        current = nodes[current][1]\n",
    "    nsteps += 1\n",
    "nsteps"
   ]
  },
  {
   "cell_type": "code",
   "execution_count": 59,
   "metadata": {},
   "outputs": [
    {
     "data": {
      "text/plain": [
       "'LRRRLRRRLRRLRLRRLRLRRLRRLRLLRRRLRLRLRRRLRRRLRLRLRLLRRLLRRLRRRLLRLRRRLRLRLRRRLLRLRRLRRRLRLRRRLLRLRRLRRRLRRLRRLRLRRLRRRLRLRRRLRRLLRRLRRLRLRRRLRRLRRRLRRRLRLRRLRLRRRLRLRRLRRLRRRLRRRLRRRLLRRLRRRLRLRLRLRRRLRLRLRRLRRRLRRRLRRLRRLLRLRRLLRLRRLRRLLRLLRRRLLRRLLRRLRRLRLRLRRRLLRRLRRRR'"
      ]
     },
     "execution_count": 59,
     "metadata": {},
     "output_type": "execute_result"
    }
   ],
   "source": [
    "turnsraw"
   ]
  },
  {
   "cell_type": "markdown",
   "metadata": {},
   "source": [
    "## question 2"
   ]
  },
  {
   "cell_type": "code",
   "execution_count": 67,
   "metadata": {},
   "outputs": [],
   "source": [
    "startnodes = [ node for node in nodes.keys() if node.endswith(\"A\") ]"
   ]
  },
  {
   "cell_type": "code",
   "execution_count": 68,
   "metadata": {},
   "outputs": [
    {
     "data": {
      "text/plain": [
       "['LPA', 'XKA', 'QGA', 'AAA', 'HHA', 'LTA']"
      ]
     },
     "execution_count": 68,
     "metadata": {},
     "output_type": "execute_result"
    }
   ],
   "source": [
    "startnodes"
   ]
  },
  {
   "cell_type": "code",
   "execution_count": 73,
   "metadata": {},
   "outputs": [
    {
     "name": "stdout",
     "output_type": "stream",
     "text": [
      "@step 0: being at node ['LPA', 'XKA', 'QGA', 'AAA', 'HHA', 'LTA'] taking turn L from [['QQN', 'GNF'], ['SFC', 'CHQ'], ['CGR', 'SGM'], ['LRV', 'HJS'], ['FLG', 'VHN'], ['KLS', 'BFV']]\n",
      "@step 1: being at node ['QQN', 'SFC', 'CGR', 'LRV', 'FLG', 'KLS'] taking turn R from [['HRV', 'PTT'], ['KSB', 'CXF'], ['GXX', 'FTS'], ['QCD', 'RLF'], ['PFQ', 'CBJ'], ['NHG', 'CHF']]\n",
      "@step 2: being at node ['PTT', 'CXF', 'FTS', 'RLF', 'CBJ', 'CHF'] taking turn R from [['FFC', 'HRC'], ['XKV', 'PVR'], ['LJB', 'MDJ'], ['GMG', 'TDQ'], ['JQL', 'RBX'], ['CLQ', 'JGQ']]\n",
      "@step 3: being at node ['HRC', 'PVR', 'MDJ', 'TDQ', 'RBX', 'JGQ'] taking turn R from [['LBB', 'JLR'], ['JXJ', 'NDH'], ['QHJ', 'MFT'], ['PTP', 'KFH'], ['CNV', 'NKQ'], ['TPX', 'NMV']]\n",
      "@step 4: being at node ['JLR', 'NDH', 'MFT', 'KFH', 'NKQ', 'NMV'] taking turn L from [['HTD', 'SVP'], ['CBT', 'MMP'], ['FKM', 'SHM'], ['KSP', 'MKL'], ['HMB', 'JVX'], ['SKG', 'TDJ']]\n",
      "@step 5: being at node ['HTD', 'CBT', 'FKM', 'KSP', 'HMB', 'SKG'] taking turn R from [['NPJ', 'BTL'], ['GJX', 'JGH'], ['DLL', 'XBQ'], ['LVP', 'GVM'], ['CRC', 'FSS'], ['PRV', 'DBK']]\n",
      "@step 6: being at node ['BTL', 'JGH', 'XBQ', 'GVM', 'FSS', 'DBK'] taking turn R from [['PQR', 'XLV'], ['MFG', 'LMS'], ['KKN', 'QTN'], ['KDC', 'GFT'], ['KXJ', 'GKL'], ['PGC', 'NSK']]\n",
      "@step 7: being at node ['XLV', 'LMS', 'QTN', 'GFT', 'GKL', 'NSK'] taking turn R from [['TLL', 'RVS'], ['JBD', 'GSM'], ['MMT', 'MPL'], ['FPL', 'MSB'], ['MJC', 'QBM'], ['NBJ', 'KCK']]\n",
      "@step 8: being at node ['RVS', 'GSM', 'MPL', 'MSB', 'QBM', 'KCK'] taking turn L from [['DDB', 'QRV'], ['SVH', 'KRP'], ['RDS', 'SRS'], ['BRX', 'XQD'], ['VNC', 'VPK'], ['GVB', 'RMS']]\n",
      "@step 9: being at node ['DDB', 'SVH', 'RDS', 'BRX', 'VNC', 'GVB'] taking turn R from [['DVF', 'HXV'], ['NFC', 'NFM'], ['MQB', 'GCN'], ['BNJ', 'FGK'], ['JDX', 'NHF'], ['LSV', 'FRL']]\n"
     ]
    },
    {
     "ename": "KeyboardInterrupt",
     "evalue": "",
     "output_type": "error",
     "traceback": [
      "\u001b[0;31m---------------------------------------------------------------------------\u001b[0m",
      "\u001b[0;31mKeyboardInterrupt\u001b[0m                         Traceback (most recent call last)",
      "\u001b[0;32m<ipython-input-73-fc99534f89c3>\u001b[0m in \u001b[0;36m<module>\u001b[0;34m\u001b[0m\n\u001b[1;32m     10\u001b[0m         \u001b[0mallnodes\u001b[0m \u001b[0;34m=\u001b[0m \u001b[0;34m[\u001b[0m \u001b[0mnodes\u001b[0m\u001b[0;34m[\u001b[0m\u001b[0mc\u001b[0m\u001b[0;34m]\u001b[0m \u001b[0;32mfor\u001b[0m \u001b[0mc\u001b[0m \u001b[0;32min\u001b[0m \u001b[0mcurrent\u001b[0m \u001b[0;34m]\u001b[0m\u001b[0;34m\u001b[0m\u001b[0;34m\u001b[0m\u001b[0m\n\u001b[1;32m     11\u001b[0m         \u001b[0mprint\u001b[0m\u001b[0;34m(\u001b[0m\u001b[0;34mf\"@step {nsteps}: being at node {current} taking turn {turn} from {allnodes}\"\u001b[0m\u001b[0;34m)\u001b[0m\u001b[0;34m\u001b[0m\u001b[0;34m\u001b[0m\u001b[0m\n\u001b[0;32m---> 12\u001b[0;31m     \u001b[0;32mif\u001b[0m \u001b[0mturn\u001b[0m\u001b[0;34m==\u001b[0m\u001b[0;34m\"L\"\u001b[0m\u001b[0;34m:\u001b[0m\u001b[0;34m\u001b[0m\u001b[0;34m\u001b[0m\u001b[0m\n\u001b[0m\u001b[1;32m     13\u001b[0m         \u001b[0mcurrent\u001b[0m \u001b[0;34m=\u001b[0m \u001b[0;34m[\u001b[0m \u001b[0mnodes\u001b[0m\u001b[0;34m[\u001b[0m\u001b[0mc\u001b[0m\u001b[0;34m]\u001b[0m\u001b[0;34m[\u001b[0m\u001b[0;36m0\u001b[0m\u001b[0;34m]\u001b[0m \u001b[0;32mfor\u001b[0m \u001b[0mc\u001b[0m \u001b[0;32min\u001b[0m \u001b[0mcurrent\u001b[0m \u001b[0;34m]\u001b[0m\u001b[0;34m\u001b[0m\u001b[0;34m\u001b[0m\u001b[0m\n\u001b[1;32m     14\u001b[0m     \u001b[0;32melif\u001b[0m \u001b[0mturn\u001b[0m\u001b[0;34m==\u001b[0m\u001b[0;34m\"R\"\u001b[0m\u001b[0;34m:\u001b[0m\u001b[0;34m\u001b[0m\u001b[0;34m\u001b[0m\u001b[0m\n",
      "\u001b[0;31mKeyboardInterrupt\u001b[0m: "
     ]
    }
   ],
   "source": [
    "current = startnodes\n",
    "nsteps = 0\n",
    "turns = cycle(turnsraw)\n",
    "while True:\n",
    "    turn = next(turns)\n",
    "    if all(c.endswith(\"Z\") for c in current):\n",
    "        print(current)\n",
    "        break\n",
    "    if nsteps < 10:\n",
    "        allnodes = [ nodes[c] for c in current ] \n",
    "        print(f\"@step {nsteps}: being at node {current} taking turn {turn} from {allnodes}\")\n",
    "    if turn==\"L\":\n",
    "        current = [ nodes[c][0] for c in current ]\n",
    "    elif turn==\"R\":\n",
    "        current = [ nodes[c][1] for c in current ]\n",
    "    nsteps += 1\n",
    "    \n",
    "nsteps"
   ]
  },
  {
   "cell_type": "code",
   "execution_count": 74,
   "metadata": {},
   "outputs": [
    {
     "data": {
      "text/plain": [
       "64766740"
      ]
     },
     "execution_count": 74,
     "metadata": {},
     "output_type": "execute_result"
    }
   ],
   "source": [
    "nsteps"
   ]
  },
  {
   "cell_type": "code",
   "execution_count": null,
   "metadata": {},
   "outputs": [],
   "source": []
  }
 ],
 "metadata": {
  "kernelspec": {
   "display_name": "Python 3",
   "language": "python",
   "name": "python3"
  },
  "language_info": {
   "codemirror_mode": {
    "name": "ipython",
    "version": 3
   },
   "file_extension": ".py",
   "mimetype": "text/x-python",
   "name": "python",
   "nbconvert_exporter": "python",
   "pygments_lexer": "ipython3",
   "version": "3.8.1"
  },
  "toc": {
   "base_numbering": 1,
   "nav_menu": {},
   "number_sections": true,
   "sideBar": true,
   "skip_h1_title": false,
   "title_cell": "Table of Contents",
   "title_sidebar": "Contents",
   "toc_cell": true,
   "toc_position": {},
   "toc_section_display": true,
   "toc_window_display": false
  }
 },
 "nbformat": 4,
 "nbformat_minor": 4
}
