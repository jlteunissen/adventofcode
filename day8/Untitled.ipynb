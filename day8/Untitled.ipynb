{
 "cells": [
  {
   "cell_type": "markdown",
   "metadata": {
    "toc": true
   },
   "source": [
    "<h1>Table of Contents<span class=\"tocSkip\"></span></h1>\n",
    "<div class=\"toc\"><ul class=\"toc-item\"><li><span><a href=\"#question-2\" data-toc-modified-id=\"question-2-1\"><span class=\"toc-item-num\">1&nbsp;&nbsp;</span>question 2</a></span></li></ul></div>"
   ]
  },
  {
   "cell_type": "code",
   "execution_count": null,
   "metadata": {},
   "outputs": [],
   "source": [
    "import numpy as np\n",
    "from itertools import cycle\n",
    "from collections import defaultdict\n",
    "import math"
   ]
  },
  {
   "cell_type": "code",
   "execution_count": null,
   "metadata": {},
   "outputs": [],
   "source": [
    "with open(\"input.txt\") as f:\n",
    "    turnsraw = f.readline().strip()\n",
    "    datax = f.readline()\n",
    "    nodesraw = [ line.strip().split(\"=\") for line in f.readlines() ]"
   ]
  },
  {
   "cell_type": "code",
   "execution_count": null,
   "metadata": {},
   "outputs": [],
   "source": [
    "nodes = { n[0].strip() : n[1].replace(\"(\",\"\").replace(\")\",\"\").strip().split(\", \") for n in nodesraw }"
   ]
  },
  {
   "cell_type": "code",
   "execution_count": null,
   "metadata": {},
   "outputs": [],
   "source": [
    "current = \"AAA\"\n",
    "nsteps = 0\n",
    "turns = cycle(turnsraw)\n",
    "while True:\n",
    "    turn = next(turns)\n",
    "    if current == \"ZZZ\":\n",
    "        break\n",
    "    if nsteps < 10:\n",
    "        print(f\"@step {nsteps}: being at node {current} taking turn {turn} from {nodes[current]}\")\n",
    "    if turn==\"L\":\n",
    "        current = nodes[current][0]\n",
    "    elif turn==\"R\":\n",
    "        current = nodes[current][1]\n",
    "    nsteps += 1\n",
    "nsteps"
   ]
  },
  {
   "cell_type": "code",
   "execution_count": null,
   "metadata": {},
   "outputs": [],
   "source": [
    "turnsraw"
   ]
  },
  {
   "cell_type": "markdown",
   "metadata": {},
   "source": [
    "## question 2"
   ]
  },
  {
   "cell_type": "code",
   "execution_count": null,
   "metadata": {},
   "outputs": [],
   "source": [
    "startnodes = [ node for node in nodes.keys() if node.endswith(\"A\") ]\n",
    "endnodes = [ node for node in nodes.keys() if node.endswith(\"Z\") ]\n",
    "startnodes, endnodes"
   ]
  },
  {
   "cell_type": "code",
   "execution_count": null,
   "metadata": {},
   "outputs": [],
   "source": [
    "current = startnodes\n",
    "nsteps = 0\n",
    "turns = cycle(turnsraw)\n",
    "while True:\n",
    "    turn = next(turns)\n",
    "    if all(c.endswith(\"Z\") for c in current):\n",
    "        print(current)\n",
    "        break\n",
    "    if nsteps < 10:\n",
    "        allnodes = [ nodes[c] for c in current ] \n",
    "        print(f\"@step {nsteps}: being at node {current} taking turn {turn} from {allnodes}\")\n",
    "    if turn==\"L\":\n",
    "        current = [ nodes[c][0] for c in current ]\n",
    "    elif turn==\"R\":\n",
    "        current = [ nodes[c][1] for c in current ]\n",
    "    nsteps += 1\n",
    "    \n",
    "nsteps"
   ]
  },
  {
   "cell_type": "code",
   "execution_count": null,
   "metadata": {},
   "outputs": [],
   "source": [
    "nsteps"
   ]
  },
  {
   "cell_type": "code",
   "execution_count": null,
   "metadata": {},
   "outputs": [],
   "source": [
    "nodesraw"
   ]
  },
  {
   "cell_type": "markdown",
   "metadata": {},
   "source": [
    "### new approach. how long does it take to reach every Z from each starting endpoint at start of cycle?"
   ]
  },
  {
   "cell_type": "code",
   "execution_count": null,
   "metadata": {},
   "outputs": [],
   "source": [
    "def smallest_common_denominator(numbers):\n",
    "    # Function to calculate the LCM of two numbers\n",
    "    def lcm(a, b):\n",
    "        return abs(a * b) // math.gcd(a, b) if a and b else 0\n",
    "\n",
    "    # Calculate the LCM of a list of numbers\n",
    "    lcm_result = 1\n",
    "    for num in numbers:\n",
    "        lcm_result = lcm(lcm_result, num)\n",
    "\n",
    "    return lcm_result"
   ]
  },
  {
   "cell_type": "code",
   "execution_count": null,
   "metadata": {},
   "outputs": [],
   "source": [
    "startnodes = [ node for node in nodes.keys() if node.endswith(\"A\") ]\n",
    "endnodes = [ node for node in nodes.keys() if node.endswith(\"Z\") ]\n",
    "startnodes, endnodes"
   ]
  },
  {
   "cell_type": "code",
   "execution_count": null,
   "metadata": {},
   "outputs": [],
   "source": [
    "startnodes"
   ]
  },
  {
   "cell_type": "code",
   "execution_count": null,
   "metadata": {},
   "outputs": [],
   "source": [
    "def get_firstZ(startnode, nodes, turnsraw, nZ=1):\n",
    "    current = startnode\n",
    "    nsteps = 0\n",
    "    turns = cycle(turnsraw)\n",
    "    data = []\n",
    "    nz = 0\n",
    "    while nsteps<10000000:\n",
    "        turn = next(turns)\n",
    "        if current.endswith(\"Z\"):\n",
    "            nz += 1\n",
    "            print(startnode, nz, nsteps, current)\n",
    "            \n",
    "        if nz >= nZ:\n",
    "            return nsteps, current\n",
    "\n",
    "        if turn==\"L\":\n",
    "            current = nodes[current][0]\n",
    "        elif turn==\"R\":\n",
    "            current = nodes[current][1]\n",
    "        nsteps += 1"
   ]
  },
  {
   "cell_type": "code",
   "execution_count": null,
   "metadata": {},
   "outputs": [],
   "source": [
    "new_startnodes = []\n",
    "all_nsteps = []\n",
    "for startnode in startnodes:\n",
    "    nsteps, endnode = get_firstZ(startnode, nodes, turnsraw, nZ=3)\n",
    "    new_startnodes.append(endnode)\n",
    "    all_nsteps.append(nsteps)"
   ]
  },
  {
   "cell_type": "code",
   "execution_count": null,
   "metadata": {},
   "outputs": [],
   "source": [
    "np.array(all_nsteps)/271"
   ]
  },
  {
   "cell_type": "code",
   "execution_count": null,
   "metadata": {},
   "outputs": [],
   "source": [
    "smallest_common_denominator(all_nsteps)"
   ]
  },
  {
   "cell_type": "code",
   "execution_count": null,
   "metadata": {},
   "outputs": [],
   "source": [
    "math.lcm(*all_nsteps)"
   ]
  },
  {
   "cell_type": "code",
   "execution_count": null,
   "metadata": {},
   "outputs": [],
   "source": []
  }
 ],
 "metadata": {
  "kernelspec": {
   "display_name": "Python 3 (ipykernel)",
   "language": "python",
   "name": "python3"
  },
  "language_info": {
   "codemirror_mode": {
    "name": "ipython",
    "version": 3
   },
   "file_extension": ".py",
   "mimetype": "text/x-python",
   "name": "python",
   "nbconvert_exporter": "python",
   "pygments_lexer": "ipython3",
   "version": "3.11.5"
  },
  "toc": {
   "base_numbering": 1,
   "nav_menu": {},
   "number_sections": true,
   "sideBar": true,
   "skip_h1_title": false,
   "title_cell": "Table of Contents",
   "title_sidebar": "Contents",
   "toc_cell": true,
   "toc_position": {},
   "toc_section_display": true,
   "toc_window_display": false
  }
 },
 "nbformat": 4,
 "nbformat_minor": 4
}
