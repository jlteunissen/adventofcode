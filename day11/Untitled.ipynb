{
 "cells": [
  {
   "cell_type": "code",
   "execution_count": null,
   "id": "720b62c6",
   "metadata": {},
   "outputs": [],
   "source": [
    "import numpy as np"
   ]
  },
  {
   "cell_type": "markdown",
   "id": "1665dfc2",
   "metadata": {},
   "source": [
    "### testdata"
   ]
  },
  {
   "cell_type": "code",
   "execution_count": null,
   "id": "a1b5e15f",
   "metadata": {},
   "outputs": [],
   "source": [
    "testdata = \"\"\"...#......\n",
    ".......#..\n",
    "#.........\n",
    "..........\n",
    "......#...\n",
    ".#........\n",
    ".........#\n",
    "..........\n",
    ".......#..\n",
    "#...#.....\"\"\".split(\"\\n\")\n",
    "testdata = np.array([list(dat) for dat in testdata])"
   ]
  },
  {
   "cell_type": "code",
   "execution_count": null,
   "id": "cc6dddb9",
   "metadata": {},
   "outputs": [],
   "source": [
    "testdata"
   ]
  },
  {
   "cell_type": "code",
   "execution_count": null,
   "id": "dbd5f7aa",
   "metadata": {},
   "outputs": [],
   "source": [
    "data = testdata"
   ]
  },
  {
   "cell_type": "markdown",
   "id": "f643847c",
   "metadata": {},
   "source": [
    "### realdata"
   ]
  },
  {
   "cell_type": "code",
   "execution_count": null,
   "id": "2146f600",
   "metadata": {},
   "outputs": [],
   "source": [
    "with open(\"input.txt\") as f:\n",
    "    data = [list(line.strip()) for line in f]\n",
    "data = np.array(data)"
   ]
  },
  {
   "cell_type": "markdown",
   "id": "1c595c95",
   "metadata": {},
   "source": [
    "### data prep"
   ]
  },
  {
   "cell_type": "code",
   "execution_count": null,
   "id": "369dd03c",
   "metadata": {},
   "outputs": [],
   "source": [
    "data.shape"
   ]
  },
  {
   "cell_type": "code",
   "execution_count": null,
   "id": "c8452035",
   "metadata": {},
   "outputs": [],
   "source": [
    "emptyC, emptyR = [], []\n",
    "# empty rows\n",
    "for i in range(data.shape[0]):\n",
    "    where = np.where(data[i]!='.')[0]\n",
    "    if len(where)==0:\n",
    "        emptyR.append(i)\n",
    "# empty columns\n",
    "for i in range(data.shape[1]):\n",
    "    where = np.where(data[:,i]!='.')[0]\n",
    "    if len(where)==0:\n",
    "        emptyC.append(i)\n",
    "emptyC, emptyR"
   ]
  },
  {
   "cell_type": "markdown",
   "id": "f6296b00",
   "metadata": {},
   "source": [
    "## question 1"
   ]
  },
  {
   "cell_type": "code",
   "execution_count": null,
   "id": "aa71bf3c",
   "metadata": {},
   "outputs": [],
   "source": [
    "data1 = np.insert(data, emptyR, np.full(data.shape[1], '.'), axis=0)\n",
    "data12 = np.insert(data1.T, emptyC, np.full(data1.shape[0], '.'), axis=0).T\n",
    "data12"
   ]
  },
  {
   "cell_type": "code",
   "execution_count": null,
   "id": "72a181dd",
   "metadata": {},
   "outputs": [],
   "source": [
    "gals = np.array(np.where(data12==\"#\")).T\n",
    "gals"
   ]
  },
  {
   "cell_type": "code",
   "execution_count": null,
   "id": "3937e41d",
   "metadata": {},
   "outputs": [],
   "source": [
    "idx = np.stack(np.triu_indices(len(gals), k=1), axis=-1)\n",
    "total = 0\n",
    "for a, b in gals[idx]:\n",
    "    total += sum(np.abs(b-a))\n",
    "total"
   ]
  },
  {
   "cell_type": "markdown",
   "id": "a78d53f0",
   "metadata": {},
   "source": [
    "## question 2"
   ]
  },
  {
   "cell_type": "code",
   "execution_count": null,
   "id": "435683ae",
   "metadata": {},
   "outputs": [],
   "source": [
    "gals = np.array(np.where(data==\"#\")).T\n",
    "gals[:10]"
   ]
  },
  {
   "cell_type": "code",
   "execution_count": null,
   "id": "839fa661",
   "metadata": {},
   "outputs": [],
   "source": [
    "emptyC, emptyR"
   ]
  },
  {
   "cell_type": "code",
   "execution_count": null,
   "id": "d97936c2",
   "metadata": {},
   "outputs": [],
   "source": [
    "idx = np.stack(np.triu_indices(len(gals), k=1), axis=-1)\n",
    "total = 0\n",
    "expansion = 1000000\n",
    "for a, b in gals[idx]:\n",
    "    ay, ax = a\n",
    "    by, bx = b\n",
    "\n",
    "    nC_within_range = np.sum(np.logical_and(np.array(emptyC) >= min(ax, bx), np.array(emptyC) <= max(ax, bx)))\n",
    "    nR_within_range = np.sum(np.logical_and(np.array(emptyR) >= min(ay, by), np.array(emptyR) <= max(ay, by)))\n",
    "\n",
    "    dy = abs(ay-by) - nR_within_range + nR_within_range * expansion\n",
    "    dx = abs(ax-bx) - nC_within_range + nC_within_range * expansion\n",
    "\n",
    "    total += dy + dx\n",
    "    \n",
    "total"
   ]
  }
 ],
 "metadata": {
  "kernelspec": {
   "display_name": "Python 3 (ipykernel)",
   "language": "python",
   "name": "python3"
  },
  "language_info": {
   "codemirror_mode": {
    "name": "ipython",
    "version": 3
   },
   "file_extension": ".py",
   "mimetype": "text/x-python",
   "name": "python",
   "nbconvert_exporter": "python",
   "pygments_lexer": "ipython3",
   "version": "3.11.5"
  }
 },
 "nbformat": 4,
 "nbformat_minor": 5
}
