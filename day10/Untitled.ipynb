{
 "cells": [
  {
   "cell_type": "markdown",
   "metadata": {
    "toc": true
   },
   "source": [
    "<h1>Table of Contents<span class=\"tocSkip\"></span></h1>\n",
    "<div class=\"toc\"><ul class=\"toc-item\"><li><span><a href=\"#question-2\" data-toc-modified-id=\"question-2-1\"><span class=\"toc-item-num\">1&nbsp;&nbsp;</span>question 2</a></span></li></ul></div>"
   ]
  },
  {
   "cell_type": "code",
   "execution_count": null,
   "metadata": {},
   "outputs": [],
   "source": [
    "import numpy as np"
   ]
  },
  {
   "cell_type": "code",
   "execution_count": null,
   "metadata": {},
   "outputs": [],
   "source": [
    "with open(\"input.txt\") as f:\n",
    "    dataraw = [ line.strip() for line in f ]"
   ]
  },
  {
   "cell_type": "code",
   "execution_count": null,
   "metadata": {},
   "outputs": [],
   "source": [
    "# dataraw = \"\"\"..F7.\n",
    "# .FJ|.\n",
    "# SJ.L7\n",
    "# |F--J\n",
    "# LJ...\"\"\".split(\"\\n\")"
   ]
  },
  {
   "cell_type": "code",
   "execution_count": null,
   "metadata": {},
   "outputs": [],
   "source": [
    "data = np.array([ list(dat) for dat in dataraw])"
   ]
  },
  {
   "cell_type": "code",
   "execution_count": null,
   "metadata": {},
   "outputs": [],
   "source": [
    "data"
   ]
  },
  {
   "cell_type": "code",
   "execution_count": null,
   "metadata": {},
   "outputs": [],
   "source": [
    "turns = {\n",
    "    \"F\": {( 0,-1), (-1, 0)},\n",
    "    \"J\": {( 1, 0), ( 0, 1)},\n",
    "    \"7\": {( 1, 0), ( 0,-1)},\n",
    "    \"L\": {( 0, 1), (-1, 0)}\n",
    "}\n",
    "\n",
    "def get_new_v(vx, vy, turn):\n",
    "    if turn in [\"|\", \"-\"]:\n",
    "        return vx, vy\n",
    "    else:\n",
    "        new_turn = turns[turn].copy()\n",
    "        new_turn.discard((vx, vy))\n",
    "        new_vx, new_vy = tuple(new_turn)[0]\n",
    "        return -new_vx, -new_vy"
   ]
  },
  {
   "cell_type": "code",
   "execution_count": null,
   "metadata": {},
   "outputs": [],
   "source": [
    "ry, rx = np.array(np.where(data==\"S\")).flatten()\n",
    "vx, vy = 0, 1 # setting manually here\n",
    "nsteps = 0\n",
    "canvas = np.zeros(data.shape)\n",
    "canvaslineids = dict()\n",
    "canvasid = 1\n",
    "while True:\n",
    "    new_rx, new_ry = rx + vx, ry + vy\n",
    "    canvas[new_ry, new_rx] = canvasid\n",
    "    turn = data[new_ry, new_rx]\n",
    "    #print(new_rx, new_ry, turn)\n",
    "    if turn==\"S\":\n",
    "        print(f\"back at S after {nsteps} steps!\")\n",
    "        break\n",
    "    vx, vy = get_new_v(vx, vy, turn)\n",
    "    rx, ry = new_rx, new_ry\n",
    "    \n",
    "    # update canvas id only when there is a finite vy\n",
    "    if vy:\n",
    "        canvaslineids[canvasid] = new_ry\n",
    "        canvasid += 1\n",
    "    \n",
    "    nsteps += 1"
   ]
  },
  {
   "cell_type": "code",
   "execution_count": null,
   "metadata": {},
   "outputs": [],
   "source": [
    "int(np.ceil(nsteps/2))"
   ]
  },
  {
   "cell_type": "markdown",
   "metadata": {},
   "source": [
    "## question 2"
   ]
  },
  {
   "cell_type": "code",
   "execution_count": null,
   "metadata": {},
   "outputs": [],
   "source": [
    "# set bottoms and tops to negative\n",
    "for lineid in range(2, max(canvaslineids.keys())):\n",
    "    if canvaslineids[lineid-1] == canvaslineids[lineid+1]:\n",
    "        canvas[canvas==lineid] = -lineid"
   ]
  },
  {
   "cell_type": "code",
   "execution_count": null,
   "metadata": {},
   "outputs": [],
   "source": [
    "def count_enclosed_zeros(line):\n",
    "    ncrossings = 0\n",
    "    n0 = 0\n",
    "    for i, index in enumerate(line):\n",
    "        if index>0:\n",
    "            if i!=0 and index==line[i-1]:\n",
    "                continue\n",
    "            else:\n",
    "                ncrossings += 1\n",
    "        elif index==0:\n",
    "            if ncrossings % 2 == 1:\n",
    "                n0 += 1           \n",
    "    return n0"
   ]
  },
  {
   "cell_type": "code",
   "execution_count": null,
   "metadata": {},
   "outputs": [],
   "source": [
    "sum(count_enclosed_zeros(line) for line in canvas)"
   ]
  },
  {
   "cell_type": "code",
   "execution_count": null,
   "metadata": {},
   "outputs": [],
   "source": [
    "with open(\"output.txt\", \"w\") as f:\n",
    "    f.write(\"\\n\".join([\"\".join([str(f\"{c:>5.0f}\") for c in can]) for can in  canvas]))"
   ]
  }
 ],
 "metadata": {
  "kernelspec": {
   "display_name": "Python 3",
   "language": "python",
   "name": "python3"
  },
  "language_info": {
   "codemirror_mode": {
    "name": "ipython",
    "version": 3
   },
   "file_extension": ".py",
   "mimetype": "text/x-python",
   "name": "python",
   "nbconvert_exporter": "python",
   "pygments_lexer": "ipython3",
   "version": "3.8.1"
  },
  "toc": {
   "base_numbering": 1,
   "nav_menu": {},
   "number_sections": true,
   "sideBar": true,
   "skip_h1_title": false,
   "title_cell": "Table of Contents",
   "title_sidebar": "Contents",
   "toc_cell": true,
   "toc_position": {},
   "toc_section_display": true,
   "toc_window_display": false
  }
 },
 "nbformat": 4,
 "nbformat_minor": 4
}
