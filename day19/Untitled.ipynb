{
 "cells": [
  {
   "cell_type": "code",
   "execution_count": null,
   "id": "971842df",
   "metadata": {},
   "outputs": [],
   "source": [
    "import numpy as np\n",
    "import re"
   ]
  },
  {
   "cell_type": "code",
   "execution_count": null,
   "id": "2783722d",
   "metadata": {},
   "outputs": [],
   "source": [
    "rawdata = \"\"\"\\\n",
    "px{a<2006:qkq,m>2090:A,rfg}\n",
    "pv{a>1716:R,A}\n",
    "lnx{m>1548:A,A}\n",
    "rfg{s<537:gd,x>2440:R,A}\n",
    "qs{s>3448:A,lnx}\n",
    "qkq{x<1416:A,crn}\n",
    "crn{x>2662:A,R}\n",
    "in{s<1351:px,qqz}\n",
    "qqz{s>2770:qs,m<1801:hdj,R}\n",
    "gd{a>3333:R,R}\n",
    "hdj{m>838:A,pv}\n",
    "\n",
    "{x=787,m=2655,a=1222,s=2876}\n",
    "{x=1679,m=44,a=2067,s=496}\n",
    "{x=2036,m=264,a=79,s=2244}\n",
    "{x=2461,m=1339,a=466,s=291}\n",
    "{x=2127,m=1623,a=2188,s=1013}\n",
    "\"\"\".split(\"\\n\\n\")\n",
    "rawflows, rawinput = rawdata\n",
    "rawflows, rawinput"
   ]
  },
  {
   "cell_type": "code",
   "execution_count": null,
   "id": "a7fc2ec9",
   "metadata": {},
   "outputs": [],
   "source": [
    "with open(\"input.txt\") as f:\n",
    "    rawflows, rawinput = f.read().split(\"\\n\\n\")"
   ]
  },
  {
   "cell_type": "code",
   "execution_count": null,
   "id": "0069148d",
   "metadata": {},
   "outputs": [],
   "source": [
    "rawflows.split(\"\\n\")"
   ]
  },
  {
   "cell_type": "code",
   "execution_count": null,
   "id": "bf63d08d",
   "metadata": {},
   "outputs": [],
   "source": [
    "def parse_flow(rawflows):\n",
    "    flows = dict()\n",
    "    for line in rawflows.split(\"\\n\"):\n",
    "        key, flowraw = line.rstrip(\"}\").split(\"{\")\n",
    "        #print(key, flowraw)\n",
    "        steps = []\n",
    "        pattern = r'(\\w+|[<>])'\n",
    "        for step in flowraw.split(\",\"):\n",
    "            if \":\" in step:\n",
    "                condraw, name = step.split(\":\")\n",
    "                cond = re.findall(pattern, condraw)\n",
    "                cond[2] = int(cond[2])\n",
    "                steps.append([name, cond])\n",
    "            else:\n",
    "                steps.append([step])\n",
    "        flows[key] = steps\n",
    "    return flows"
   ]
  },
  {
   "cell_type": "code",
   "execution_count": null,
   "id": "63240277",
   "metadata": {},
   "outputs": [],
   "source": [
    "flows = parse_flow(rawflows)\n",
    "flows['in']"
   ]
  },
  {
   "cell_type": "code",
   "execution_count": null,
   "id": "2cc0e2bf",
   "metadata": {},
   "outputs": [],
   "source": [
    "def parse_input(inp):\n",
    "    V = inp.strip(\"{}\").split(\",\")\n",
    "    return [ int(item.split(\"=\")[-1]) for item in V ]\n",
    "parts = [ parse_input(inp) for inp in rawinput[:-1].split(\"\\n\") ]\n",
    "parts[-3:]"
   ]
  },
  {
   "cell_type": "markdown",
   "id": "36fca7c2",
   "metadata": {},
   "source": [
    "## question 1"
   ]
  },
  {
   "cell_type": "code",
   "execution_count": null,
   "id": "b43a4a74",
   "metadata": {},
   "outputs": [],
   "source": [
    "def get_new_flow(part, flow):\n",
    "    I = {'x':0, 'm':1, 'a':2, 's':3}\n",
    "    for key, condition in flow[:-1]:\n",
    "        cat, op, v = condition # category, operation, value\n",
    "        vp = part[I[cat]]\n",
    "        #print(cat, op, v, vp)\n",
    "        if (op==\"<\" and vp<v) or (op==\">\" and vp>v):\n",
    "            new_flow = key\n",
    "            return new_flow\n",
    "    else:\n",
    "        return flow[-1][0]\n",
    "\n",
    "def get_state(part):\n",
    "    #print(part)\n",
    "    flow = flows['in']\n",
    "    maxit, nit = 10, 0\n",
    "    while True:\n",
    "        new_flow_key = get_new_flow(part, flow)\n",
    "        #print(part, new_flow_key)\n",
    "        if new_flow_key == \"A\":\n",
    "            return \"A\"\n",
    "        elif new_flow_key == \"R\":\n",
    "            return \"R\"\n",
    "        else:\n",
    "            flow = flows[new_flow_key]\n",
    "        \n",
    "        nit += 1\n",
    "        if nit >= maxit:\n",
    "            print(\"reached maxit\")\n",
    "            break\n",
    "        print(nit, end=\",\")"
   ]
  },
  {
   "cell_type": "code",
   "execution_count": null,
   "id": "6830be56",
   "metadata": {},
   "outputs": [],
   "source": [
    "total = 0\n",
    "for part in parts:\n",
    "    if get_state(part) == \"A\":\n",
    "        total += sum(part)\n",
    "total"
   ]
  },
  {
   "cell_type": "markdown",
   "id": "0ae9b86c",
   "metadata": {},
   "source": [
    "## question 2"
   ]
  },
  {
   "cell_type": "code",
   "execution_count": null,
   "id": "7b67324d",
   "metadata": {},
   "outputs": [],
   "source": [
    "class Range(object):\n",
    "    def __init__(self, start=1, end=4000):\n",
    "        self.start = start\n",
    "        self.end = end\n",
    "    def split(self, op, cv): #operator condition_value\n",
    "        # return in order of succes / no success\n",
    "        # this has to split more carefully. also return [None, Range] or [Range, None] to indicate what the next step will be.\n",
    "        if op==\"<\":\n",
    "            if self.start>=cv:\n",
    "                return [None, self]\n",
    "            elif self.end<cv:\n",
    "                return [self, None]\n",
    "            else:\n",
    "                return Range(start=self.start, end=cv-1), Range(start=cv, end=self.end)\n",
    "        else:\n",
    "            assert op==\">\"\n",
    "            if self.start>cv:\n",
    "                return [self, None]\n",
    "            if self.end<=cv:\n",
    "                return [None, self]\n",
    "            else:\n",
    "                return Range(start=cv+1, end=self.end), Range(start=self.start, end=cv)\n",
    "    def __repr__(self):\n",
    "        return f\"<Range:{self.start}-{self.end}>\"\n",
    "    def __len__(self):\n",
    "        return self.end - self.start + 1"
   ]
  },
  {
   "cell_type": "code",
   "execution_count": null,
   "id": "06d32905",
   "metadata": {},
   "outputs": [],
   "source": [
    "initial = [Range(), Range(), Range(), Range()]\n",
    "initial"
   ]
  },
  {
   "cell_type": "code",
   "execution_count": null,
   "id": "2a8a76c9",
   "metadata": {},
   "outputs": [],
   "source": [
    "accepted_ranges = []\n",
    "I = {'x':0, 'm':1, 'a':2, 's':3}\n",
    "\n",
    "\n",
    "def handle_ranges(ranges, flow):\n",
    "    print(ranges, flow)\n",
    "    \n",
    "    for key, condition in flow[:-1]:\n",
    "        cat, op, v = condition # category, operation, value\n",
    "        ranges_success, ranges_fail = ranges[I[cat]].split(op, v)\n",
    "        print(\"in for loop\", cat, op, v, ranges_success, ranges_fail)\n",
    "        if ranges_success: # get the new flowkey\n",
    "            new_ranges = ranges.copy()\n",
    "            new_ranges[I[cat]] = ranges_success\n",
    "            if key == \"A\":\n",
    "                accepted_ranges.append(new_ranges)\n",
    "                return\n",
    "            elif key== \"R\":\n",
    "                return\n",
    "            else:\n",
    "                handle_ranges(new_ranges, flows[key])\n",
    "        if ranges_fail: # the ranges with the fail part goes to next iteration\n",
    "            ranges[I[cat]] = ranges_fail\n",
    "    else: # last flow\n",
    "        print(\"last flow with ranges\", ranges)\n",
    "        new_flow = flow[-1][0]\n",
    "        if new_flow == \"A\":\n",
    "            accepted_ranges.append(ranges)\n",
    "            return\n",
    "        elif new_flow == \"R\":\n",
    "            return\n",
    "        else:\n",
    "            return handle_ranges(ranges, flows[new_flow])"
   ]
  },
  {
   "cell_type": "code",
   "execution_count": null,
   "id": "e590d35e",
   "metadata": {},
   "outputs": [],
   "source": [
    "handle_ranges(initial, flows['in'])"
   ]
  },
  {
   "cell_type": "code",
   "execution_count": null,
   "id": "797a7434",
   "metadata": {},
   "outputs": [],
   "source": [
    "flows['in'], flows['px'], flows['qkq']"
   ]
  },
  {
   "cell_type": "code",
   "execution_count": null,
   "id": "0f574f62",
   "metadata": {},
   "outputs": [],
   "source": [
    "accepted_ranges"
   ]
  },
  {
   "cell_type": "code",
   "execution_count": null,
   "id": "ee36afbc",
   "metadata": {},
   "outputs": [],
   "source": [
    "ntotal = 0\n",
    "for accepted_range in accepted_ranges:\n",
    "    lens = list(map(len, accepted_range))\n",
    "    print(lens, np.prod(lens))\n",
    "    ntotal += np.prod(lens)\n",
    "ntotal"
   ]
  },
  {
   "cell_type": "code",
   "execution_count": null,
   "id": "e377904f",
   "metadata": {},
   "outputs": [],
   "source": [
    "# correct answer should be \n",
    "# 167409079868000\n",
    "# 227579675642736\n",
    "# 212938445310001\n",
    "# 145370496664781"
   ]
  }
 ],
 "metadata": {
  "kernelspec": {
   "display_name": "Python 3 (ipykernel)",
   "language": "python",
   "name": "python3"
  },
  "language_info": {
   "codemirror_mode": {
    "name": "ipython",
    "version": 3
   },
   "file_extension": ".py",
   "mimetype": "text/x-python",
   "name": "python",
   "nbconvert_exporter": "python",
   "pygments_lexer": "ipython3",
   "version": "3.11.5"
  }
 },
 "nbformat": 4,
 "nbformat_minor": 5
}
