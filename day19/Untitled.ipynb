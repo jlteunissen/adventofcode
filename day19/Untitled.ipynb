{
 "cells": [
  {
   "cell_type": "markdown",
   "metadata": {
    "toc": true
   },
   "source": [
    "<h1>Table of Contents<span class=\"tocSkip\"></span></h1>\n",
    "<div class=\"toc\"><ul class=\"toc-item\"><li><span><a href=\"#question-1\" data-toc-modified-id=\"question-1-1\"><span class=\"toc-item-num\">1&nbsp;&nbsp;</span>question 1</a></span></li><li><span><a href=\"#question-2\" data-toc-modified-id=\"question-2-2\"><span class=\"toc-item-num\">2&nbsp;&nbsp;</span>question 2</a></span></li></ul></div>"
   ]
  },
  {
   "cell_type": "code",
   "execution_count": 85,
   "metadata": {},
   "outputs": [],
   "source": [
    "import numpy as np\n",
    "import re\n",
    "from copy import deepcopy"
   ]
  },
  {
   "cell_type": "code",
   "execution_count": 53,
   "metadata": {},
   "outputs": [
    {
     "data": {
      "text/plain": [
       "('px{a<2006:qkq,m>2090:A,rfg}\\npv{a>1716:R,A}\\nlnx{m>1548:A,A}\\nrfg{s<537:gd,x>2440:R,A}\\nqs{s>3448:A,lnx}\\nqkq{x<1416:A,crn}\\ncrn{x>2662:A,R}\\nin{s<1351:px,qqz}\\nqqz{s>2770:qs,m<1801:hdj,R}\\ngd{a>3333:R,R}\\nhdj{m>838:A,pv}',\n",
       " '{x=787,m=2655,a=1222,s=2876}\\n{x=1679,m=44,a=2067,s=496}\\n{x=2036,m=264,a=79,s=2244}\\n{x=2461,m=1339,a=466,s=291}\\n{x=2127,m=1623,a=2188,s=1013}\\n')"
      ]
     },
     "execution_count": 53,
     "metadata": {},
     "output_type": "execute_result"
    }
   ],
   "source": [
    "rawdata = \"\"\"\\\n",
    "px{a<2006:qkq,m>2090:A,rfg}\n",
    "pv{a>1716:R,A}\n",
    "lnx{m>1548:A,A}\n",
    "rfg{s<537:gd,x>2440:R,A}\n",
    "qs{s>3448:A,lnx}\n",
    "qkq{x<1416:A,crn}\n",
    "crn{x>2662:A,R}\n",
    "in{s<1351:px,qqz}\n",
    "qqz{s>2770:qs,m<1801:hdj,R}\n",
    "gd{a>3333:R,R}\n",
    "hdj{m>838:A,pv}\n",
    "\n",
    "{x=787,m=2655,a=1222,s=2876}\n",
    "{x=1679,m=44,a=2067,s=496}\n",
    "{x=2036,m=264,a=79,s=2244}\n",
    "{x=2461,m=1339,a=466,s=291}\n",
    "{x=2127,m=1623,a=2188,s=1013}\n",
    "\"\"\".split(\"\\n\\n\")\n",
    "rawflows, rawinput = rawdata\n",
    "rawflows, rawinput"
   ]
  },
  {
   "cell_type": "code",
   "execution_count": null,
   "metadata": {},
   "outputs": [],
   "source": [
    "with open(\"input.txt\") as f:\n",
    "    rawflows, rawinput = f.read().split(\"\\n\\n\")"
   ]
  },
  {
   "cell_type": "code",
   "execution_count": 55,
   "metadata": {},
   "outputs": [
    {
     "data": {
      "text/plain": [
       "['px{a<2006:qkq,m>2090:A,rfg}',\n",
       " 'pv{a>1716:R,A}',\n",
       " 'lnx{m>1548:A,A}',\n",
       " 'rfg{s<537:gd,x>2440:R,A}',\n",
       " 'qs{s>3448:A,lnx}',\n",
       " 'qkq{x<1416:A,crn}',\n",
       " 'crn{x>2662:A,R}',\n",
       " 'in{s<1351:px,qqz}',\n",
       " 'qqz{s>2770:qs,m<1801:hdj,R}',\n",
       " 'gd{a>3333:R,R}',\n",
       " 'hdj{m>838:A,pv}']"
      ]
     },
     "execution_count": 55,
     "metadata": {},
     "output_type": "execute_result"
    }
   ],
   "source": [
    "rawflows.split(\"\\n\")"
   ]
  },
  {
   "cell_type": "code",
   "execution_count": 56,
   "metadata": {},
   "outputs": [],
   "source": [
    "def parse_flow(rawflows):\n",
    "    flows = dict()\n",
    "    for line in rawflows.split(\"\\n\"):\n",
    "        key, flowraw = line.rstrip(\"}\").split(\"{\")\n",
    "        #print(key, flowraw)\n",
    "        steps = []\n",
    "        pattern = r'(\\w+|[<>])'\n",
    "        for step in flowraw.split(\",\"):\n",
    "            if \":\" in step:\n",
    "                condraw, name = step.split(\":\")\n",
    "                cond = re.findall(pattern, condraw)\n",
    "                cond[2] = int(cond[2])\n",
    "                steps.append([name, cond])\n",
    "            else:\n",
    "                steps.append([step])\n",
    "        flows[key] = steps\n",
    "    return flows"
   ]
  },
  {
   "cell_type": "code",
   "execution_count": 57,
   "metadata": {},
   "outputs": [
    {
     "data": {
      "text/plain": [
       "[['px', ['s', '<', 1351]], ['qqz']]"
      ]
     },
     "execution_count": 57,
     "metadata": {},
     "output_type": "execute_result"
    }
   ],
   "source": [
    "flows = parse_flow(rawflows)\n",
    "flows['in']"
   ]
  },
  {
   "cell_type": "code",
   "execution_count": 58,
   "metadata": {},
   "outputs": [
    {
     "data": {
      "text/plain": [
       "[[2036, 264, 79, 2244], [2461, 1339, 466, 291], [2127, 1623, 2188, 1013]]"
      ]
     },
     "execution_count": 58,
     "metadata": {},
     "output_type": "execute_result"
    }
   ],
   "source": [
    "def parse_input(inp):\n",
    "    V = inp.strip(\"{}\").split(\",\")\n",
    "    return [ int(item.split(\"=\")[-1]) for item in V ]\n",
    "parts = [ parse_input(inp) for inp in rawinput[:-1].split(\"\\n\") ]\n",
    "parts[-3:]"
   ]
  },
  {
   "cell_type": "markdown",
   "metadata": {
    "heading_collapsed": true
   },
   "source": [
    "## question 1"
   ]
  },
  {
   "cell_type": "code",
   "execution_count": 8,
   "metadata": {
    "hidden": true
   },
   "outputs": [],
   "source": [
    "def get_new_flow(part, flow):\n",
    "    I = {'x':0, 'm':1, 'a':2, 's':3}\n",
    "    for key, condition in flow[:-1]:\n",
    "        cat, op, v = condition # category, operation, value\n",
    "        vp = part[I[cat]]\n",
    "        #print(cat, op, v, vp)\n",
    "        if (op==\"<\" and vp<v) or (op==\">\" and vp>v):\n",
    "            new_flow = key\n",
    "            return new_flow\n",
    "    else:\n",
    "        return flow[-1][0]\n",
    "\n",
    "def get_state(part):\n",
    "    #print(part)\n",
    "    flow = flows['in']\n",
    "    maxit, nit = 10, 0\n",
    "    while True:\n",
    "        new_flow_key = get_new_flow(part, flow)\n",
    "        #print(part, new_flow_key)\n",
    "        if new_flow_key == \"A\":\n",
    "            return \"A\"\n",
    "        elif new_flow_key == \"R\":\n",
    "            return \"R\"\n",
    "        else:\n",
    "            flow = flows[new_flow_key]\n",
    "        \n",
    "        nit += 1\n",
    "        if nit >= maxit:\n",
    "            print(\"reached maxit\")\n",
    "            break\n",
    "        print(nit, end=\",\")"
   ]
  },
  {
   "cell_type": "code",
   "execution_count": null,
   "metadata": {
    "hidden": true
   },
   "outputs": [],
   "source": [
    "total = 0\n",
    "for part in parts:\n",
    "    if get_state(part) == \"A\":\n",
    "        total += sum(part)\n",
    "total"
   ]
  },
  {
   "cell_type": "markdown",
   "metadata": {},
   "source": [
    "## question 2"
   ]
  },
  {
   "cell_type": "code",
   "execution_count": 59,
   "metadata": {},
   "outputs": [],
   "source": [
    "class Range(object):\n",
    "    def __init__(self, start=1, end=4000):\n",
    "        self.start = start\n",
    "        self.end = end\n",
    "    def split(self, op, cv): #operator condition_value\n",
    "        # return in order of succes / no success\n",
    "        # this has to split more carefully. also return [None, Range] or [Range, None] to indicate what the next step will be.\n",
    "        if op==\"<\":\n",
    "            if self.start>=cv:\n",
    "                return [None, self]\n",
    "            elif self.end<cv:\n",
    "                return [self, None]\n",
    "            else:\n",
    "                return Range(start=self.start, end=cv-1), Range(start=cv, end=self.end)\n",
    "        else:\n",
    "            assert op==\">\"\n",
    "            if self.start>cv:\n",
    "                return [self, None]\n",
    "            if self.end<=cv:\n",
    "                return [None, self]\n",
    "            else:\n",
    "                return Range(start=cv+1, end=self.end), Range(start=self.start, end=cv)\n",
    "    def __repr__(self):\n",
    "        return f\"<R:{self.start}-{self.end}>\"\n",
    "    def __len__(self):\n",
    "        return self.end - self.start + 1"
   ]
  },
  {
   "cell_type": "code",
   "execution_count": 104,
   "metadata": {
    "code_folding": []
   },
   "outputs": [],
   "source": [
    "def handle_ranges(ranges, flow):\n",
    "    print(ranges, flow)\n",
    "    for key, condition in flow[:-1]:\n",
    "        cat, op, v = condition # category, operation, value\n",
    "        ranges_success, ranges_fail = ranges[I[cat]].split(op, v)\n",
    "        print(\"in for loop\", key, \":\", cat, op, v, ranges_success, ranges_fail)\n",
    "        if ranges_success: # so apply the condition, i.e. handle key\n",
    "            new_ranges = deepcopy(ranges)\n",
    "            new_ranges[I[cat]] = ranges_success\n",
    "            if key == \"A\":\n",
    "                accepted_ranges.append(new_ranges)\n",
    "                return\n",
    "            elif key== \"R\":\n",
    "                return\n",
    "            else:\n",
    "                handle_ranges(new_ranges, flows[key])\n",
    "        if ranges_fail: # the ranges with the fail part goes to next iteration\n",
    "            ranges[I[cat]] = ranges_fail\n",
    "            print(\"ranges after fail\", ranges)\n",
    "    else: # last flow\n",
    "        new_flow = flow[-1][0]\n",
    "        print(\"last flow with ranges\", ranges, \"and new_flow\", new_flow)\n",
    "        if new_flow == \"A\":\n",
    "            accepted_ranges.append(ranges)\n",
    "            return\n",
    "        elif new_flow == \"R\":\n",
    "            return\n",
    "        else:\n",
    "            return handle_ranges(ranges.copy(), flows[new_flow])"
   ]
  },
  {
   "cell_type": "code",
   "execution_count": 105,
   "metadata": {},
   "outputs": [
    {
     "name": "stdout",
     "output_type": "stream",
     "text": [
      "[<R:1-4000>, <R:1-4000>, <R:1-4000>, <R:1-4000>] [['px', ['s', '<', 1351]], ['qqz']]\n",
      "in for loop px : s < 1351 <R:1-1350> <R:1351-4000>\n",
      "[<R:1-4000>, <R:1-4000>, <R:1-4000>, <R:1-1350>] [['qkq', ['a', '<', 2006]], ['A', ['m', '>', 2090]], ['rfg']]\n",
      "in for loop qkq : a < 2006 <R:1-2005> <R:2006-4000>\n",
      "[<R:1-4000>, <R:1-4000>, <R:1-2005>, <R:1-1350>] [['A', ['x', '<', 1416]], ['crn']]\n",
      "in for loop A : x < 1416 <R:1-1415> <R:1416-4000>\n",
      "ranges after fail [<R:1-4000>, <R:1-4000>, <R:2006-4000>, <R:1-1350>]\n",
      "in for loop A : m > 2090 <R:2091-4000> <R:1-2090>\n",
      "ranges after fail [<R:1-4000>, <R:1-4000>, <R:1-4000>, <R:1351-4000>]\n",
      "last flow with ranges [<R:1-4000>, <R:1-4000>, <R:1-4000>, <R:1351-4000>] and new_flow qqz\n",
      "[<R:1-4000>, <R:1-4000>, <R:1-4000>, <R:1351-4000>] [['qs', ['s', '>', 2770]], ['hdj', ['m', '<', 1801]], ['R']]\n",
      "in for loop qs : s > 2770 <R:2771-4000> <R:1351-2770>\n",
      "[<R:1-4000>, <R:1-4000>, <R:1-4000>, <R:2771-4000>] [['A', ['s', '>', 3448]], ['lnx']]\n",
      "in for loop A : s > 3448 <R:3449-4000> <R:2771-3448>\n",
      "ranges after fail [<R:1-4000>, <R:1-4000>, <R:1-4000>, <R:1351-2770>]\n",
      "in for loop hdj : m < 1801 <R:1-1800> <R:1801-4000>\n",
      "[<R:1-4000>, <R:1-1800>, <R:1-4000>, <R:1351-2770>] [['A', ['m', '>', 838]], ['pv']]\n",
      "in for loop A : m > 838 <R:839-1800> <R:1-838>\n",
      "ranges after fail [<R:1-4000>, <R:1801-4000>, <R:1-4000>, <R:1351-2770>]\n",
      "last flow with ranges [<R:1-4000>, <R:1801-4000>, <R:1-4000>, <R:1351-2770>] and new_flow R\n"
     ]
    }
   ],
   "source": [
    "initial = [Range(), Range(), Range(), Range()]\n",
    "accepted_ranges = []\n",
    "I = {'x':0, 'm':1, 'a':2, 's':3}\n",
    "handle_ranges(initial, flows['in'])"
   ]
  },
  {
   "cell_type": "code",
   "execution_count": 106,
   "metadata": {},
   "outputs": [
    {
     "data": {
      "text/plain": [
       "([['px', ['s', '<', 1351]], ['qqz']],\n",
       " [['qkq', ['a', '<', 2006]], ['A', ['m', '>', 2090]], ['rfg']],\n",
       " [['A', ['x', '<', 1416]], ['crn']],\n",
       " [['qs', ['s', '>', 2770]], ['hdj', ['m', '<', 1801]], ['R']],\n",
       " [['A', ['s', '>', 3448]], ['lnx']],\n",
       " [['R', ['a', '>', 1716]], ['A']])"
      ]
     },
     "execution_count": 106,
     "metadata": {},
     "output_type": "execute_result"
    }
   ],
   "source": [
    "flows['in'], flows['px'], flows['qkq'], flows['qqz'], flows['qs'], flows['pv']"
   ]
  },
  {
   "cell_type": "code",
   "execution_count": 109,
   "metadata": {},
   "outputs": [
    {
     "data": {
      "text/plain": [
       "[[<R:1-1415>, <R:1-4000>, <R:1-2005>, <R:1-1350>],\n",
       " [<R:1-4000>, <R:2091-4000>, <R:2006-4000>, <R:1-1350>],\n",
       " [<R:1-4000>, <R:1-4000>, <R:1-4000>, <R:3449-4000>],\n",
       " [<R:1-4000>, <R:839-1800>, <R:1-4000>, <R:1351-2770>]]"
      ]
     },
     "execution_count": 109,
     "metadata": {},
     "output_type": "execute_result"
    }
   ],
   "source": [
    "accepted_ranges"
   ]
  },
  {
   "cell_type": "code",
   "execution_count": 110,
   "metadata": {},
   "outputs": [
    {
     "name": "stdout",
     "output_type": "stream",
     "text": [
      "[1415, 4000, 2005, 1350] 15320205000000\n",
      "[4000, 1910, 1995, 1350] 20576430000000\n",
      "[4000, 4000, 4000, 552] 35328000000000\n",
      "[4000, 962, 4000, 1420] 21856640000000\n"
     ]
    },
    {
     "data": {
      "text/plain": [
       "93081275000000"
      ]
     },
     "execution_count": 110,
     "metadata": {},
     "output_type": "execute_result"
    }
   ],
   "source": [
    "ntotal = 0\n",
    "for accepted_range in accepted_ranges:\n",
    "    lens = list(map(len, accepted_range))\n",
    "    print(lens, np.prod(lens))\n",
    "    ntotal += np.prod(lens)\n",
    "ntotal"
   ]
  },
  {
   "cell_type": "code",
   "execution_count": 92,
   "metadata": {},
   "outputs": [],
   "source": [
    "# correct answer should be \n",
    "# 167409079868000\n",
    "# my answers are:\n",
    "# 227579675642736\n",
    "# 212938445310001\n",
    "# 145370496664781\n",
    "#  93081275000000\n",
    "# 150265915000000"
   ]
  },
  {
   "cell_type": "code",
   "execution_count": null,
   "metadata": {},
   "outputs": [],
   "source": []
  }
 ],
 "metadata": {
  "kernelspec": {
   "display_name": "Python 3",
   "language": "python",
   "name": "python3"
  },
  "language_info": {
   "codemirror_mode": {
    "name": "ipython",
    "version": 3
   },
   "file_extension": ".py",
   "mimetype": "text/x-python",
   "name": "python",
   "nbconvert_exporter": "python",
   "pygments_lexer": "ipython3",
   "version": "3.7.6"
  },
  "toc": {
   "base_numbering": 1,
   "nav_menu": {},
   "number_sections": true,
   "sideBar": true,
   "skip_h1_title": false,
   "title_cell": "Table of Contents",
   "title_sidebar": "Contents",
   "toc_cell": true,
   "toc_position": {},
   "toc_section_display": true,
   "toc_window_display": false
  }
 },
 "nbformat": 4,
 "nbformat_minor": 5
}
