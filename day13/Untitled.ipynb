{
 "cells": [
  {
   "cell_type": "code",
   "execution_count": null,
   "id": "4c7211f5",
   "metadata": {},
   "outputs": [],
   "source": [
    "import numpy as np"
   ]
  },
  {
   "cell_type": "code",
   "execution_count": null,
   "id": "e0acbb7e",
   "metadata": {},
   "outputs": [],
   "source": [
    "with open(\"input.txt\") as f:\n",
    "    dataraw = f.read().split(\"\\n\\n\")\n",
    "dataraw[0]"
   ]
  },
  {
   "cell_type": "code",
   "execution_count": null,
   "id": "bf3d83c3",
   "metadata": {},
   "outputs": [],
   "source": [
    "dataraw = \"\"\"#.##..##.\n",
    "..#.##.#.\n",
    "##......#\n",
    "##......#\n",
    "..#.##.#.\n",
    "..##..##.\n",
    "#.#.##.#.\n",
    "\n",
    "#...##..#\n",
    "#....#..#\n",
    "..##..###\n",
    "#####.##.\n",
    "#####.##.\n",
    "..##..###\n",
    "#....#..#\"\"\".split(\"\\n\\n\")\n",
    "dataraw[0]"
   ]
  },
  {
   "cell_type": "code",
   "execution_count": null,
   "id": "ec4e1526",
   "metadata": {},
   "outputs": [],
   "source": [
    "data = []\n",
    "for T in dataraw:\n",
    "    ts = T.split('\\n')\n",
    "    lines = []\n",
    "    for line in ts:\n",
    "        newline = line.replace(\"#\",\"1\").replace(\".\",\"0\")\n",
    "        newline = list(map(int, newline))\n",
    "        lines.append(newline)\n",
    "    try:\n",
    "        data.append(np.array(lines))\n",
    "    except ValueError as e:\n",
    "        data.append(np.array(lines[:-1]))\n",
    "\n",
    "data[-1].shape, len(data)"
   ]
  },
  {
   "cell_type": "code",
   "execution_count": null,
   "id": "71e80b44",
   "metadata": {},
   "outputs": [],
   "source": [
    "def get_reflection_axes(dat):\n",
    "    nrow, ncol = dat.shape\n",
    "    ir, jr = None, None\n",
    "    for i in range(1, ncol):\n",
    "        if np.array_equal(dat[:,max(0, i*2-ncol):i], dat[:,min(ncol-1, i*2-1):i-1:-1]):\n",
    "            ir = i\n",
    "    for j in range(1, nrow):\n",
    "        if np.array_equal(dat[max(0, j*2-nrow):j], dat[min(nrow-1, j*2-1):j-1:-1]):\n",
    "            jr = j\n",
    "    return ir, jr"
   ]
  },
  {
   "cell_type": "code",
   "execution_count": null,
   "id": "60d72902",
   "metadata": {},
   "outputs": [],
   "source": [
    "total = 0\n",
    "for n, dat in enumerate(data):\n",
    "    i, j = get_reflection_axes(dat)\n",
    "    if i:\n",
    "        total += i\n",
    "    if j:\n",
    "        total += 100 * j\n",
    "    print(n, i, j)\n",
    "    if i is None and j is None:\n",
    "        print(dat)\n",
    "total"
   ]
  },
  {
   "cell_type": "markdown",
   "id": "748068e3",
   "metadata": {},
   "source": [
    "## question 2"
   ]
  },
  {
   "cell_type": "code",
   "execution_count": null,
   "id": "fe2fa53a",
   "metadata": {},
   "outputs": [],
   "source": [
    "def get_new_reflection_axes(dat):\n",
    "    nrow, ncol = dat.shape\n",
    "    ir, jr = None, None\n",
    "    for i in range(1, ncol):\n",
    "        a1 = dat[:,max(0, i*2-ncol):i]\n",
    "        a2 = dat[:,min(ncol-1, i*2-1):i-1:-1]\n",
    "        if np.sum(a1!=a2)==1:\n",
    "            ir = i\n",
    "    for j in range(1, nrow):\n",
    "        a1 = dat[max(0, j*2-nrow):j]\n",
    "        a2 = dat[min(nrow-1, j*2-1):j-1:-1]\n",
    "        if np.sum(a1!=a2)==1:\n",
    "            jr = j\n",
    "    return ir, jr"
   ]
  },
  {
   "cell_type": "code",
   "execution_count": null,
   "id": "991e179a",
   "metadata": {},
   "outputs": [],
   "source": [
    "get_new_reflection_axes(data[1])"
   ]
  },
  {
   "cell_type": "code",
   "execution_count": null,
   "id": "63296b2e",
   "metadata": {},
   "outputs": [],
   "source": [
    "total = 0\n",
    "for n, dat in enumerate(data):\n",
    "    i, j = get_new_reflection_axes(dat)\n",
    "    if i:\n",
    "        total += i\n",
    "    if j:\n",
    "        total += 100 * j\n",
    "    #print(n, i, j)\n",
    "    if i is None and j is None:\n",
    "        print(dat)\n",
    "total"
   ]
  }
 ],
 "metadata": {
  "kernelspec": {
   "display_name": "Python 3 (ipykernel)",
   "language": "python",
   "name": "python3"
  },
  "language_info": {
   "codemirror_mode": {
    "name": "ipython",
    "version": 3
   },
   "file_extension": ".py",
   "mimetype": "text/x-python",
   "name": "python",
   "nbconvert_exporter": "python",
   "pygments_lexer": "ipython3",
   "version": "3.11.5"
  }
 },
 "nbformat": 4,
 "nbformat_minor": 5
}
