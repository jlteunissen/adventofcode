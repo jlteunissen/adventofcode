{
 "cells": [
  {
   "cell_type": "code",
   "execution_count": null,
   "id": "ad11fc25",
   "metadata": {},
   "outputs": [],
   "source": [
    "import numpy as np\n",
    "from functools import lru_cache\n",
    "from collections import defaultdict"
   ]
  },
  {
   "cell_type": "code",
   "execution_count": null,
   "id": "0554bd11",
   "metadata": {},
   "outputs": [],
   "source": [
    "with open(\"input.txt\") as f:\n",
    "    rawdata = f.read().split(\"\\n\")[:-1]\n",
    "rawdata[-2:]"
   ]
  },
  {
   "cell_type": "code",
   "execution_count": null,
   "id": "0e86dcd1",
   "metadata": {},
   "outputs": [],
   "source": [
    "rawdata = \"\"\"O....#....\n",
    "O.OO#....#\n",
    ".....##...\n",
    "OO.#O....O\n",
    ".O.....O#.\n",
    "O.#..O.#.#\n",
    "..O..#O..O\n",
    ".......O..\n",
    "#....###..\n",
    "#OO..#....\"\"\".split(\"\\n\")\n",
    "rawdata"
   ]
  },
  {
   "cell_type": "code",
   "execution_count": null,
   "id": "cb53734d",
   "metadata": {},
   "outputs": [],
   "source": [
    "data = []\n",
    "for line in rawdata:\n",
    "    data.append(list(map(int,list(line.replace(\"O\", \"2\").replace(\"#\", \"1\").replace(\".\",\"0\")))))\n",
    "data = np.array(data)\n",
    "data"
   ]
  },
  {
   "cell_type": "code",
   "execution_count": null,
   "id": "237b07da",
   "metadata": {},
   "outputs": [],
   "source": [
    "def sort_column(column):\n",
    "    r = np.r_[-1, np.where(column==1)[0], len(column)+1]\n",
    "    for i in range(len(r)-1):\n",
    "        r1, r2 = r[i], r[i+1]\n",
    "        R = column[r1+1:r2]\n",
    "        #print(i, R, np.sort(R)[::-1])\n",
    "        column[r1+1:r2] = np.sort(R)[::-1]\n",
    "    return column"
   ]
  },
  {
   "cell_type": "code",
   "execution_count": null,
   "id": "97ec28dd",
   "metadata": {},
   "outputs": [],
   "source": [
    "def tilt(data, direction=\"N\"):\n",
    "    if direction==\"E\":\n",
    "        new_data = np.rot90(data)\n",
    "    if direction==\"S\":\n",
    "        new_data = np.rot90(data, k=2)\n",
    "    if direction==\"W\":\n",
    "        new_data = np.rot90(data, k=-1)\n",
    "    if direction==\"N\":\n",
    "        new_data = data.copy()\n",
    "        \n",
    "    for i in range(len(data[:,0])):\n",
    "        new_data[:,i] = sort_column(new_data[:,i])\n",
    "    \n",
    "    if direction==\"E\":\n",
    "        return np.rot90(new_data, k=-1)\n",
    "    if direction==\"S\":\n",
    "        return np.rot90(new_data, k=2)\n",
    "    if direction==\"W\":\n",
    "        return np.rot90(new_data, k=1)\n",
    "    if direction==\"N\":\n",
    "        return new_data"
   ]
  },
  {
   "cell_type": "code",
   "execution_count": null,
   "id": "98422771",
   "metadata": {},
   "outputs": [],
   "source": [
    "new_data = tilt(data)\n",
    "np.sum(len(data) - np.where(new_data==2)[0])"
   ]
  },
  {
   "cell_type": "markdown",
   "id": "63010867",
   "metadata": {},
   "source": [
    "## question 2"
   ]
  },
  {
   "cell_type": "code",
   "execution_count": null,
   "id": "2443de87",
   "metadata": {},
   "outputs": [],
   "source": [
    "def printer(data):\n",
    "    return \"\\n\".join(\"\".join(str(i) for i in I) for I in data).replace(\"2\", \"O\").replace(\"1\", \"#\").replace(\"0\",\".\")"
   ]
  },
  {
   "cell_type": "code",
   "execution_count": null,
   "id": "917d139b",
   "metadata": {},
   "outputs": [],
   "source": [
    "def full_cycle(data):\n",
    "    for direction in [\"N\", \"W\", \"S\", \"E\"]:\n",
    "        data = tilt(data, direction=direction)\n",
    "    return data"
   ]
  },
  {
   "cell_type": "code",
   "execution_count": null,
   "id": "0386e56d",
   "metadata": {},
   "outputs": [],
   "source": [
    "D = defaultdict(list)\n",
    "for i in range(1000):\n",
    "    data = full_cycle(data)\n",
    "    if len(D[printer(data)])==1:\n",
    "        print(\"first loop at iteration\", i)\n",
    "    if len(D[printer(data)])==2:\n",
    "        print(\"made full loop at iteration\", i)\n",
    "    if len(D[printer(data)])==3:\n",
    "        print(\"made 2nd full loop at iteration\", i)\n",
    "        break\n",
    "    D[printer(data)].append(i)"
   ]
  },
  {
   "cell_type": "code",
   "execution_count": null,
   "id": "554cbb34",
   "metadata": {},
   "outputs": [],
   "source": [
    "1000000000 % 34"
   ]
  },
  {
   "cell_type": "code",
   "execution_count": null,
   "id": "59296984",
   "metadata": {},
   "outputs": [],
   "source": [
    "final = [ k for k, v in D.items() if 34-2 in v ][0]\n",
    "dataf = []\n",
    "for line in final.split(\"\\n\"):\n",
    "    dataf.append(list(map(int,list(line.replace(\"O\", \"2\").replace(\"#\", \"1\").replace(\".\",\"0\")))))\n",
    "dataf = np.array(dataf)\n",
    "n = np.sum(len(dataf) - np.where(dataf==2)[0])\n",
    "n"
   ]
  },
  {
   "cell_type": "code",
   "execution_count": null,
   "id": "1bd684f4",
   "metadata": {},
   "outputs": [],
   "source": [
    "print(final)"
   ]
  },
  {
   "cell_type": "code",
   "execution_count": null,
   "id": "4506d9d9",
   "metadata": {},
   "outputs": [],
   "source": []
  }
 ],
 "metadata": {
  "kernelspec": {
   "display_name": "Python 3 (ipykernel)",
   "language": "python",
   "name": "python3"
  },
  "language_info": {
   "codemirror_mode": {
    "name": "ipython",
    "version": 3
   },
   "file_extension": ".py",
   "mimetype": "text/x-python",
   "name": "python",
   "nbconvert_exporter": "python",
   "pygments_lexer": "ipython3",
   "version": "3.11.5"
  }
 },
 "nbformat": 4,
 "nbformat_minor": 5
}
