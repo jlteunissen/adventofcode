{
 "cells": [
  {
   "cell_type": "markdown",
   "metadata": {
    "toc": true
   },
   "source": [
    "<h1>Table of Contents<span class=\"tocSkip\"></span></h1>\n",
    "<div class=\"toc\"><ul class=\"toc-item\"><li><span><a href=\"#question-2\" data-toc-modified-id=\"question-2-1\"><span class=\"toc-item-num\">1&nbsp;&nbsp;</span>question 2</a></span></li></ul></div>"
   ]
  },
  {
   "cell_type": "code",
   "execution_count": 1,
   "metadata": {},
   "outputs": [],
   "source": [
    "import numpy as np"
   ]
  },
  {
   "cell_type": "code",
   "execution_count": 2,
   "metadata": {},
   "outputs": [],
   "source": [
    "dataraw = \"\"\"\\\n",
    "...........\n",
    ".....###.#.\n",
    ".###.##..#.\n",
    "..#.#...#..\n",
    "....#.#....\n",
    ".##..S####.\n",
    ".##..#...#.\n",
    ".......##..\n",
    ".##.#.####.\n",
    ".##..##.##.\n",
    "...........\n",
    "\"\"\""
   ]
  },
  {
   "cell_type": "code",
   "execution_count": 19,
   "metadata": {},
   "outputs": [
    {
     "data": {
      "text/plain": [
       "'....\\n'"
      ]
     },
     "execution_count": 19,
     "metadata": {},
     "output_type": "execute_result"
    }
   ],
   "source": [
    "with open(\"input.txt\") as f:\n",
    "    dataraw = f.read()\n",
    "dataraw[-5:]"
   ]
  },
  {
   "cell_type": "code",
   "execution_count": 20,
   "metadata": {},
   "outputs": [
    {
     "name": "stdout",
     "output_type": "stream",
     "text": [
      "[[0 0 0 ... 0 0 0]\n",
      " [0 0 0 ... 0 0 0]\n",
      " [0 0 0 ... 0 1 0]\n",
      " ...\n",
      " [0 0 0 ... 0 0 0]\n",
      " [0 0 1 ... 0 1 0]\n",
      " [0 0 0 ... 0 0 0]] (131, 131)\n"
     ]
    },
    {
     "data": {
      "text/plain": [
       "(array([65]), array([65]))"
      ]
     },
     "execution_count": 20,
     "metadata": {},
     "output_type": "execute_result"
    }
   ],
   "source": [
    "dataraw = dataraw.replace(\".\",\"0\").replace(\"#\",'1').replace('S',\"2\").split(\"\\n\")\n",
    "stones = np.array([ list(dat) for dat in dataraw[:-1] ], dtype=int)\n",
    "print(stones, stones.shape)\n",
    "xstarts, ystarts = np.where(stones==2)\n",
    "stones[(xstarts, ystarts)]=0\n",
    "xstarts, ystarts"
   ]
  },
  {
   "cell_type": "code",
   "execution_count": 21,
   "metadata": {},
   "outputs": [
    {
     "data": {
      "text/plain": [
       "131"
      ]
     },
     "execution_count": 21,
     "metadata": {},
     "output_type": "execute_result"
    }
   ],
   "source": [
    "lim = stones.shape[0]\n",
    "lim"
   ]
  },
  {
   "cell_type": "code",
   "execution_count": 26,
   "metadata": {},
   "outputs": [],
   "source": [
    "def get_new_indices(R, lim):\n",
    "    X, Y = [], []\n",
    "    for i in range(len(R)):\n",
    "        xstart, ystart = R[i]\n",
    "        X.extend([xstart, xstart, xstart-1, xstart+1])\n",
    "        Y.extend([ystart-1, ystart+1, ystart, ystart])\n",
    "    R = np.c_[X, Y]\n",
    "    mask = np.any((R > lim)|(R<0), axis=1)\n",
    "    R = R[~mask]\n",
    "    R = R[stones[tuple(R.T)]==0]\n",
    "    R = np.unique(R, axis=0)\n",
    "    return R"
   ]
  },
  {
   "cell_type": "code",
   "execution_count": 27,
   "metadata": {},
   "outputs": [
    {
     "data": {
      "text/plain": [
       "3770"
      ]
     },
     "execution_count": 27,
     "metadata": {},
     "output_type": "execute_result"
    }
   ],
   "source": [
    "R = np.array(np.c_[xstarts, ystarts])\n",
    "for _ in range(64):\n",
    "    R = get_new_indices(R, lim)\n",
    "len(R)"
   ]
  },
  {
   "cell_type": "markdown",
   "metadata": {},
   "source": [
    "## question 2"
   ]
  },
  {
   "cell_type": "code",
   "execution_count": 8,
   "metadata": {},
   "outputs": [
    {
     "data": {
      "text/plain": [
       "202300.0"
      ]
     },
     "execution_count": 8,
     "metadata": {},
     "output_type": "execute_result"
    }
   ],
   "source": [
    "(26501365 - 65) / 131"
   ]
  },
  {
   "cell_type": "code",
   "execution_count": 38,
   "metadata": {},
   "outputs": [
    {
     "data": {
      "text/plain": [
       "(655, 655)"
      ]
     },
     "execution_count": 38,
     "metadata": {},
     "output_type": "execute_result"
    }
   ],
   "source": [
    "tiled_stones = np.tile(stones, (5, 5))\n",
    "tiled_stones.shape"
   ]
  },
  {
   "cell_type": "code",
   "execution_count": 42,
   "metadata": {},
   "outputs": [],
   "source": [
    "def get_new_indices(R):\n",
    "    X, Y = [], []\n",
    "    for i in range(len(R)):\n",
    "        xstart, ystart = R[i]\n",
    "        X.extend([xstart, xstart, xstart-1, xstart+1])\n",
    "        Y.extend([ystart-1, ystart+1, ystart, ystart])\n",
    "    R = np.c_[X, Y]\n",
    "    #R%=131\n",
    "    #mask = np.any((R > lim)|(R<0), axis=1)\n",
    "    #R = R[~mask]\n",
    "    R = R[tiled_stones[tuple(R.T)]==0]\n",
    "    R = np.unique(R, axis=0)\n",
    "    return R"
   ]
  },
  {
   "cell_type": "code",
   "execution_count": 45,
   "metadata": {},
   "outputs": [
    {
     "name": "stdout",
     "output_type": "stream",
     "text": [
      "64 3885\n",
      "195 34700\n",
      "326 96215\n"
     ]
    },
    {
     "data": {
      "text/plain": [
       "([65, 196, 327], [3885, 34700, 96215])"
      ]
     },
     "execution_count": 45,
     "metadata": {},
     "output_type": "execute_result"
    }
   ],
   "source": [
    "X = [65, 65+131, 65+131*2]\n",
    "R = np.array(np.c_[xstarts+2*131, ystarts+2*131])\n",
    "Y = []\n",
    "for i in range(65+131*2):\n",
    "    R = get_new_indices(R)\n",
    "    if i+1 in X:\n",
    "        print(i, len(R))\n",
    "        Y.append(len(R))\n",
    "X, Y"
   ]
  },
  {
   "cell_type": "code",
   "execution_count": 46,
   "metadata": {},
   "outputs": [
    {
     "data": {
      "text/plain": [
       "array([15350., 15465.,  3885.])"
      ]
     },
     "execution_count": 46,
     "metadata": {},
     "output_type": "execute_result"
    }
   ],
   "source": [
    "coefficients = np.polyfit([0,1,2], Y, deg=2) \n",
    "coefficients"
   ]
  },
  {
   "cell_type": "code",
   "execution_count": 49,
   "metadata": {},
   "outputs": [
    {
     "data": {
      "text/plain": [
       "628206330073385"
      ]
     },
     "execution_count": 49,
     "metadata": {},
     "output_type": "execute_result"
    }
   ],
   "source": [
    "y_final = np.polyval(coefficients, 202300) # using coefficients, get y value at x_final\n",
    "y_final.round().astype(int)"
   ]
  }
 ],
 "metadata": {
  "kernelspec": {
   "display_name": "Python 3",
   "language": "python",
   "name": "python3"
  },
  "language_info": {
   "codemirror_mode": {
    "name": "ipython",
    "version": 3
   },
   "file_extension": ".py",
   "mimetype": "text/x-python",
   "name": "python",
   "nbconvert_exporter": "python",
   "pygments_lexer": "ipython3",
   "version": "3.7.6"
  },
  "toc": {
   "base_numbering": 1,
   "nav_menu": {},
   "number_sections": true,
   "sideBar": true,
   "skip_h1_title": false,
   "title_cell": "Table of Contents",
   "title_sidebar": "Contents",
   "toc_cell": true,
   "toc_position": {},
   "toc_section_display": true,
   "toc_window_display": false
  }
 },
 "nbformat": 4,
 "nbformat_minor": 4
}
