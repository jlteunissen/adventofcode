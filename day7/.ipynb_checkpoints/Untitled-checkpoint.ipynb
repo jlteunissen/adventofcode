{
 "cells": [
  {
   "cell_type": "markdown",
   "metadata": {
    "toc": true
   },
   "source": [
    "<h1>Table of Contents<span class=\"tocSkip\"></span></h1>\n",
    "<div class=\"toc\"><ul class=\"toc-item\"><li><span><a href=\"#question-2\" data-toc-modified-id=\"question-2-1\"><span class=\"toc-item-num\">1&nbsp;&nbsp;</span>question 2</a></span></li></ul></div>"
   ]
  },
  {
   "cell_type": "code",
   "execution_count": null,
   "metadata": {},
   "outputs": [],
   "source": [
    "import numpy as np\n",
    "import pandas as pd\n",
    "from collections import Counter"
   ]
  },
  {
   "cell_type": "code",
   "execution_count": null,
   "metadata": {},
   "outputs": [],
   "source": [
    "cardvalues = {\"A\":14, \"K\":13, \"Q\":12, \"J\":11, \"T\":10}"
   ]
  },
  {
   "cell_type": "code",
   "execution_count": null,
   "metadata": {},
   "outputs": [],
   "source": [
    "with open(\"input.txt\") as f:\n",
    "    data = [ line.strip().split() for line in f.readlines() ]"
   ]
  },
  {
   "cell_type": "code",
   "execution_count": null,
   "metadata": {},
   "outputs": [],
   "source": [
    "data = [ \n",
    "    [\n",
    "        [ cardvalues.get(it, int(it)) for it in list(item[0])], \n",
    "        int(item[1])\n",
    "    ] for item in data\n",
    "]"
   ]
  },
  {
   "cell_type": "code",
   "execution_count": null,
   "metadata": {},
   "outputs": [],
   "source": [
    "hands, bids = zip(*data)"
   ]
  },
  {
   "cell_type": "code",
   "execution_count": null,
   "metadata": {},
   "outputs": [],
   "source": [
    "hands, bids = np.array(hands), np.array(bids)"
   ]
  },
  {
   "cell_type": "code",
   "execution_count": null,
   "metadata": {},
   "outputs": [],
   "source": [
    "hands[:5], bids[:5]"
   ]
  },
  {
   "cell_type": "code",
   "execution_count": null,
   "metadata": {},
   "outputs": [],
   "source": [
    "def get_type(hand, verbose=False, nJ=0):\n",
    "    c = Counter(hand)\n",
    "    if nJ:\n",
    "        c[c.most_common(1)[0][0]]+=nJ\n",
    "    cv = c.values()\n",
    "    if 5 in cv:\n",
    "        if verbose: print(\"Five of a Kind\", hand)\n",
    "        return 7\n",
    "    elif 4 in cv:\n",
    "        if verbose: print(\"Four of a Kind\", hand)\n",
    "        return 6\n",
    "    elif 3 in cv:\n",
    "        if 2 in cv:\n",
    "            if verbose: print(\"Full House\", hand)\n",
    "            return 5\n",
    "        else:\n",
    "            if verbose: print(\"Three of a Kind\", hand)\n",
    "            return 4\n",
    "    elif 2 in cv:\n",
    "        if Counter(cv)[2] == 2:\n",
    "            if verbose: print(\"Two Pair\", hand)\n",
    "            return 3           \n",
    "        else:\n",
    "            if verbose: print(\"Two of a Kind\", hand)\n",
    "            return 2\n",
    "    else:\n",
    "        if verbose: print(\"high card\", hand)\n",
    "        return 1"
   ]
  },
  {
   "cell_type": "code",
   "execution_count": null,
   "metadata": {},
   "outputs": [],
   "source": [
    "types = np.apply_along_axis(get_type, 1, hands)\n",
    "types[:5]"
   ]
  },
  {
   "cell_type": "code",
   "execution_count": null,
   "metadata": {},
   "outputs": [],
   "source": [
    "combined = np.concatenate([types[:, np.newaxis], hands], axis=1)\n",
    "combined[:5]"
   ]
  },
  {
   "cell_type": "code",
   "execution_count": null,
   "metadata": {},
   "outputs": [],
   "source": [
    "I = np.argsort(combined.view('i8,i8,i8,i8,i8,i8'), order=['f0', 'f1', 'f2','f3','f4','f5'], axis=0).flatten()\n",
    "I[:5]"
   ]
  },
  {
   "cell_type": "code",
   "execution_count": null,
   "metadata": {},
   "outputs": [],
   "source": [
    "sum(bids[I] * np.arange(1, len(bids)+1))"
   ]
  },
  {
   "cell_type": "markdown",
   "metadata": {},
   "source": [
    "## question 2"
   ]
  },
  {
   "cell_type": "code",
   "execution_count": null,
   "metadata": {},
   "outputs": [],
   "source": [
    "def get_type_withJ(hand, verbose=False):\n",
    "    if 11 in hand:\n",
    "        nJ = np.count_nonzero(hand == 11)\n",
    "        new_hand = hand[hand!=11]\n",
    "        try:\n",
    "            return get_type(new_hand, nJ=nJ)\n",
    "        except IndexError as e:\n",
    "            print(\"error hand:\", hand)\n",
    "            return 7\n",
    "    else:\n",
    "        return get_type(hand)"
   ]
  },
  {
   "cell_type": "code",
   "execution_count": null,
   "metadata": {},
   "outputs": [],
   "source": [
    "types = np.apply_along_axis(get_type_withJ, 1, hands)"
   ]
  },
  {
   "cell_type": "code",
   "execution_count": null,
   "metadata": {},
   "outputs": [],
   "source": [
    "new_hands = hands.copy()\n",
    "new_hands[new_hands==11] = 0"
   ]
  },
  {
   "cell_type": "code",
   "execution_count": null,
   "metadata": {},
   "outputs": [],
   "source": [
    "combined2 = np.concatenate([types[:, np.newaxis], new_hands], axis=1)\n",
    "I2 = np.argsort(combined2.view('i8,i8,i8,i8,i8,i8'), order=['f0', 'f1', 'f2','f3','f4','f5'], axis=0).flatten()\n",
    "sum(bids[I2] * np.arange(1, len(bids)+1))"
   ]
  }
 ],
 "metadata": {
  "kernelspec": {
   "display_name": "Python 3 (ipykernel)",
   "language": "python",
   "name": "python3"
  },
  "language_info": {
   "codemirror_mode": {
    "name": "ipython",
    "version": 3
   },
   "file_extension": ".py",
   "mimetype": "text/x-python",
   "name": "python",
   "nbconvert_exporter": "python",
   "pygments_lexer": "ipython3",
   "version": "3.11.5"
  },
  "toc": {
   "base_numbering": 1,
   "nav_menu": {},
   "number_sections": true,
   "sideBar": true,
   "skip_h1_title": false,
   "title_cell": "Table of Contents",
   "title_sidebar": "Contents",
   "toc_cell": true,
   "toc_position": {},
   "toc_section_display": true,
   "toc_window_display": false
  }
 },
 "nbformat": 4,
 "nbformat_minor": 4
}
