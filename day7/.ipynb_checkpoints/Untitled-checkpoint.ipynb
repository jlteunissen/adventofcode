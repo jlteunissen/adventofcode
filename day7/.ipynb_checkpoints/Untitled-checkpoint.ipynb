{
 "cells": [
  {
   "cell_type": "markdown",
   "metadata": {
    "toc": true
   },
   "source": [
    "<h1>Table of Contents<span class=\"tocSkip\"></span></h1>\n",
    "<div class=\"toc\"><ul class=\"toc-item\"><li><span><a href=\"#question-2\" data-toc-modified-id=\"question-2-1\"><span class=\"toc-item-num\">1&nbsp;&nbsp;</span>question 2</a></span></li></ul></div>"
   ]
  },
  {
   "cell_type": "code",
   "execution_count": 23,
   "metadata": {},
   "outputs": [],
   "source": [
    "import numpy as np\n",
    "import pandas as pd\n",
    "from collections import Counter"
   ]
  },
  {
   "cell_type": "code",
   "execution_count": 8,
   "metadata": {},
   "outputs": [],
   "source": [
    "cardvalues = {\"A\":14, \"K\":13, \"Q\":12, \"J\":11, \"T\":10}"
   ]
  },
  {
   "cell_type": "code",
   "execution_count": 3,
   "metadata": {},
   "outputs": [],
   "source": [
    "with open(\"input.txt\") as f:\n",
    "    data = [ line.strip().split() for line in f.readlines() ]"
   ]
  },
  {
   "cell_type": "code",
   "execution_count": 14,
   "metadata": {},
   "outputs": [],
   "source": [
    "data = [ \n",
    "    [\n",
    "        [ cardvalues.get(it, int(it)) for it in list(item[0])], \n",
    "        int(item[1])\n",
    "    ] for item in data\n",
    "]"
   ]
  },
  {
   "cell_type": "code",
   "execution_count": 16,
   "metadata": {},
   "outputs": [],
   "source": [
    "hands, bids = zip(*data)"
   ]
  },
  {
   "cell_type": "code",
   "execution_count": 20,
   "metadata": {},
   "outputs": [],
   "source": [
    "hands, bids = np.array(hands), np.array(bids)"
   ]
  },
  {
   "cell_type": "code",
   "execution_count": 22,
   "metadata": {},
   "outputs": [
    {
     "data": {
      "text/plain": [
       "(array([[ 7,  7,  7,  7,  6],\n",
       "        [ 2,  6, 11,  3,  5],\n",
       "        [ 9,  9,  9,  9, 12],\n",
       "        [ 3, 11, 13, 12, 13],\n",
       "        [14, 14,  7,  7, 13]]), array([507, 214, 314, 630,  94]))"
      ]
     },
     "execution_count": 22,
     "metadata": {},
     "output_type": "execute_result"
    }
   ],
   "source": [
    "hands[:5], bids[:5]"
   ]
  },
  {
   "cell_type": "code",
   "execution_count": 51,
   "metadata": {},
   "outputs": [],
   "source": [
    "def get_type(hand, verbose=False):\n",
    "    c = Counter(hand)\n",
    "    cv = c.values()\n",
    "    if 5 in cv:\n",
    "        if verbose: print(\"Five of a Kind\", hand)\n",
    "        return 7\n",
    "    elif 4 in cv:\n",
    "        if verbose: print(\"Four of a Kind\", hand)\n",
    "        return 6\n",
    "    elif 3 in cv:\n",
    "        if 2 in cv:\n",
    "            if verbose: print(\"Full House\", hand)\n",
    "            return 5\n",
    "        else:\n",
    "            if verbose: print(\"Three of a Kind\", hand)\n",
    "            return 4\n",
    "    elif 2 in cv:\n",
    "        if Counter(cv)[2] == 2:\n",
    "            if verbose: print(\"Two Pair\", hand)\n",
    "            return 3           \n",
    "        else:\n",
    "            if verbose: print(\"Two of a Kind\", hand)\n",
    "            return 2\n",
    "    else:\n",
    "        if verbose: print(\"high card\", hand)\n",
    "        return 1"
   ]
  },
  {
   "cell_type": "code",
   "execution_count": 78,
   "metadata": {},
   "outputs": [
    {
     "data": {
      "text/plain": [
       "array([6, 1, 6, 2, 3])"
      ]
     },
     "execution_count": 78,
     "metadata": {},
     "output_type": "execute_result"
    }
   ],
   "source": [
    "types = np.apply_along_axis(get_type, 1, hands)\n",
    "types[:5]"
   ]
  },
  {
   "cell_type": "code",
   "execution_count": 79,
   "metadata": {},
   "outputs": [
    {
     "data": {
      "text/plain": [
       "array([[ 6,  7,  7,  7,  7,  6],\n",
       "       [ 1,  2,  6, 11,  3,  5],\n",
       "       [ 6,  9,  9,  9,  9, 12],\n",
       "       [ 2,  3, 11, 13, 12, 13],\n",
       "       [ 3, 14, 14,  7,  7, 13]])"
      ]
     },
     "execution_count": 79,
     "metadata": {},
     "output_type": "execute_result"
    }
   ],
   "source": [
    "combined = np.concatenate([types[:, np.newaxis], hands], axis=1)\n",
    "combined[:5]"
   ]
  },
  {
   "cell_type": "code",
   "execution_count": 94,
   "metadata": {},
   "outputs": [
    {
     "data": {
      "text/plain": [
       "array([890, 831, 177, 626, 883])"
      ]
     },
     "execution_count": 94,
     "metadata": {},
     "output_type": "execute_result"
    }
   ],
   "source": [
    "I = np.argsort(combined.view('i8,i8,i8,i8,i8,i8'), order=['f0', 'f1', 'f2','f3','f4','f5'], axis=0).flatten()\n",
    "I[:5]"
   ]
  },
  {
   "cell_type": "code",
   "execution_count": 95,
   "metadata": {},
   "outputs": [
    {
     "data": {
      "text/plain": [
       "array([[ 1,  2,  3, 12, 14, 13],\n",
       "       [ 1,  2,  3, 13,  5,  9],\n",
       "       [ 1,  2,  5,  3, 14,  7],\n",
       "       ...,\n",
       "       [ 6, 14, 14, 14, 14,  5],\n",
       "       [ 6, 14, 14, 14, 14,  7],\n",
       "       [ 7, 11, 11, 11, 11, 11]])"
      ]
     },
     "execution_count": 95,
     "metadata": {},
     "output_type": "execute_result"
    }
   ],
   "source": [
    "combined[I]"
   ]
  },
  {
   "cell_type": "code",
   "execution_count": 99,
   "metadata": {},
   "outputs": [
    {
     "data": {
      "text/plain": [
       "array([174, 604, 500, 580, 410])"
      ]
     },
     "execution_count": 99,
     "metadata": {},
     "output_type": "execute_result"
    }
   ],
   "source": [
    "bids[I][:5]"
   ]
  },
  {
   "cell_type": "code",
   "execution_count": 98,
   "metadata": {},
   "outputs": [
    {
     "data": {
      "text/plain": [
       "241344943"
      ]
     },
     "execution_count": 98,
     "metadata": {},
     "output_type": "execute_result"
    }
   ],
   "source": [
    "sum(bids[I] * np.arange(1, len(bids)+1))"
   ]
  },
  {
   "cell_type": "markdown",
   "metadata": {},
   "source": [
    "## question 2"
   ]
  },
  {
   "cell_type": "code",
   "execution_count": null,
   "metadata": {},
   "outputs": [],
   "source": []
  }
 ],
 "metadata": {
  "kernelspec": {
   "display_name": "Python 3",
   "language": "python",
   "name": "python3"
  },
  "language_info": {
   "codemirror_mode": {
    "name": "ipython",
    "version": 3
   },
   "file_extension": ".py",
   "mimetype": "text/x-python",
   "name": "python",
   "nbconvert_exporter": "python",
   "pygments_lexer": "ipython3",
   "version": "3.8.1"
  },
  "toc": {
   "base_numbering": 1,
   "nav_menu": {},
   "number_sections": true,
   "sideBar": true,
   "skip_h1_title": false,
   "title_cell": "Table of Contents",
   "title_sidebar": "Contents",
   "toc_cell": true,
   "toc_position": {},
   "toc_section_display": true,
   "toc_window_display": false
  }
 },
 "nbformat": 4,
 "nbformat_minor": 4
}
