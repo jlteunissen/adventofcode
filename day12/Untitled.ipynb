{
 "cells": [
  {
   "cell_type": "markdown",
   "metadata": {
    "toc": true
   },
   "source": [
    "<h1>Table of Contents<span class=\"tocSkip\"></span></h1>\n",
    "<div class=\"toc\"><ul class=\"toc-item\"><li><ul class=\"toc-item\"><li><span><a href=\"#testdata\" data-toc-modified-id=\"testdata-0.1\"><span class=\"toc-item-num\">0.1&nbsp;&nbsp;</span>testdata</a></span></li><li><span><a href=\"#real-data\" data-toc-modified-id=\"real-data-0.2\"><span class=\"toc-item-num\">0.2&nbsp;&nbsp;</span>real data</a></span></li></ul></li><li><span><a href=\"#question-1\" data-toc-modified-id=\"question-1-1\"><span class=\"toc-item-num\">1&nbsp;&nbsp;</span>question 1</a></span></li><li><span><a href=\"#question-2\" data-toc-modified-id=\"question-2-2\"><span class=\"toc-item-num\">2&nbsp;&nbsp;</span>question 2</a></span></li></ul></div>"
   ]
  },
  {
   "cell_type": "code",
   "execution_count": null,
   "metadata": {},
   "outputs": [],
   "source": [
    "import numpy as np\n",
    "from sympy.utilities.iterables import multiset_permutations\n",
    "from functools import lru_cache"
   ]
  },
  {
   "cell_type": "markdown",
   "metadata": {},
   "source": [
    "### testdata"
   ]
  },
  {
   "cell_type": "code",
   "execution_count": null,
   "metadata": {},
   "outputs": [],
   "source": [
    "testdata = \"\"\"???.### 1,1,3\n",
    ".??..??...?##. 1,1,3\n",
    "?#?#?#?#?#?#?#? 1,3,1,6\n",
    "????.#...#... 4,1,1\n",
    "????.######..#####. 1,6,5\n",
    "?###???????? 3,2,1\"\"\".split(\"\\n\")\n",
    "testdata = [ dat.split() for dat in testdata ]\n",
    "testdata"
   ]
  },
  {
   "cell_type": "code",
   "execution_count": null,
   "metadata": {},
   "outputs": [],
   "source": [
    "data = [ [np.array(list(dat[0])), list(map(int, dat[1].split(',')))] for dat in testdata]\n",
    "springs, Ns = zip(*data)"
   ]
  },
  {
   "cell_type": "markdown",
   "metadata": {},
   "source": [
    "### real data"
   ]
  },
  {
   "cell_type": "code",
   "execution_count": null,
   "metadata": {},
   "outputs": [],
   "source": [
    "with open(\"input.txt\") as f:\n",
    "    data = [dat.strip().split() for dat in f ]\n",
    "data = [ [np.array(list(dat[0])), list(map(int, dat[1].split(',')))] for dat in data]\n",
    "springs, Ns = zip(*data)"
   ]
  },
  {
   "cell_type": "code",
   "execution_count": null,
   "metadata": {},
   "outputs": [],
   "source": [
    "len(springs)"
   ]
  },
  {
   "cell_type": "markdown",
   "metadata": {},
   "source": [
    "## question 1"
   ]
  },
  {
   "cell_type": "code",
   "execution_count": null,
   "metadata": {},
   "outputs": [],
   "source": [
    "def get_options(springs, N):\n",
    "    Ntot = sum(N)\n",
    "    whereQuest = np.where(springs=='?')\n",
    "    nQuest, nHash = np.sum(springs=='?'), np.sum(springs=='#')\n",
    "    #print(springs, nQuest, nHash)\n",
    "    nNewHash = Ntot - nHash\n",
    "    nNewDots = nQuest - nNewHash\n",
    "    newSymbols = nNewHash * \"#\" + nNewDots * \".\"\n",
    "    \n",
    "    nValidOptions = 0\n",
    "    for option in multiset_permutations(newSymbols):\n",
    "        # fill them in.\n",
    "        new_springs = springs.copy()\n",
    "        new_springs[whereQuest] = option\n",
    "        #print(option, new_springs)\n",
    "        \n",
    "        # validate\n",
    "        newN = np.array(list(map(len, \"\".join(new_springs).split(\".\"))))\n",
    "        newN = newN[newN!=0]\n",
    "        #print(newN)\n",
    "        if len(newN)==len(N):\n",
    "            if np.array_equal(newN, N):\n",
    "                nValidOptions += 1\n",
    "    return nValidOptions"
   ]
  },
  {
   "cell_type": "code",
   "execution_count": null,
   "metadata": {},
   "outputs": [],
   "source": [
    "Nall = 0\n",
    "for spring, N in zip(springs, Ns):\n",
    "    #print(\"\".join(spring), N)\n",
    "    n = get_options(spring, N)\n",
    "    print(n)\n",
    "    Nall += n\n",
    "Nall"
   ]
  },
  {
   "cell_type": "markdown",
   "metadata": {},
   "source": [
    "## question 2"
   ]
  },
  {
   "cell_type": "code",
   "execution_count": null,
   "metadata": {},
   "outputs": [],
   "source": [
    "@lru_cache\n",
    "def count(cfg, nums):\n",
    "    if cfg == \"\":\n",
    "        return 1 if nums == () else 0\n",
    "    if nums == ():\n",
    "        return 0 if \"#\" in cfg else 1\n",
    "    \n",
    "    key = (cfg, nums)\n",
    "    \n",
    "    result = 0\n",
    "    \n",
    "    # add the number of possibilities starting with a dot, or with regarding the ? as a dot.\n",
    "    if cfg[0] in \".?\":\n",
    "        result += count(cfg[1:], nums)\n",
    "    # add the number of possibilities starting with a hashtag or with regarding ? as #    \n",
    "    if cfg[0] in \"#?\":\n",
    "        # stop when:\n",
    "        # - the first number is larger than the number of symbols left.\n",
    "        # - there is a dot within the range of the next number\n",
    "        # - cfg[nums[0]] != \"#\"\n",
    "        if nums[0] <= len(cfg) and \".\" not in cfg[:nums[0]] and (nums[0] == len(cfg) or cfg[nums[0]] != \"#\"):\n",
    "        #if nums[0] <= len(cfg) and \".\" not in cfg[:nums[0]]:\n",
    "            result += count(cfg[nums[0] + 1:], nums[1:])\n",
    "    return result"
   ]
  },
  {
   "cell_type": "code",
   "execution_count": null,
   "metadata": {},
   "outputs": [],
   "source": [
    "Nall = 0\n",
    "for spring, N in zip(springs, Ns):\n",
    "    nums = tuple(N * 5)\n",
    "    cfg = \"?\".join(\"\".join(spring) for _ in range(5))\n",
    "    n = count(cfg, nums)\n",
    "    #print(n)\n",
    "    Nall += n\n",
    "Nall"
   ]
  },
  {
   "cell_type": "code",
   "execution_count": null,
   "metadata": {},
   "outputs": [],
   "source": [
    "10153896718999"
   ]
  },
  {
   "cell_type": "code",
   "execution_count": null,
   "metadata": {},
   "outputs": [],
   "source": []
  }
 ],
 "metadata": {
  "kernelspec": {
   "display_name": "Python 3",
   "language": "python",
   "name": "python3"
  },
  "language_info": {
   "codemirror_mode": {
    "name": "ipython",
    "version": 3
   },
   "file_extension": ".py",
   "mimetype": "text/x-python",
   "name": "python",
   "nbconvert_exporter": "python",
   "pygments_lexer": "ipython3",
   "version": "3.8.1"
  },
  "toc": {
   "base_numbering": 1,
   "nav_menu": {},
   "number_sections": true,
   "sideBar": true,
   "skip_h1_title": false,
   "title_cell": "Table of Contents",
   "title_sidebar": "Contents",
   "toc_cell": true,
   "toc_position": {},
   "toc_section_display": true,
   "toc_window_display": false
  }
 },
 "nbformat": 4,
 "nbformat_minor": 4
}
