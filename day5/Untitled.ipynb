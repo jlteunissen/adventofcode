{
 "cells": [
  {
   "cell_type": "code",
   "execution_count": null,
   "id": "7ea66553",
   "metadata": {},
   "outputs": [],
   "source": [
    "import numpy as np"
   ]
  },
  {
   "cell_type": "code",
   "execution_count": null,
   "id": "8dbd855b",
   "metadata": {},
   "outputs": [],
   "source": [
    "with open(\"input.txt\") as f:\n",
    "    data = [line.strip() for line in f.readlines()]"
   ]
  },
  {
   "cell_type": "code",
   "execution_count": null,
   "id": "93f0e879",
   "metadata": {},
   "outputs": [],
   "source": [
    "seeds = [int(seed) for seed in data[0].split(\": \")[1].split()]\n",
    "seeds"
   ]
  },
  {
   "cell_type": "code",
   "execution_count": null,
   "id": "bb8a3c11",
   "metadata": {},
   "outputs": [],
   "source": [
    "il = iter(data[1:])\n",
    "maps = dict()\n",
    "mapnames = dict()\n",
    "index = 0\n",
    "for line in il:\n",
    "    if not line.strip():\n",
    "        continue\n",
    "    if 'map' in line:\n",
    "        mapname = line.strip().split()[0]\n",
    "        mapnames[index] = mapname\n",
    "        M = []\n",
    "        while True:\n",
    "            try:\n",
    "                line = next(il)\n",
    "            except StopIteration:\n",
    "                break\n",
    "            if not line.strip():\n",
    "                break\n",
    "            M.append(list(map(int, line.split())))\n",
    "        Ma = np.array(M)\n",
    "        maps[index] = Ma[np.argsort(Ma[:, 1])]\n",
    "        index += 1\n",
    "print(mapnames)"
   ]
  },
  {
   "cell_type": "code",
   "execution_count": null,
   "id": "d633825c",
   "metadata": {},
   "outputs": [],
   "source": [
    "# maps work destinationid, sourceid, range"
   ]
  },
  {
   "cell_type": "code",
   "execution_count": null,
   "id": "d72f56a1",
   "metadata": {},
   "outputs": [],
   "source": [
    "rangemaps = dict()"
   ]
  },
  {
   "cell_type": "code",
   "execution_count": null,
   "id": "a3e8e7d1",
   "metadata": {},
   "outputs": [],
   "source": [
    "map1 = maps[0]"
   ]
  },
  {
   "cell_type": "code",
   "execution_count": null,
   "id": "c39ef05b",
   "metadata": {},
   "outputs": [],
   "source": [
    "seeds[0]"
   ]
  },
  {
   "cell_type": "code",
   "execution_count": null,
   "id": "ab3b7514",
   "metadata": {},
   "outputs": [],
   "source": [
    "map1"
   ]
  },
  {
   "cell_type": "code",
   "execution_count": null,
   "id": "e88e2d57",
   "metadata": {},
   "outputs": [],
   "source": [
    "bin_location = np.searchsorted(map1[:,1], seeds[0], side='left')\n",
    "bin_location"
   ]
  },
  {
   "cell_type": "code",
   "execution_count": null,
   "id": "79ba85ad",
   "metadata": {},
   "outputs": [],
   "source": [
    "map1[bin_location-1], seeds[0]"
   ]
  },
  {
   "cell_type": "code",
   "execution_count": null,
   "id": "0ce6b3ad",
   "metadata": {},
   "outputs": [],
   "source": [
    "def is_between(value, lower_bound, upper_bound):\n",
    "    return lower_bound <= value < upper_bound\n",
    "destid, sourceid, r = map1[bin_location-1]\n",
    "print(sourceid, sourceid+r, seeds[0])\n",
    "is_between(seeds[0], sourceid, sourceid+r)"
   ]
  },
  {
   "cell_type": "code",
   "execution_count": null,
   "id": "17226e62",
   "metadata": {},
   "outputs": [],
   "source": []
  },
  {
   "cell_type": "code",
   "execution_count": null,
   "id": "ef4ae41f",
   "metadata": {},
   "outputs": [],
   "source": [
    "maps.keys()"
   ]
  },
  {
   "cell_type": "code",
   "execution_count": null,
   "id": "58606d4f",
   "metadata": {},
   "outputs": [],
   "source": [
    "def find_location(maps, seed, verbose=True):\n",
    "    if verbose:print(\"---\", seed)\n",
    "    for i in range(len(maps)):\n",
    "        if verbose: print(i, mapnames[i])\n",
    "        bin_location = np.searchsorted(maps[i][:,1], seed, side='right')\n",
    "        destid, sourceid, r = maps[i][bin_location-1]\n",
    "        if is_between(seed, sourceid, sourceid+r):\n",
    "            if verbose: print(f\"seed {seed:d} is mapped between sourceid {sourceid} which ranges until {sourceid+r}\")\n",
    "            diff = seed - sourceid\n",
    "            seed = destid + diff\n",
    "        else:\n",
    "            if verbose:\n",
    "                print(f\"seed {seed} is not within range {sourceid}-{sourceid+r} so it will map to its own value\")\n",
    "                print(bin_location)\n",
    "                print(maps[i][bin_location-1:bin_location+3])\n",
    "    return seed"
   ]
  },
  {
   "cell_type": "code",
   "execution_count": null,
   "id": "49417680",
   "metadata": {},
   "outputs": [],
   "source": [
    "find_location(maps, seeds[0])"
   ]
  },
  {
   "cell_type": "code",
   "execution_count": null,
   "id": "57248052",
   "metadata": {},
   "outputs": [],
   "source": [
    "locations = [ find_location(maps, seed, verbose=False) for seed in seeds ]"
   ]
  },
  {
   "cell_type": "code",
   "execution_count": null,
   "id": "c756171e",
   "metadata": {},
   "outputs": [],
   "source": [
    "min(locations)"
   ]
  },
  {
   "cell_type": "markdown",
   "id": "b926c6ea",
   "metadata": {},
   "source": [
    "## question 2"
   ]
  },
  {
   "cell_type": "code",
   "execution_count": null,
   "id": "6ff615f8",
   "metadata": {},
   "outputs": [],
   "source": [
    "ranges = np.c_[seeds[0::2], np.sum([seeds[0::2], (np.array(seeds[1::2])-1)], axis=0)]\n",
    "ranges"
   ]
  },
  {
   "cell_type": "code",
   "execution_count": null,
   "id": "95040657",
   "metadata": {},
   "outputs": [],
   "source": [
    "def check_range(maps, startid, finalid):\n",
    "    for i in range(len(maps)):\n",
    "        \n",
    "        split_range(maps[i], startid, finalid)\n",
    "        \n",
    "        # get bin_location of startid\n",
    "        bin_location = np.searchsorted(maps[i][:,1], startid, side='right')\n",
    "        destid, sourceid, r = maps[i][bin_location-1]\n",
    "        \n",
    "        if is_between(seed, sourceid, sourceid+r):\n",
    "            if verbose: print(f\"seed {seed:d} is mapped between sourceid {sourceid} which ranges until {sourceid+r}\")\n",
    "            diff = seed - sourceid\n",
    "            seed = destid + diff\n",
    "        else:\n",
    "            if verbose:\n",
    "                print(f\"seed {seed} is not within range {sourceid}-{sourceid+r} so it will map to its own value\")\n",
    "                print(bin_location)\n",
    "                print(maps[i][bin_location-1:bin_location+3])\n",
    "    return seed"
   ]
  },
  {
   "cell_type": "code",
   "execution_count": null,
   "id": "08f0042f",
   "metadata": {},
   "outputs": [],
   "source": [
    "def split_range(xmap, startid, finalid):\n",
    "    \"\"\" this function will look whether startid and finalid fall within the same subrange and otherwise return \n",
    "    multiple ranges that map to different destination ids\"\"\"\n",
    "    bin_location = np.searchsorted(xmap[:,1], startid, side='right')\n",
    "    print(\"bin_location\", bin_location)\n",
    "    destid, sourceid, r = xmap[bin_location-1]\n",
    "    \n",
    "    if is_between(startid, sourceid, sourceid+r):\n",
    "        print(f\"start value {startid} falls within sourceid {sourceid} and {sourceid+r}\")\n",
    "        diff = startid - sourceid\n",
    "        seed = destid + diff\n",
    "    else:\n",
    "        try:\n",
    "            destid2, sourceid2, r2 = xmap[bin_location]\n",
    "        except IndexError:\n",
    "            # in this case there is no higher bin, so map to itself\n",
    "            return [[startid, finalid]]\n",
    "            \n",
    "        print(f\"start value {startid} falls outside range. next range starts at {sourceid2}\")\n",
    "        # check if final id also falls outside range\n",
    "        if finalid < sourceid2:\n",
    "            print(f\"whole seed range {startid}-{finalid} falls outside ranges {sourceid}-{sourceid+r} and {sourceid2}-{sourceid2+r2}\")\n",
    "            return [[startid, finalid]]\n",
    "        else:\n",
    "            # sourceid2 < finalid. new range is sourceid2-finalid\n",
    "            return [[startid, sourceid2-1]] + split_range(xmap, sourceid2, finalid)\n",
    "    \n",
    "    if (sourceid + r) > finalid:\n",
    "        \n",
    "        print(f\"the seed range {startid}-{finalid} falls totally within range {sourceid}-{sourceid+r}\")\n",
    "        return [[seed, seed + (finalid-startid)]]\n",
    "    else:\n",
    "        # now sourceid + r < finalid. so we have to check the new range sourceid + r + 1 - finalid\n",
    "        print(f\"the seed range {startid}-{finalid} is larger than range {sourceid}-{sourceid+r-1}\")\n",
    "        print(f\"new range {sourceid+r}-{finalid}\")\n",
    "        return [[seed, destid+r-1]] + split_range(xmap, sourceid+r, finalid)"
   ]
  },
  {
   "cell_type": "code",
   "execution_count": null,
   "id": "87b97997",
   "metadata": {},
   "outputs": [],
   "source": [
    "new_ranges = ranges.copy()\n",
    "for i in range(len(maps)):\n",
    "    new_new_ranges = []\n",
    "    for xrange in new_ranges:\n",
    "        new_range = split_range(maps[i], *xrange)\n",
    "        new_new_ranges.extend(new_range)\n",
    "    new_ranges = new_new_ranges.copy()"
   ]
  },
  {
   "cell_type": "code",
   "execution_count": null,
   "id": "ae470a6e",
   "metadata": {},
   "outputs": [],
   "source": [
    "np.min(new_ranges)"
   ]
  },
  {
   "cell_type": "code",
   "execution_count": null,
   "id": "20c2123e",
   "metadata": {},
   "outputs": [],
   "source": [
    "def is_between(value, lower_bound, upper_bound):\n",
    "    return lower_bound <= value < upper_bound\n",
    "\n",
    "\n",
    "def split_range(xmap, startid, finalid):\n",
    "    \"\"\" this function will look whether startid and finalid fall within the same subrange and otherwise return \n",
    "    multiple ranges that map to different destination ids\"\"\"\n",
    "    bin_location = np.searchsorted(xmap[:,1], startid, side='right')\n",
    "    destid, sourceid, r = xmap[bin_location-1]\n",
    "    \n",
    "    if is_between(startid, sourceid, sourceid+r):\n",
    "        diff = startid - sourceid\n",
    "        seed = destid + diff\n",
    "    else:\n",
    "        try:\n",
    "            destid2, sourceid2, r2 = xmap[bin_location]\n",
    "        except IndexError:\n",
    "            return [[startid, finalid]]\n",
    "            \n",
    "        if finalid < sourceid2:\n",
    "            return [[startid, finalid]]\n",
    "        else:\n",
    "            return [[startid, sourceid2-1]] + split_range(xmap, sourceid2, finalid)\n",
    "    \n",
    "    if (sourceid + r) > finalid:\n",
    "        return [[seed, seed + (finalid-startid)]]\n",
    "    else:\n",
    "        return [[seed, destid+r-1]] + split_range(xmap, sourceid+r, finalid)\n",
    "    \n",
    "new_ranges = ranges.copy()\n",
    "for i in range(len(maps)):\n",
    "    new = []\n",
    "    for xrange in new_ranges:\n",
    "        new_range = split_range(maps[i], *xrange)\n",
    "        new.extend(new_range)\n",
    "    new_ranges = new.copy()\n",
    "\n",
    "print(min(new_ranges))"
   ]
  },
  {
   "cell_type": "code",
   "execution_count": null,
   "id": "21a08b88",
   "metadata": {},
   "outputs": [],
   "source": []
  },
  {
   "cell_type": "code",
   "execution_count": null,
   "id": "07627e84",
   "metadata": {},
   "outputs": [],
   "source": []
  },
  {
   "cell_type": "code",
   "execution_count": null,
   "id": "fd7f20dd",
   "metadata": {},
   "outputs": [],
   "source": []
  }
 ],
 "metadata": {
  "kernelspec": {
   "display_name": "Python 3 (ipykernel)",
   "language": "python",
   "name": "python3"
  },
  "language_info": {
   "codemirror_mode": {
    "name": "ipython",
    "version": 3
   },
   "file_extension": ".py",
   "mimetype": "text/x-python",
   "name": "python",
   "nbconvert_exporter": "python",
   "pygments_lexer": "ipython3",
   "version": "3.11.5"
  }
 },
 "nbformat": 4,
 "nbformat_minor": 5
}
