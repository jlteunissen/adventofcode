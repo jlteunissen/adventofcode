{
 "cells": [
  {
   "cell_type": "markdown",
   "metadata": {
    "toc": true
   },
   "source": [
    "<h1>Table of Contents<span class=\"tocSkip\"></span></h1>\n",
    "<div class=\"toc\"><ul class=\"toc-item\"><li><span><a href=\"#question-1\" data-toc-modified-id=\"question-1-1\"><span class=\"toc-item-num\">1&nbsp;&nbsp;</span>question 1</a></span></li><li><span><a href=\"#question-2\" data-toc-modified-id=\"question-2-2\"><span class=\"toc-item-num\">2&nbsp;&nbsp;</span>question 2</a></span></li></ul></div>"
   ]
  },
  {
   "cell_type": "code",
   "execution_count": 88,
   "metadata": {},
   "outputs": [],
   "source": [
    "from collections import defaultdict\n",
    "import numpy as np"
   ]
  },
  {
   "cell_type": "code",
   "execution_count": 1,
   "metadata": {},
   "outputs": [],
   "source": [
    "with open(\"input.txt\") as f:\n",
    "    data = f.readlines()"
   ]
  },
  {
   "cell_type": "code",
   "execution_count": 24,
   "metadata": {},
   "outputs": [
    {
     "data": {
      "text/plain": [
       "('Game 1: 2 green, 6 blue, 7 red; 12 green, 6 blue, 3 red; 5 red, 18 green, 4 blue\\n',\n",
       " 'Game 2: 10 green, 4 red; 2 red; 12 green, 11 red, 1 blue; 1 blue, 11 red, 5 green; 10 red, 9 green, 1 blue\\n')"
      ]
     },
     "execution_count": 24,
     "metadata": {},
     "output_type": "execute_result"
    }
   ],
   "source": [
    "data[0], data[1]"
   ]
  },
  {
   "cell_type": "code",
   "execution_count": 36,
   "metadata": {},
   "outputs": [],
   "source": [
    "def parse_line(line):\n",
    "    game, hands = line.strip().split(\":\")\n",
    "    ID = int(game.strip(\"Game \"))\n",
    "    \n",
    "    Hs = []\n",
    "    for hand in hands.split(\";\"):\n",
    "        #print(\"hand:\", hand)\n",
    "        Hraw = [ h.strip().split(\" \") for h in hand.split(',') ]\n",
    "        #print(\"Hraw:\", Hraw)\n",
    "        H = dict()\n",
    "        for n, color in Hraw:\n",
    "            H[color] = int(n)\n",
    "        Hs.append(H)\n",
    "    \n",
    "    return ID, Hs"
   ]
  },
  {
   "cell_type": "code",
   "execution_count": 38,
   "metadata": {},
   "outputs": [],
   "source": [
    "games = [ parse_line(line) for line in data ]"
   ]
  },
  {
   "cell_type": "markdown",
   "metadata": {},
   "source": [
    "## question 1"
   ]
  },
  {
   "cell_type": "code",
   "execution_count": 68,
   "metadata": {},
   "outputs": [
    {
     "name": "stdout",
     "output_type": "stream",
     "text": [
      "2,4,5,6,8,9,10,11,12,14,15,17,18,24,25,27,30,31,33,34,35,37,38,39,42,44,46,48,50,52,54,57,63,65,67,70,71,72,77,79,83,84,86,93,94,97,98,"
     ]
    }
   ],
   "source": [
    "def check_possible(game):\n",
    "    sack = {\"red\":12, \"green\":13, \"blue\":14}\n",
    "    for hand in game:\n",
    "        # test individual colors\n",
    "        for color, nmax in sack.items():\n",
    "            if hand.get(color, 0) > nmax:  \n",
    "                return False\n",
    "    return True\n",
    "    \n",
    "possible_ids = set()\n",
    "for gameid, game in games:\n",
    "    if check_possible(game):\n",
    "        print(gameid, end=\",\")\n",
    "        possible_ids.add(gameid)"
   ]
  },
  {
   "cell_type": "code",
   "execution_count": 69,
   "metadata": {},
   "outputs": [
    {
     "data": {
      "text/plain": [
       "2076"
      ]
     },
     "execution_count": 69,
     "metadata": {},
     "output_type": "execute_result"
    }
   ],
   "source": [
    "sum(possible_ids)"
   ]
  },
  {
   "cell_type": "markdown",
   "metadata": {},
   "source": [
    "## question 2"
   ]
  },
  {
   "cell_type": "code",
   "execution_count": 97,
   "metadata": {},
   "outputs": [],
   "source": [
    "def check_minimum(game):\n",
    "    mins = {\"red\":0, \"blue\":0, \"green\":0}\n",
    "    for hand in game:\n",
    "        #print(hand, end=\"\\n\")\n",
    "        for color, n in hand.items():\n",
    "            if n > mins[color]:\n",
    "                mins[color] = n\n",
    "    return mins"
   ]
  },
  {
   "cell_type": "code",
   "execution_count": 99,
   "metadata": {},
   "outputs": [
    {
     "data": {
      "text/plain": [
       "70950"
      ]
     },
     "execution_count": 99,
     "metadata": {},
     "output_type": "execute_result"
    }
   ],
   "source": [
    "sum_products = 0\n",
    "for gameid, game in games:\n",
    "    mins = check_minimum(game)\n",
    "    p = np.prod(list(mins.values()))\n",
    "    sum_products += p\n",
    "sum_products"
   ]
  }
 ],
 "metadata": {
  "kernelspec": {
   "display_name": "Python 3",
   "language": "python",
   "name": "python3"
  },
  "language_info": {
   "codemirror_mode": {
    "name": "ipython",
    "version": 3
   },
   "file_extension": ".py",
   "mimetype": "text/x-python",
   "name": "python",
   "nbconvert_exporter": "python",
   "pygments_lexer": "ipython3",
   "version": "3.8.1"
  },
  "toc": {
   "base_numbering": 1,
   "nav_menu": {},
   "number_sections": true,
   "sideBar": true,
   "skip_h1_title": false,
   "title_cell": "Table of Contents",
   "title_sidebar": "Contents",
   "toc_cell": true,
   "toc_position": {},
   "toc_section_display": true,
   "toc_window_display": false
  }
 },
 "nbformat": 4,
 "nbformat_minor": 4
}
