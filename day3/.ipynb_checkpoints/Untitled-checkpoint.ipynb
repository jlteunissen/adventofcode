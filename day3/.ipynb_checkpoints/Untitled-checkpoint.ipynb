{
 "cells": [
  {
   "cell_type": "markdown",
   "metadata": {
    "toc": true
   },
   "source": [
    "<h1>Table of Contents<span class=\"tocSkip\"></span></h1>\n",
    "<div class=\"toc\"><ul class=\"toc-item\"><li><span><a href=\"#question-1\" data-toc-modified-id=\"question-1-1\"><span class=\"toc-item-num\">1&nbsp;&nbsp;</span>question 1</a></span></li><li><span><a href=\"#question-2\" data-toc-modified-id=\"question-2-2\"><span class=\"toc-item-num\">2&nbsp;&nbsp;</span>question 2</a></span></li></ul></div>"
   ]
  },
  {
   "cell_type": "code",
   "execution_count": 1,
   "metadata": {},
   "outputs": [],
   "source": [
    "import numpy as np"
   ]
  },
  {
   "cell_type": "code",
   "execution_count": 2,
   "metadata": {},
   "outputs": [],
   "source": [
    "digits = set(list(\"0123456789\"))"
   ]
  },
  {
   "cell_type": "code",
   "execution_count": 3,
   "metadata": {},
   "outputs": [],
   "source": [
    "with open(\"input.txt\") as f:\n",
    "    data = [ list(line.strip()) for line in f.readlines() ]"
   ]
  },
  {
   "cell_type": "code",
   "execution_count": 4,
   "metadata": {},
   "outputs": [],
   "source": [
    "ndata = np.array(data, dtype=str)"
   ]
  },
  {
   "cell_type": "code",
   "execution_count": 5,
   "metadata": {},
   "outputs": [
    {
     "name": "stdout",
     "output_type": "stream",
     "text": [
      "........440...............418..643.....438......740.261......................................727....\n",
      "...............338.............-........*.......*.......34&.$........@.....&742.....................\n",
      "..................*369.....334.......624..749....533........690...894...........466......../....&...\n"
     ]
    }
   ],
   "source": [
    "for irow in range(3):\n",
    "    print(\"\".join(ndata[irow,:100]))"
   ]
  },
  {
   "cell_type": "code",
   "execution_count": 6,
   "metadata": {},
   "outputs": [],
   "source": [
    "ijmax = 140"
   ]
  },
  {
   "cell_type": "code",
   "execution_count": 12,
   "metadata": {},
   "outputs": [],
   "source": [
    "def A(n):\n",
    "    if n<0:\n",
    "        return 0\n",
    "    if n>ijmax-1:\n",
    "        return ijmax-1\n",
    "    else:\n",
    "        return n"
   ]
  },
  {
   "cell_type": "markdown",
   "metadata": {},
   "source": [
    "## question 1"
   ]
  },
  {
   "cell_type": "code",
   "execution_count": 13,
   "metadata": {},
   "outputs": [],
   "source": [
    "def check_symbol(ndata, irow, j, ndigits):\n",
    "    around = ndata[slice(A(irow-1),A(irow+2)),slice(A(j-1),A(j+ndigits+1))]\n",
    "    #print(\"around\", around.flatten())\n",
    "    return any( not char in \"1234567890.\" for char in around.flatten() )\n",
    "\n",
    "\n",
    "def run_row(irow):\n",
    "    row = ndata[irow,:]\n",
    "    new_numbers = []\n",
    "    j = 0\n",
    "    while True:\n",
    "        s = row[j]\n",
    "        if s in digits:\n",
    "            ndigits = 1\n",
    "            while True:\n",
    "                if j+ndigits<=ijmax-1 and row[j+ndigits] in digits:\n",
    "                    ndigits += 1\n",
    "                else:\n",
    "                    break\n",
    "            number = int(\"\".join(row[j:j+ndigits]))\n",
    "            \n",
    "            # check if there is a symbol around the number. If yes, add to list\n",
    "            if check_symbol(ndata, irow, j, ndigits):\n",
    "                new_numbers.append(number)\n",
    "            j += ndigits\n",
    "        else:\n",
    "            j += 1\n",
    "        if j>=ijmax:\n",
    "            break\n",
    "    return new_numbers"
   ]
  },
  {
   "cell_type": "code",
   "execution_count": 14,
   "metadata": {},
   "outputs": [],
   "source": [
    "N = []\n",
    "for i in range(140):\n",
    "    new_numbers = run_row(i)\n",
    "    N.extend(new_numbers)"
   ]
  },
  {
   "cell_type": "code",
   "execution_count": 15,
   "metadata": {},
   "outputs": [
    {
     "data": {
      "text/plain": [
       "532331"
      ]
     },
     "execution_count": 15,
     "metadata": {},
     "output_type": "execute_result"
    }
   ],
   "source": [
    "sum(N)"
   ]
  },
  {
   "cell_type": "markdown",
   "metadata": {},
   "source": [
    "## question 2"
   ]
  },
  {
   "cell_type": "code",
   "execution_count": 40,
   "metadata": {},
   "outputs": [],
   "source": [
    "def look_left_right(around, right=False, i=1):\n",
    "    number = []\n",
    "    j = 3\n",
    "    while True:\n",
    "        if right:\n",
    "            j += 1\n",
    "        else:\n",
    "            j -= 1\n",
    "            if j<0: break\n",
    "        try:\n",
    "            c = around[i,j]\n",
    "        except IndexError:\n",
    "            break\n",
    "        if c in digits:\n",
    "            number.append(c)\n",
    "        else:\n",
    "            break\n",
    "    return number"
   ]
  },
  {
   "cell_type": "code",
   "execution_count": 38,
   "metadata": {},
   "outputs": [],
   "source": [
    "def look_above_below(around, below=False):\n",
    "    if below:\n",
    "        i = 2\n",
    "    else:\n",
    "        i = 0\n",
    "    c = around[i,3]\n",
    "    if c in digits:\n",
    "        number = []\n",
    "        leftdigits = look_left_right(around, i=i)\n",
    "        rightdigits = look_left_right(around, right=True, i=i)\n",
    "        number.extend(leftdigits)\n",
    "        number.append(c)\n",
    "        number.extend(rightdigits)\n",
    "        return [number]\n",
    "    else:\n",
    "        numbers = []\n",
    "        if leftdigits := look_left_right(around, i=i):\n",
    "            numbers.append(leftdigits)\n",
    "        if rightdigits := look_left_right(around, right=True, i=i):\n",
    "            numbers.append(leftdigits)\n",
    "        return numbers"
   ]
  },
  {
   "cell_type": "code",
   "execution_count": 36,
   "metadata": {},
   "outputs": [],
   "source": [
    "def look_for_numbers(around):\n",
    "    \"\"\" star is at [1,3]\n",
    "       [['.' '.' '4' '3' '8' '.' '.']\n",
    "        ['.' '.' '.' '*' '.' '.' '.']\n",
    "        ['6' '2' '4' '.' '.' '7' '4']]\"\"\"\n",
    "    i,j = 1,3\n",
    "    N = []\n",
    "    # look left:\n",
    "    n = look_left_right(around)\n",
    "    if n: N.append(n)\n",
    "    # look right:\n",
    "    n = look_left_right(around, right=True)\n",
    "    if n: N.append(n)\n",
    "    # look above:\n",
    "    ns = look_above_below(around)\n",
    "    print(ns)\n",
    "    N.extend(ns)\n",
    "    # look below:\n",
    "    ns = look_above_below(around, below=True)\n",
    "    print(ns)\n",
    "    N.extend(ns)\n",
    "    print(\"N:\", N)\n",
    "    return N"
   ]
  },
  {
   "cell_type": "code",
   "execution_count": 24,
   "metadata": {},
   "outputs": [],
   "source": [
    "def find_gear(irow):\n",
    "    row = ndata[irow,:]\n",
    "    new_numbers = []\n",
    "    j = 0\n",
    "    while True:\n",
    "        s = row[j]\n",
    "        if s==\"*\":\n",
    "            around = ndata[slice(A(irow-1),A(irow+2)),slice(A(j-3),A(j+3+1))]\n",
    "            print(around)\n",
    "            look_for_numbers(around)\n",
    "        j += 1\n",
    "        if j>=ijmax:\n",
    "            break\n",
    "    return new_numbers"
   ]
  },
  {
   "cell_type": "code",
   "execution_count": null,
   "metadata": {},
   "outputs": [],
   "source": [
    "# for i in range(140):\n",
    "#     new_numbers = find_gear(i)"
   ]
  },
  {
   "cell_type": "code",
   "execution_count": 41,
   "metadata": {},
   "outputs": [
    {
     "name": "stdout",
     "output_type": "stream",
     "text": [
      "[['.' '.' '4' '3' '8' '.' '.']\n",
      " ['.' '.' '.' '*' '.' '.' '.']\n",
      " ['6' '2' '4' '.' '.' '7' '4']]\n",
      "[['4', '3', '8']]\n",
      "[['4', '2', '6']]\n",
      "N: [['4', '3', '8'], ['4', '2', '6']]\n",
      "[['.' '.' '.' '7' '4' '0' '.']\n",
      " ['.' '.' '.' '*' '.' '.' '.']\n",
      " ['.' '.' '.' '.' '5' '3' '3']]\n",
      "[['7', '4', '0']]\n",
      "[[]]\n",
      "N: [['7', '4', '0'], []]\n",
      "[['.' '8' '7' '0' '.' '.' '.']\n",
      " ['.' '.' '.' '*' '.' '.' '.']\n",
      " ['.' '.' '.' '.' '1' '.' '.']]\n",
      "[['7', '8', '0']]\n",
      "[[]]\n",
      "N: [['7', '8', '0'], []]\n"
     ]
    },
    {
     "data": {
      "text/plain": [
       "[]"
      ]
     },
     "execution_count": 41,
     "metadata": {},
     "output_type": "execute_result"
    }
   ],
   "source": [
    "find_gear(1)"
   ]
  },
  {
   "cell_type": "code",
   "execution_count": null,
   "metadata": {},
   "outputs": [],
   "source": []
  }
 ],
 "metadata": {
  "kernelspec": {
   "display_name": "Python 3",
   "language": "python",
   "name": "python3"
  },
  "language_info": {
   "codemirror_mode": {
    "name": "ipython",
    "version": 3
   },
   "file_extension": ".py",
   "mimetype": "text/x-python",
   "name": "python",
   "nbconvert_exporter": "python",
   "pygments_lexer": "ipython3",
   "version": "3.8.1"
  },
  "toc": {
   "base_numbering": 1,
   "nav_menu": {},
   "number_sections": true,
   "sideBar": true,
   "skip_h1_title": false,
   "title_cell": "Table of Contents",
   "title_sidebar": "Contents",
   "toc_cell": true,
   "toc_position": {},
   "toc_section_display": true,
   "toc_window_display": false
  }
 },
 "nbformat": 4,
 "nbformat_minor": 4
}
