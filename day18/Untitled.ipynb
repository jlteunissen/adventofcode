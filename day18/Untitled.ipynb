{
 "cells": [
  {
   "cell_type": "markdown",
   "metadata": {
    "toc": true
   },
   "source": [
    "<h1>Table of Contents<span class=\"tocSkip\"></span></h1>\n",
    "<div class=\"toc\"><ul class=\"toc-item\"><li><span><a href=\"#question-2\" data-toc-modified-id=\"question-2-1\"><span class=\"toc-item-num\">1&nbsp;&nbsp;</span>question 2</a></span></li></ul></div>"
   ]
  },
  {
   "cell_type": "code",
   "execution_count": 1,
   "metadata": {},
   "outputs": [],
   "source": [
    "import numpy as np"
   ]
  },
  {
   "cell_type": "code",
   "execution_count": 111,
   "metadata": {},
   "outputs": [
    {
     "data": {
      "text/plain": [
       "['L 4 (#2a5bf2)', 'U 6 (#296e63)']"
      ]
     },
     "execution_count": 111,
     "metadata": {},
     "output_type": "execute_result"
    }
   ],
   "source": [
    "with open(\"input.txt\") as f:\n",
    "    rawdata = f.read().split(\"\\n\")[:-1]\n",
    "rawdata[-2:]"
   ]
  },
  {
   "cell_type": "code",
   "execution_count": 4,
   "metadata": {},
   "outputs": [],
   "source": [
    "rawdata = \"\"\"\\\n",
    "R 6 (#70c710)\n",
    "D 5 (#0dc571)\n",
    "L 2 (#5713f0)\n",
    "D 2 (#d2c081)\n",
    "R 2 (#59c680)\n",
    "D 2 (#411b91)\n",
    "L 5 (#8ceee2)\n",
    "U 2 (#caa173)\n",
    "L 1 (#1b58a2)\n",
    "U 2 (#caa171)\n",
    "R 2 (#7807d2)\n",
    "U 3 (#a77fa3)\n",
    "L 2 (#015232)\n",
    "U 2 (#7a21e3)\"\"\".split(\"\\n\")"
   ]
  },
  {
   "cell_type": "code",
   "execution_count": 115,
   "metadata": {},
   "outputs": [],
   "source": [
    "data = []\n",
    "for line in rawdata:\n",
    "    v, n, c = line.split(' ')\n",
    "    data.append((v, int(n), c.strip(\"()#\")))\n",
    "V, N, C = zip(*data)\n",
    "# V = np.array(V)\n",
    "# N = np.array(N)\n",
    "# V[:2], N[:2], C[:2]"
   ]
  },
  {
   "cell_type": "code",
   "execution_count": 87,
   "metadata": {},
   "outputs": [],
   "source": [
    "def next_point(point, direction, dist):\n",
    "    # Based on direction and distance, return the next point\n",
    "    if direction == 'R':\n",
    "        return (point[0] + dist, point[1])\n",
    "    elif direction == 'L':\n",
    "        return (point[0] - dist, point[1])\n",
    "    elif direction == 'U':\n",
    "        return (point[0], point[1] - dist)\n",
    "    elif direction == 'D':\n",
    "        return (point[0], point[1] + dist)"
   ]
  },
  {
   "cell_type": "code",
   "execution_count": 88,
   "metadata": {},
   "outputs": [],
   "source": [
    "def area_of_polygon(p, perimeter):\n",
    "    # Use the shoelace formula to get the area of an irregular polygon based on points\n",
    "    a = 0\n",
    "    for i in (range(len(p) - 1)):\n",
    "        a += p[i][0] * p[i + 1][1]\n",
    "        a -= p[i][1] * p[i + 1][0]\n",
    "    a += perimeter  # Don't forget the items in the perimeter\n",
    "    return ((a // 2) + 1)  # Add one to include the first point"
   ]
  },
  {
   "cell_type": "code",
   "execution_count": 94,
   "metadata": {},
   "outputs": [],
   "source": [
    "def parse_points(data):\n",
    "    # Start at point (0, 0) and get use next_point to get an ordered list of all points after moving, include the perimeter\n",
    "    # and plug into area_of_polygon to return the total area of the hole\n",
    "    curr_point = (0, 0)\n",
    "    all_points = [curr_point]  # Shoelace method needs both ends to have the starting point\n",
    "    perimeter = 0\n",
    "    for line in data:\n",
    "        #print(f\"Found point {curr_point}\")\n",
    "        curr_point = next_point(curr_point, line[0], int(line[1]))\n",
    "        perimeter += int(line[1])\n",
    "        all_points.append(curr_point)\n",
    "    return area_of_polygon(all_points, perimeter)"
   ]
  },
  {
   "cell_type": "code",
   "execution_count": 95,
   "metadata": {},
   "outputs": [
    {
     "data": {
      "text/plain": [
       "53300"
      ]
     },
     "execution_count": 95,
     "metadata": {},
     "output_type": "execute_result"
    }
   ],
   "source": [
    "parse_points(data)"
   ]
  },
  {
   "cell_type": "markdown",
   "metadata": {},
   "source": [
    "## question 2"
   ]
  },
  {
   "cell_type": "code",
   "execution_count": 93,
   "metadata": {},
   "outputs": [
    {
     "data": {
      "text/plain": [
       "461937"
      ]
     },
     "execution_count": 93,
     "metadata": {},
     "output_type": "execute_result"
    }
   ],
   "source": [
    "int(\"70c71\", 16)"
   ]
  },
  {
   "cell_type": "code",
   "execution_count": 98,
   "metadata": {},
   "outputs": [
    {
     "data": {
      "text/plain": [
       "461937"
      ]
     },
     "execution_count": 98,
     "metadata": {},
     "output_type": "execute_result"
    }
   ],
   "source": [
    "int(\"70c710\"[:5], 16)"
   ]
  },
  {
   "cell_type": "code",
   "execution_count": 116,
   "metadata": {},
   "outputs": [],
   "source": [
    "Rs = {0:\"R\", 1:\"D\", 2:\"L\", 3:\"U\"}\n",
    "data_new = [[Rs[int(c[-1])], int(c[:5], 16)] for c in C ]\n",
    "Vnew, Rnew = zip(*data_new)"
   ]
  },
  {
   "cell_type": "code",
   "execution_count": 117,
   "metadata": {},
   "outputs": [
    {
     "data": {
      "text/plain": [
       "64294334780659"
      ]
     },
     "execution_count": 117,
     "metadata": {},
     "output_type": "execute_result"
    }
   ],
   "source": [
    "# 952408144115 is too low!\n",
    "parse_points(data_new)"
   ]
  },
  {
   "cell_type": "code",
   "execution_count": null,
   "metadata": {},
   "outputs": [],
   "source": []
  }
 ],
 "metadata": {
  "kernelspec": {
   "display_name": "Python 3",
   "language": "python",
   "name": "python3"
  },
  "language_info": {
   "codemirror_mode": {
    "name": "ipython",
    "version": 3
   },
   "file_extension": ".py",
   "mimetype": "text/x-python",
   "name": "python",
   "nbconvert_exporter": "python",
   "pygments_lexer": "ipython3",
   "version": "3.7.6"
  },
  "toc": {
   "base_numbering": 1,
   "nav_menu": {},
   "number_sections": true,
   "sideBar": true,
   "skip_h1_title": false,
   "title_cell": "Table of Contents",
   "title_sidebar": "Contents",
   "toc_cell": true,
   "toc_position": {},
   "toc_section_display": true,
   "toc_window_display": false
  }
 },
 "nbformat": 4,
 "nbformat_minor": 4
}
