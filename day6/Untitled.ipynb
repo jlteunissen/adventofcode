{
 "cells": [
  {
   "cell_type": "markdown",
   "metadata": {
    "toc": true
   },
   "source": [
    "<h1>Table of Contents<span class=\"tocSkip\"></span></h1>\n",
    "<div class=\"toc\"><ul class=\"toc-item\"><li><span><a href=\"#question-2\" data-toc-modified-id=\"question-2-1\"><span class=\"toc-item-num\">1&nbsp;&nbsp;</span>question 2</a></span></li></ul></div>"
   ]
  },
  {
   "cell_type": "code",
   "execution_count": 34,
   "metadata": {},
   "outputs": [],
   "source": [
    "import numpy as np"
   ]
  },
  {
   "cell_type": "code",
   "execution_count": 7,
   "metadata": {},
   "outputs": [
    {
     "data": {
      "text/plain": [
       "([53, 71, 78, 80], [275, 1181, 1215, 1524])"
      ]
     },
     "execution_count": 7,
     "metadata": {},
     "output_type": "execute_result"
    }
   ],
   "source": [
    "with open(\"input.txt\") as f:\n",
    "    times = list(map(int, f.readline().strip().split(\":\")[1].split()))\n",
    "    distances = list(map(int, f.readline().strip().split(\":\")[1].split()))\n",
    "times, distances"
   ]
  },
  {
   "cell_type": "code",
   "execution_count": 8,
   "metadata": {},
   "outputs": [],
   "source": [
    "time, distance = times[0], distances[0]"
   ]
  },
  {
   "cell_type": "code",
   "execution_count": 26,
   "metadata": {},
   "outputs": [],
   "source": [
    "def get_slowest(time, distance):\n",
    "    waittime = 1\n",
    "    while True:\n",
    "        traveltime = time - waittime\n",
    "        new_distance = waittime * traveltime\n",
    "        if new_distance > distance:\n",
    "            print(f\"waiting {waittime} seconds and higher wins you the race\")\n",
    "            return waittime\n",
    "            break\n",
    "        waittime += 1\n",
    "\n",
    "def get_fastest(time, distance):\n",
    "    traveltime = 1\n",
    "    while True:\n",
    "        waittime = time - traveltime\n",
    "        new_distance = waittime * traveltime\n",
    "        if new_distance > distance:\n",
    "            print(f\"waiting {waittime} seconds and higher wins you the race\")\n",
    "            return waittime\n",
    "            break\n",
    "        traveltime += 1"
   ]
  },
  {
   "cell_type": "code",
   "execution_count": 33,
   "metadata": {},
   "outputs": [
    {
     "name": "stdout",
     "output_type": "stream",
     "text": [
      "waiting 6 seconds and higher wins you the race\n",
      "waiting 47 seconds and higher wins you the race\n"
     ]
    }
   ],
   "source": [
    "tslowest = get_slowest(time, distance)\n",
    "tfastest = get_fastest(time, distance)\n",
    "options = (tfastest - tslowest) + 1"
   ]
  },
  {
   "cell_type": "code",
   "execution_count": 35,
   "metadata": {},
   "outputs": [
    {
     "name": "stdout",
     "output_type": "stream",
     "text": [
      "waiting 6 seconds and higher wins you the race\n",
      "waiting 47 seconds and higher wins you the race\n",
      "waiting 27 seconds and higher wins you the race\n",
      "waiting 44 seconds and higher wins you the race\n",
      "waiting 22 seconds and higher wins you the race\n",
      "waiting 56 seconds and higher wins you the race\n",
      "waiting 32 seconds and higher wins you the race\n",
      "waiting 48 seconds and higher wins you the race\n"
     ]
    },
    {
     "data": {
      "text/plain": [
       "[42, 18, 35, 17]"
      ]
     },
     "execution_count": 35,
     "metadata": {},
     "output_type": "execute_result"
    }
   ],
   "source": [
    "options = []\n",
    "for time, distance in zip(times, distances):\n",
    "    tslowest = get_slowest(time, distance)\n",
    "    tfastest = get_fastest(time, distance)\n",
    "    noptions = (tfastest - tslowest) + 1\n",
    "    options.append(noptions)\n",
    "options"
   ]
  },
  {
   "cell_type": "code",
   "execution_count": 36,
   "metadata": {},
   "outputs": [
    {
     "data": {
      "text/plain": [
       "449820"
      ]
     },
     "execution_count": 36,
     "metadata": {},
     "output_type": "execute_result"
    }
   ],
   "source": [
    "np.prod(options)"
   ]
  },
  {
   "cell_type": "markdown",
   "metadata": {},
   "source": [
    "## question 2"
   ]
  },
  {
   "cell_type": "code",
   "execution_count": 48,
   "metadata": {},
   "outputs": [
    {
     "data": {
      "text/plain": [
       "(53717880, 275118112151524)"
      ]
     },
     "execution_count": 48,
     "metadata": {},
     "output_type": "execute_result"
    }
   ],
   "source": [
    "with open(\"input.txt\") as f:\n",
    "    time = int(\"\".join(f.readline().strip().split(\":\")[1].split()))\n",
    "    distance = int(\"\".join(f.readline().strip().split(\":\")[1].split()))\n",
    "time, distance"
   ]
  },
  {
   "cell_type": "code",
   "execution_count": 43,
   "metadata": {},
   "outputs": [
    {
     "data": {
      "text/plain": [
       "'        53     71     78     80'"
      ]
     },
     "execution_count": 43,
     "metadata": {},
     "output_type": "execute_result"
    }
   ],
   "source": [
    "def get_slowest(time, distance):\n",
    "    waittime = 1\n",
    "    while True:\n",
    "        traveltime = time - waittime\n",
    "        new_distance = waittime * traveltime\n",
    "        if new_distance > distance:\n",
    "            print(f\"waiting {waittime} seconds and higher wins you the race\")\n",
    "            return waittime\n",
    "            break\n",
    "        waittime += 1\n",
    "\n",
    "def get_fastest(time, distance):\n",
    "    traveltime = 1\n",
    "    while True:\n",
    "        waittime = time - traveltime\n",
    "        new_distance = waittime * traveltime\n",
    "        if new_distance > distance:\n",
    "            print(f\"waiting {waittime} seconds and higher wins you the race\")\n",
    "            return waittime\n",
    "            break\n",
    "        traveltime += 1"
   ]
  },
  {
   "cell_type": "code",
   "execution_count": 49,
   "metadata": {},
   "outputs": [
    {
     "name": "stdout",
     "output_type": "stream",
     "text": [
      "waiting 5733493 seconds and higher wins you the race\n",
      "waiting 47984387 seconds and higher wins you the race\n"
     ]
    },
    {
     "data": {
      "text/plain": [
       "42250895"
      ]
     },
     "execution_count": 49,
     "metadata": {},
     "output_type": "execute_result"
    }
   ],
   "source": [
    "tslowest = get_slowest(time, distance)\n",
    "tfastest = get_fastest(time, distance)\n",
    "noptions = (tfastest - tslowest) + 1\n",
    "noptions"
   ]
  },
  {
   "cell_type": "code",
   "execution_count": null,
   "metadata": {},
   "outputs": [],
   "source": []
  }
 ],
 "metadata": {
  "kernelspec": {
   "display_name": "Python 3",
   "language": "python",
   "name": "python3"
  },
  "language_info": {
   "codemirror_mode": {
    "name": "ipython",
    "version": 3
   },
   "file_extension": ".py",
   "mimetype": "text/x-python",
   "name": "python",
   "nbconvert_exporter": "python",
   "pygments_lexer": "ipython3",
   "version": "3.8.1"
  },
  "toc": {
   "base_numbering": 1,
   "nav_menu": {},
   "number_sections": true,
   "sideBar": true,
   "skip_h1_title": false,
   "title_cell": "Table of Contents",
   "title_sidebar": "Contents",
   "toc_cell": true,
   "toc_position": {},
   "toc_section_display": true,
   "toc_window_display": false
  }
 },
 "nbformat": 4,
 "nbformat_minor": 4
}
