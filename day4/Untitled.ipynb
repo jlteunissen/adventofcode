{
 "cells": [
  {
   "cell_type": "markdown",
   "metadata": {
    "toc": true
   },
   "source": [
    "<h1>Table of Contents<span class=\"tocSkip\"></span></h1>\n",
    "<div class=\"toc\"><ul class=\"toc-item\"><li><span><a href=\"#question-1\" data-toc-modified-id=\"question-1-1\"><span class=\"toc-item-num\">1&nbsp;&nbsp;</span>question 1</a></span></li><li><span><a href=\"#question-2\" data-toc-modified-id=\"question-2-2\"><span class=\"toc-item-num\">2&nbsp;&nbsp;</span>question 2</a></span></li></ul></div>"
   ]
  },
  {
   "cell_type": "code",
   "execution_count": 36,
   "metadata": {},
   "outputs": [],
   "source": [
    "import numpy as np"
   ]
  },
  {
   "cell_type": "code",
   "execution_count": 1,
   "metadata": {},
   "outputs": [],
   "source": [
    "with open(\"input.txt\") as f:\n",
    "    data = [ line.strip() for line in f.readlines() ]"
   ]
  },
  {
   "cell_type": "code",
   "execution_count": 3,
   "metadata": {},
   "outputs": [],
   "source": [
    "cardid, rest = data[0].split(\":\")"
   ]
  },
  {
   "cell_type": "code",
   "execution_count": 17,
   "metadata": {},
   "outputs": [],
   "source": [
    "winnings, N = dict(), dict()\n",
    "for dat in data:\n",
    "    cardid, rest = dat.split(\":\")\n",
    "    cid = int(cardid.split()[1])\n",
    "    winning, numbers = rest.split(\"|\")\n",
    "    winnings[cid] = set(map(int, winning.strip().split()))\n",
    "    N[cid] = set(map(int, numbers.strip().split()))"
   ]
  },
  {
   "cell_type": "markdown",
   "metadata": {},
   "source": [
    "## question 1"
   ]
  },
  {
   "cell_type": "code",
   "execution_count": 44,
   "metadata": {},
   "outputs": [
    {
     "data": {
      "text/plain": [
       "26443"
      ]
     },
     "execution_count": 44,
     "metadata": {},
     "output_type": "execute_result"
    }
   ],
   "source": [
    "total = 0\n",
    "for cid in winnings:\n",
    "    nwinning = len(winnings[cid] & N[cid])\n",
    "    if nwinning:\n",
    "        total += 2**(nwinning-1)\n",
    "int(total)"
   ]
  },
  {
   "cell_type": "markdown",
   "metadata": {},
   "source": [
    "## question 2"
   ]
  },
  {
   "cell_type": "code",
   "execution_count": 43,
   "metadata": {},
   "outputs": [
    {
     "data": {
      "text/plain": [
       "6284877"
      ]
     },
     "execution_count": 43,
     "metadata": {},
     "output_type": "execute_result"
    }
   ],
   "source": [
    "copies = np.ones(len(N))\n",
    "for cid in range(1, len(N)+1):\n",
    "    nwinnings = len(winnings[cid] & N[cid])\n",
    "    copies[cid:cid+nwinnings] += copies[cid-1]\n",
    "int(np.sum(copies))"
   ]
  }
 ],
 "metadata": {
  "kernelspec": {
   "display_name": "Python 3",
   "language": "python",
   "name": "python3"
  },
  "language_info": {
   "codemirror_mode": {
    "name": "ipython",
    "version": 3
   },
   "file_extension": ".py",
   "mimetype": "text/x-python",
   "name": "python",
   "nbconvert_exporter": "python",
   "pygments_lexer": "ipython3",
   "version": "3.8.1"
  },
  "toc": {
   "base_numbering": 1,
   "nav_menu": {},
   "number_sections": true,
   "sideBar": true,
   "skip_h1_title": false,
   "title_cell": "Table of Contents",
   "title_sidebar": "Contents",
   "toc_cell": true,
   "toc_position": {},
   "toc_section_display": true,
   "toc_window_display": false
  }
 },
 "nbformat": 4,
 "nbformat_minor": 4
}
