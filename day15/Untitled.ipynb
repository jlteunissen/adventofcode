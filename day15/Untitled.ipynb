{
 "cells": [
  {
   "cell_type": "markdown",
   "metadata": {
    "toc": true
   },
   "source": [
    "<h1>Table of Contents<span class=\"tocSkip\"></span></h1>\n",
    "<div class=\"toc\"><ul class=\"toc-item\"><li><span><a href=\"#testdata\" data-toc-modified-id=\"testdata-1\"><span class=\"toc-item-num\">1&nbsp;&nbsp;</span>testdata</a></span></li><li><span><a href=\"#real-data\" data-toc-modified-id=\"real-data-2\"><span class=\"toc-item-num\">2&nbsp;&nbsp;</span>real data</a></span></li><li><span><a href=\"#question-1\" data-toc-modified-id=\"question-1-3\"><span class=\"toc-item-num\">3&nbsp;&nbsp;</span>question 1</a></span></li><li><span><a href=\"#question-2\" data-toc-modified-id=\"question-2-4\"><span class=\"toc-item-num\">4&nbsp;&nbsp;</span>question 2</a></span></li></ul></div>"
   ]
  },
  {
   "cell_type": "code",
   "execution_count": null,
   "metadata": {},
   "outputs": [],
   "source": [
    "import numpy as np\n",
    "import hashlib\n",
    "from collections import defaultdict, deque"
   ]
  },
  {
   "cell_type": "code",
   "execution_count": null,
   "metadata": {},
   "outputs": [],
   "source": [
    "ord('H')"
   ]
  },
  {
   "cell_type": "markdown",
   "metadata": {},
   "source": [
    "## testdata"
   ]
  },
  {
   "cell_type": "code",
   "execution_count": null,
   "metadata": {},
   "outputs": [],
   "source": [
    "data = \"HASH\""
   ]
  },
  {
   "cell_type": "code",
   "execution_count": null,
   "metadata": {},
   "outputs": [],
   "source": [
    "datas = \"rn=1,cm-,qp=3,cm=2,qp-,pc=4,ot=9,ab=5,pc-,pc=6,ot=7\".split(',')"
   ]
  },
  {
   "cell_type": "markdown",
   "metadata": {},
   "source": [
    "## real data"
   ]
  },
  {
   "cell_type": "code",
   "execution_count": null,
   "metadata": {},
   "outputs": [],
   "source": [
    "with open(\"input.txt\") as f:\n",
    "    datas = f.read().strip().split(',')\n",
    "datas[0], datas[-1]"
   ]
  },
  {
   "cell_type": "markdown",
   "metadata": {},
   "source": [
    "## question 1"
   ]
  },
  {
   "cell_type": "code",
   "execution_count": null,
   "metadata": {},
   "outputs": [],
   "source": [
    "def get_hash(w):\n",
    "    current = 0\n",
    "    for char in w:\n",
    "        asc = ord(char)\n",
    "        #print(char, asc)\n",
    "        current += asc\n",
    "        current *= 17\n",
    "        current %= 256\n",
    "    return current"
   ]
  },
  {
   "cell_type": "code",
   "execution_count": null,
   "metadata": {},
   "outputs": [],
   "source": [
    "get_hash(\"HASH\")"
   ]
  },
  {
   "cell_type": "code",
   "execution_count": null,
   "metadata": {},
   "outputs": [],
   "source": [
    "total = 0\n",
    "for data in datas:\n",
    "    h = get_hash(data)\n",
    "    #print(data, h)\n",
    "    total += h\n",
    "total"
   ]
  },
  {
   "cell_type": "markdown",
   "metadata": {},
   "source": [
    "## question 2"
   ]
  },
  {
   "cell_type": "code",
   "execution_count": null,
   "metadata": {},
   "outputs": [],
   "source": [
    "# using two defaultdicts! :)\n",
    "wall_labels = defaultdict(deque)\n",
    "wall_fpoints = defaultdict(dict)\n",
    "\n",
    "for data in datas[:]:\n",
    "    if \"=\" in data:\n",
    "        dat, idx = data.split(\"=\")\n",
    "        box = get_hash(dat)\n",
    "        if not dat in wall_labels[box]:\n",
    "            wall_labels[box].append(dat)\n",
    "        wall_fpoints[box][dat] = int(idx)\n",
    "    elif \"-\" in data:\n",
    "        dat = data.split(\"-\")[0]\n",
    "        box = get_hash(dat)\n",
    "        if dat in wall_fpoints[box]:\n",
    "            del wall_fpoints[box][dat]\n",
    "            wall_labels[box].remove(dat)"
   ]
  },
  {
   "cell_type": "code",
   "execution_count": null,
   "metadata": {},
   "outputs": [],
   "source": [
    "total = 0\n",
    "for box in wall_labels:\n",
    "    for i, label in enumerate(wall_labels[box], 1):\n",
    "        total += (box+1) * i * wall_fpoints[box][label]\n",
    "total"
   ]
  }
 ],
 "metadata": {
  "kernelspec": {
   "display_name": "Python 3",
   "language": "python",
   "name": "python3"
  },
  "language_info": {
   "codemirror_mode": {
    "name": "ipython",
    "version": 3
   },
   "file_extension": ".py",
   "mimetype": "text/x-python",
   "name": "python",
   "nbconvert_exporter": "python",
   "pygments_lexer": "ipython3",
   "version": "3.8.1"
  },
  "toc": {
   "base_numbering": 1,
   "nav_menu": {},
   "number_sections": true,
   "sideBar": true,
   "skip_h1_title": false,
   "title_cell": "Table of Contents",
   "title_sidebar": "Contents",
   "toc_cell": true,
   "toc_position": {},
   "toc_section_display": true,
   "toc_window_display": false
  }
 },
 "nbformat": 4,
 "nbformat_minor": 4
}
