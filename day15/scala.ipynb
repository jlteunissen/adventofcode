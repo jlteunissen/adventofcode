{
 "cells": [
  {
   "cell_type": "code",
   "execution_count": null,
   "id": "074aae96",
   "metadata": {},
   "outputs": [],
   "source": [
    "import scala.io.Source\n",
    "import scala.collection.mutable.{Map, Set, ListBuffer}"
   ]
  },
  {
   "cell_type": "code",
   "execution_count": null,
   "id": "8662705c",
   "metadata": {},
   "outputs": [],
   "source": [
    "val source = Source.fromFile(\"input.txt\")\n",
    "val datas = try source.mkString.strip().split(',').toList\n",
    "finally source.close();\n",
    "\n",
    "val firstElement = datas.head\n",
    "val lastElement = datas.last\n",
    "\n",
    "println(s\"First element: $firstElement\")\n",
    "println(s\"Last element: $lastElement\")"
   ]
  },
  {
   "cell_type": "markdown",
   "id": "ff263362",
   "metadata": {},
   "source": [
    "## testdata"
   ]
  },
  {
   "cell_type": "code",
   "execution_count": null,
   "id": "6668117d",
   "metadata": {},
   "outputs": [],
   "source": [
    "val datas = \"rn=1,cm-,qp=3,cm=2,qp-,pc=4,ot=9,ab=5,pc-,pc=6,ot=7\".split(\",\")\n",
    "\n",
    "// Print each element in the resulting array\n",
    "datas.foreach(println)"
   ]
  },
  {
   "cell_type": "code",
   "execution_count": null,
   "id": "c8368253",
   "metadata": {},
   "outputs": [],
   "source": [
    "val data = \"HASH\""
   ]
  },
  {
   "cell_type": "markdown",
   "id": "a9e6bbb0",
   "metadata": {},
   "source": [
    "## question 1"
   ]
  },
  {
   "cell_type": "code",
   "execution_count": null,
   "id": "a02a8c02",
   "metadata": {},
   "outputs": [],
   "source": [
    "def getHash(w: String): Int = {\n",
    "  var current = 0\n",
    "\n",
    "  for (char <- w) {\n",
    "    val asc = char.toInt\n",
    "    current += asc\n",
    "    current *= 17\n",
    "    current %= 256\n",
    "  }\n",
    "\n",
    "  current\n",
    "}"
   ]
  },
  {
   "cell_type": "code",
   "execution_count": null,
   "id": "7bc515ea",
   "metadata": {},
   "outputs": [],
   "source": [
    "getHash(data)"
   ]
  },
  {
   "cell_type": "code",
   "execution_count": null,
   "id": "7738efc1",
   "metadata": {},
   "outputs": [],
   "source": [
    "var total = 0\n",
    "for (data <- datas) {\n",
    "  val h = getHash(data)\n",
    "  total += h\n",
    "}"
   ]
  },
  {
   "cell_type": "markdown",
   "id": "8153000f",
   "metadata": {},
   "source": [
    "## question 2"
   ]
  },
  {
   "cell_type": "code",
   "execution_count": null,
   "id": "229ee01a",
   "metadata": {},
   "outputs": [],
   "source": [
    "val wallLabels: Map[Int, ListBuffer[String]] = Map()\n",
    "val wallFPoints: Map[Int, Map[String, Int]] = Map()\n",
    "\n",
    "for (data <- datas) {\n",
    "  if (data.contains(\"=\")) {\n",
    "    val Array(dat, idx) = data.split(\"=\")\n",
    "    val box = getHash(dat)\n",
    "\n",
    "    if (!wallLabels.contains(box)) {\n",
    "      wallLabels(box) = ListBuffer[String]()\n",
    "    }\n",
    "    if (!wallLabels(box).contains(dat)) {\n",
    "      wallLabels(box) += dat\n",
    "    }\n",
    "\n",
    "    if (!wallFPoints.contains(box)) {\n",
    "      wallFPoints(box) = Map[String, Int]()\n",
    "    }\n",
    "    wallFPoints(box)(dat) = idx.toInt\n",
    "  } else if (data.contains(\"-\")) {\n",
    "    val dat = data.split(\"-\")(0)\n",
    "    val box = getHash(dat)\n",
    "\n",
    "    if (wallFPoints.contains(box) && wallFPoints(box).contains(dat)) {\n",
    "      wallFPoints(box) -= dat\n",
    "      wallLabels(box) -= dat\n",
    "    }\n",
    "  }\n",
    "}\n",
    "\n",
    "// Print wallLabels and wallFPoints to observe the changes made\n",
    "// println(\"Wall Labels:\")\n",
    "// wallLabels.foreach { case (key, value) =>\n",
    "//   println(s\"Box $key: $value\")\n",
    "// }\n",
    "\n",
    "// println(\"\\nWall FPoints:\")\n",
    "// wallFPoints.foreach { case (key, value) =>\n",
    "//   println(s\"Box $key: $value\")\n",
    "// }"
   ]
  },
  {
   "cell_type": "code",
   "execution_count": null,
   "id": "0ce00e8e",
   "metadata": {},
   "outputs": [],
   "source": [
    "var total = 0\n",
    "\n",
    "for ((box, labels) <- wallLabels) {\n",
    "  for ((label, index) <- labels.zipWithIndex) {\n",
    "    total += (box + 1) * (index + 1) * wallFPoints(box)(label)\n",
    "  }\n",
    "}\n",
    "\n",
    "total // This value represents the accumulated total calculated from wall_labels and wall_fpoints"
   ]
  }
 ],
 "metadata": {
  "kernelspec": {
   "display_name": "spylon-kernel",
   "language": "scala",
   "name": "spylon-kernel"
  },
  "language_info": {
   "codemirror_mode": "text/x-scala",
   "file_extension": ".scala",
   "help_links": [
    {
     "text": "MetaKernel Magics",
     "url": "https://metakernel.readthedocs.io/en/latest/source/README.html"
    }
   ],
   "mimetype": "text/x-scala",
   "name": "scala",
   "pygments_lexer": "scala",
   "version": "0.4.1"
  }
 },
 "nbformat": 4,
 "nbformat_minor": 5
}
